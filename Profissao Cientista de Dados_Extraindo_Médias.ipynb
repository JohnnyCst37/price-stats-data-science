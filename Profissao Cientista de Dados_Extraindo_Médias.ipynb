{
 "cells": [
  {
   "cell_type": "markdown",
   "metadata": {
    "id": "VOTu7U3Mvxzq"
   },
   "source": [
    "# **MÓDULO 13**\n",
    "# Projeto - Fundamentos da Descoberta de Dados"
   ]
  },
  {
   "cell_type": "markdown",
   "metadata": {
    "id": "-HYgkdAywLd0"
   },
   "source": [
    "Nesse projeto trabalharemos com a base de dados de produtos de um supermercado do Chile.\n",
    "A ideia é que vocês apliquem os conceitos estatísticos vistos no último módulo, mais os conceitos de visualizações de dados através de gráficos e finalizem publicando no seu github!"
   ]
  },
  {
   "cell_type": "code",
   "execution_count": 12,
   "metadata": {
    "id": "OTdTnbzUwE2X"
   },
   "outputs": [
    {
     "name": "stdout",
     "output_type": "stream",
     "text": [
      "Requirement already satisfied: plotly in c:\\users\\ferna\\anaconda3\\lib\\site-packages (6.3.0)\n",
      "Requirement already satisfied: narwhals>=1.15.1 in c:\\users\\ferna\\appdata\\roaming\\python\\python313\\site-packages (from plotly) (2.0.1)\n",
      "Requirement already satisfied: packaging in c:\\users\\ferna\\anaconda3\\lib\\site-packages (from plotly) (24.2)\n"
     ]
    }
   ],
   "source": [
    "import pandas as pd\n",
    "import matplotlib.pyplot as plt\n",
    "import plotly.express as px\n",
    "import numpy as np\n",
    "import seaborn as sns\n",
    "!pip install plotly --upgrade\n",
    "\n"
   ]
  },
  {
   "cell_type": "markdown",
   "metadata": {
    "id": "ky1Dk_KWywEa"
   },
   "source": [
    "Faça a leitura dos dados do arquivo CSV:\n",
    "\n",
    "\n",
    "Altere o código abaixo de acordo com seu diretório."
   ]
  },
  {
   "cell_type": "code",
   "execution_count": 13,
   "metadata": {
    "colab": {
     "base_uri": "https://localhost:8080/",
     "height": 363
    },
    "id": "bRBFyVB5wlny",
    "outputId": "cde5190b-fecf-48f8-e98c-5ec7e469bcfb"
   },
   "outputs": [
    {
     "data": {
      "text/html": [
       "<div>\n",
       "<style scoped>\n",
       "    .dataframe tbody tr th:only-of-type {\n",
       "        vertical-align: middle;\n",
       "    }\n",
       "\n",
       "    .dataframe tbody tr th {\n",
       "        vertical-align: top;\n",
       "    }\n",
       "\n",
       "    .dataframe thead th {\n",
       "        text-align: right;\n",
       "    }\n",
       "</style>\n",
       "<table border=\"1\" class=\"dataframe\">\n",
       "  <thead>\n",
       "    <tr style=\"text-align: right;\">\n",
       "      <th></th>\n",
       "      <th>title</th>\n",
       "      <th>Marca</th>\n",
       "      <th>Preco_Normal</th>\n",
       "      <th>Preco_Desconto</th>\n",
       "      <th>Preco_Anterior</th>\n",
       "      <th>Desconto</th>\n",
       "      <th>Categoria</th>\n",
       "    </tr>\n",
       "  </thead>\n",
       "  <tbody>\n",
       "    <tr>\n",
       "      <th>0</th>\n",
       "      <td>Pack 12 un, Leche extra proteína 1 L</td>\n",
       "      <td>Loncoleche</td>\n",
       "      <td>19788</td>\n",
       "      <td>0</td>\n",
       "      <td>0</td>\n",
       "      <td>0</td>\n",
       "      <td>lacteos</td>\n",
       "    </tr>\n",
       "    <tr>\n",
       "      <th>1</th>\n",
       "      <td>Pack 12 un, Leche chocolate receta original 1 L</td>\n",
       "      <td>Soprole</td>\n",
       "      <td>18228</td>\n",
       "      <td>0</td>\n",
       "      <td>0</td>\n",
       "      <td>0</td>\n",
       "      <td>lacteos</td>\n",
       "    </tr>\n",
       "    <tr>\n",
       "      <th>2</th>\n",
       "      <td>Pack 12 un, Leche semidescremada chocolate 1 L</td>\n",
       "      <td>Soprole</td>\n",
       "      <td>18228</td>\n",
       "      <td>0</td>\n",
       "      <td>0</td>\n",
       "      <td>0</td>\n",
       "      <td>lacteos</td>\n",
       "    </tr>\n",
       "    <tr>\n",
       "      <th>3</th>\n",
       "      <td>Pack 12 un, Leche semidescremada frutilla 1 L</td>\n",
       "      <td>Soprole</td>\n",
       "      <td>18228</td>\n",
       "      <td>0</td>\n",
       "      <td>0</td>\n",
       "      <td>0</td>\n",
       "      <td>lacteos</td>\n",
       "    </tr>\n",
       "    <tr>\n",
       "      <th>4</th>\n",
       "      <td>Pack 12 un, Leche sin lactosa chocolate 1 L</td>\n",
       "      <td>Loncoleche</td>\n",
       "      <td>17988</td>\n",
       "      <td>0</td>\n",
       "      <td>0</td>\n",
       "      <td>0</td>\n",
       "      <td>lacteos</td>\n",
       "    </tr>\n",
       "    <tr>\n",
       "      <th>5</th>\n",
       "      <td>Pack 12 un, Leche sin lactosa frutilla 1 L</td>\n",
       "      <td>Loncoleche</td>\n",
       "      <td>17988</td>\n",
       "      <td>0</td>\n",
       "      <td>0</td>\n",
       "      <td>0</td>\n",
       "      <td>lacteos</td>\n",
       "    </tr>\n",
       "    <tr>\n",
       "      <th>6</th>\n",
       "      <td>Pack 12 un, Leche saborizada light chocolate 1 L</td>\n",
       "      <td>Loncoleche</td>\n",
       "      <td>17988</td>\n",
       "      <td>0</td>\n",
       "      <td>0</td>\n",
       "      <td>0</td>\n",
       "      <td>lacteos</td>\n",
       "    </tr>\n",
       "    <tr>\n",
       "      <th>7</th>\n",
       "      <td>Pack 12 un, Leche saborizada frutilla 1 L</td>\n",
       "      <td>Colun</td>\n",
       "      <td>17388</td>\n",
       "      <td>0</td>\n",
       "      <td>0</td>\n",
       "      <td>0</td>\n",
       "      <td>lacteos</td>\n",
       "    </tr>\n",
       "    <tr>\n",
       "      <th>8</th>\n",
       "      <td>Pack 12 un, Leche saborizada vainilla 1 L</td>\n",
       "      <td>Colun</td>\n",
       "      <td>17388</td>\n",
       "      <td>0</td>\n",
       "      <td>0</td>\n",
       "      <td>0</td>\n",
       "      <td>lacteos</td>\n",
       "    </tr>\n",
       "    <tr>\n",
       "      <th>9</th>\n",
       "      <td>Pack 12 un, Leche saborizada manjar 1 L</td>\n",
       "      <td>Colun</td>\n",
       "      <td>17388</td>\n",
       "      <td>0</td>\n",
       "      <td>0</td>\n",
       "      <td>0</td>\n",
       "      <td>lacteos</td>\n",
       "    </tr>\n",
       "  </tbody>\n",
       "</table>\n",
       "</div>"
      ],
      "text/plain": [
       "                                              title       Marca  Preco_Normal  \\\n",
       "0              Pack 12 un, Leche extra proteína 1 L  Loncoleche         19788   \n",
       "1   Pack 12 un, Leche chocolate receta original 1 L     Soprole         18228   \n",
       "2    Pack 12 un, Leche semidescremada chocolate 1 L     Soprole         18228   \n",
       "3     Pack 12 un, Leche semidescremada frutilla 1 L     Soprole         18228   \n",
       "4       Pack 12 un, Leche sin lactosa chocolate 1 L  Loncoleche         17988   \n",
       "5        Pack 12 un, Leche sin lactosa frutilla 1 L  Loncoleche         17988   \n",
       "6  Pack 12 un, Leche saborizada light chocolate 1 L  Loncoleche         17988   \n",
       "7         Pack 12 un, Leche saborizada frutilla 1 L       Colun         17388   \n",
       "8         Pack 12 un, Leche saborizada vainilla 1 L       Colun         17388   \n",
       "9           Pack 12 un, Leche saborizada manjar 1 L       Colun         17388   \n",
       "\n",
       "   Preco_Desconto  Preco_Anterior  Desconto Categoria  \n",
       "0               0               0         0   lacteos  \n",
       "1               0               0         0   lacteos  \n",
       "2               0               0         0   lacteos  \n",
       "3               0               0         0   lacteos  \n",
       "4               0               0         0   lacteos  \n",
       "5               0               0         0   lacteos  \n",
       "6               0               0         0   lacteos  \n",
       "7               0               0         0   lacteos  \n",
       "8               0               0         0   lacteos  \n",
       "9               0               0         0   lacteos  "
      ]
     },
     "execution_count": 13,
     "metadata": {},
     "output_type": "execute_result"
    }
   ],
   "source": [
    "df = pd.read_csv(\"MODULO7_PROJETOFINAL_BASE_SUPERMERCADO.csv\")\n",
    "\n",
    "df.head(10)"
   ]
  },
  {
   "cell_type": "markdown",
   "metadata": {
    "id": "YJgKJ7Nxwtw2"
   },
   "source": [
    "Os campos do nosso dataframe são:\n",
    "\n",
    "**Title:** Nome do produto.\n",
    "\n",
    "\n",
    "**Marca:** A marca do produto.\n",
    "\n",
    "\n",
    "**Preco_Normal:** O preço em que o produto costuma ser vendido quando não há desconto.\n",
    "\n",
    "\n",
    "**Preco_Desconto:** O preço vendido após o desconto ser aplicado.\n",
    "\n",
    "\n",
    "**Preco_Anterior:** Preço em que era comercializado o produto antes do desconto aplicado.\n",
    "\n",
    "\n",
    "**Desconto:** Total de desconto aplicado.\n",
    "\n",
    "\n",
    "\n",
    "\n",
    "\n",
    "\n",
    "As colunas que aparecem com valores 0 são para os produtos onde não tivemos descontos aplicados.\n",
    "\n",
    "\n",
    "As categorias estão em espanhol!"
   ]
  },
  {
   "cell_type": "markdown",
   "metadata": {
    "id": "4u6WBeyyy6ri"
   },
   "source": [
    "# 1 - Traga a média e a mediana dos preços - coluna Preco_Normal - por categoria de produto.\n",
    "# Identifique as categorias que parecem ter um valor de média abaixo ou acima da mediana."
   ]
  },
  {
   "cell_type": "code",
   "execution_count": 14,
   "metadata": {},
   "outputs": [
    {
     "name": "stdout",
     "output_type": "stream",
     "text": [
      "Verificação inicial: \n",
      "                                             title       Marca  Preco_Normal  Preco_Desconto  Preco_Anterior  Desconto Categoria\n",
      "0             Pack 12 un, Leche extra proteína 1 L  Loncoleche         19788               0               0         0   lacteos\n",
      "1  Pack 12 un, Leche chocolate receta original 1 L     Soprole         18228               0               0         0   lacteos\n",
      "2   Pack 12 un, Leche semidescremada chocolate 1 L     Soprole         18228               0               0         0   lacteos\n",
      "3    Pack 12 un, Leche semidescremada frutilla 1 L     Soprole         18228               0               0         0   lacteos\n",
      "4      Pack 12 un, Leche sin lactosa chocolate 1 L  Loncoleche         17988               0               0         0   lacteos\n",
      "                                                 title    Marca  Preco_Normal  Preco_Desconto  Preco_Anterior  Desconto                   Categoria\n",
      "1102                  Helado bresler pote cassata 2,4l  Bresler             0            4359            5449      1090                  congelados\n",
      "1103   Helado Trisabor chocolate lúcuma y manjar 2,4 L  Bresler             0            4359            5449      1090                  congelados\n",
      "1104            Shampoo Reconstrucción Completa 400 ml     Dove             0            2690            3849      1159  belleza-y-cuidado-personal\n",
      "1105         Acondicionador Hidratación Intensa 400 ml     Dove             0            2690            3849      1159  belleza-y-cuidado-personal\n",
      "1106  Leche en Polvo Nido Forticrece Sin lactosa 1440g     Nido             0           14550           18899      4349                     lacteos\n",
      "<bound method DataFrame.info of                                                  title       Marca  \\\n",
      "0                 Pack 12 un, Leche extra proteína 1 L  Loncoleche   \n",
      "1      Pack 12 un, Leche chocolate receta original 1 L     Soprole   \n",
      "2       Pack 12 un, Leche semidescremada chocolate 1 L     Soprole   \n",
      "3        Pack 12 un, Leche semidescremada frutilla 1 L     Soprole   \n",
      "4          Pack 12 un, Leche sin lactosa chocolate 1 L  Loncoleche   \n",
      "...                                                ...         ...   \n",
      "1102                  Helado bresler pote cassata 2,4l     Bresler   \n",
      "1103   Helado Trisabor chocolate lúcuma y manjar 2,4 L     Bresler   \n",
      "1104            Shampoo Reconstrucción Completa 400 ml        Dove   \n",
      "1105         Acondicionador Hidratación Intensa 400 ml        Dove   \n",
      "1106  Leche en Polvo Nido Forticrece Sin lactosa 1440g        Nido   \n",
      "\n",
      "      Preco_Normal  Preco_Desconto  Preco_Anterior  Desconto  \\\n",
      "0            19788               0               0         0   \n",
      "1            18228               0               0         0   \n",
      "2            18228               0               0         0   \n",
      "3            18228               0               0         0   \n",
      "4            17988               0               0         0   \n",
      "...            ...             ...             ...       ...   \n",
      "1102             0            4359            5449      1090   \n",
      "1103             0            4359            5449      1090   \n",
      "1104             0            2690            3849      1159   \n",
      "1105             0            2690            3849      1159   \n",
      "1106             0           14550           18899      4349   \n",
      "\n",
      "                       Categoria  \n",
      "0                        lacteos  \n",
      "1                        lacteos  \n",
      "2                        lacteos  \n",
      "3                        lacteos  \n",
      "4                        lacteos  \n",
      "...                          ...  \n",
      "1102                  congelados  \n",
      "1103                  congelados  \n",
      "1104  belleza-y-cuidado-personal  \n",
      "1105  belleza-y-cuidado-personal  \n",
      "1106                     lacteos  \n",
      "\n",
      "[1107 rows x 7 columns]>\n",
      "title             object\n",
      "Marca             object\n",
      "Preco_Normal       int64\n",
      "Preco_Desconto     int64\n",
      "Preco_Anterior     int64\n",
      "Desconto           int64\n",
      "Categoria         object\n",
      "dtype: object\n"
     ]
    }
   ],
   "source": [
    "# Preparação - Tratando os Dados:\n",
    "\n",
    "print('Verificação inicial: ')\n",
    "print(df.head().to_string()) # Cabeçalho\n",
    "print(df.tail().to_string()) # Final da tabela\n",
    "print(df.info) #mostra quantidade de colunas e linhas\n",
    "print(df.dtypes) # mostra o tipo de coluna"
   ]
  },
  {
   "cell_type": "code",
   "execution_count": 15,
   "metadata": {},
   "outputs": [
    {
     "name": "stdout",
     "output_type": "stream",
     "text": [
      "title              object\n",
      "Marca              object\n",
      "Preco_Normal        int64\n",
      "Preco_Desconto      int64\n",
      "Preco_Anterior      int64\n",
      "Desconto            int64\n",
      "Categoria          object\n",
      "Preco_R$          float64\n",
      "Unidades            int64\n",
      "dtype: object\n",
      "Analise de Nulos: \n",
      " title             0\n",
      "Marca             0\n",
      "Preco_Normal      0\n",
      "Preco_Desconto    0\n",
      "Preco_Anterior    0\n",
      "Desconto          0\n",
      "Categoria         0\n",
      "Preco_R$          0\n",
      "Unidades          0\n",
      "Preco_Unitario    0\n",
      "dtype: int64\n",
      "Analise de Nulos %: \n",
      " title             0.0\n",
      "Marca             0.0\n",
      "Preco_Normal      0.0\n",
      "Preco_Desconto    0.0\n",
      "Preco_Anterior    0.0\n",
      "Desconto          0.0\n",
      "Categoria         0.0\n",
      "Preco_R$          0.0\n",
      "Unidades          0.0\n",
      "Preco_Unitario    0.0\n",
      "dtype: float64\n",
      "                                             title       Marca  Preco_Normal  Preco_Desconto  Preco_Anterior  Desconto Categoria  Preco_R$  Unidades  Preco_Unitario\n",
      "0             Pack 12 un, Leche extra proteína 1 L  Loncoleche         19788               0               0         0   lacteos    197.88        12           16.49\n",
      "1  Pack 12 un, Leche chocolate receta original 1 L     Soprole         18228               0               0         0   lacteos    182.28        12           15.19\n",
      "2   Pack 12 un, Leche semidescremada chocolate 1 L     Soprole         18228               0               0         0   lacteos    182.28        12           15.19\n",
      "3    Pack 12 un, Leche semidescremada frutilla 1 L     Soprole         18228               0               0         0   lacteos    182.28        12           15.19\n",
      "4      Pack 12 un, Leche sin lactosa chocolate 1 L  Loncoleche         17988               0               0         0   lacteos    179.88        12           14.99\n",
      "                                             title    Marca  Preco_Normal  Preco_Desconto  Preco_Anterior  Desconto Categoria  Preco_R$  Unidades  Preco_Unitario\n",
      "808             Yoghurt batido sabor damasco 120 g  Soprole           229               0               0         0   lacteos      2.29         1            2.29\n",
      "809           Yoghurt batido sabor frambuesa 120 g  Soprole           229               0               0         0   lacteos      2.29         1            2.29\n",
      "810   Yoghurt batido semidescremado vainilla 120 g    Calan           209               0               0         0   lacteos      2.09         1            2.09\n",
      "811   Yoghurt batido semidescremado frutilla 120 g    Calan           209               0               0         0   lacteos      2.09         1            2.09\n",
      "812  Yoghurt batido semidescremado chirimoya 120 g    Calan           209               0               0         0   lacteos      2.09         1            2.09\n",
      "<bound method DataFrame.info of                                                title       Marca  \\\n",
      "0               Pack 12 un, Leche extra proteína 1 L  Loncoleche   \n",
      "1    Pack 12 un, Leche chocolate receta original 1 L     Soprole   \n",
      "2     Pack 12 un, Leche semidescremada chocolate 1 L     Soprole   \n",
      "3      Pack 12 un, Leche semidescremada frutilla 1 L     Soprole   \n",
      "4        Pack 12 un, Leche sin lactosa chocolate 1 L  Loncoleche   \n",
      "..                                               ...         ...   \n",
      "808               Yoghurt batido sabor damasco 120 g     Soprole   \n",
      "809             Yoghurt batido sabor frambuesa 120 g     Soprole   \n",
      "810     Yoghurt batido semidescremado vainilla 120 g       Calan   \n",
      "811     Yoghurt batido semidescremado frutilla 120 g       Calan   \n",
      "812    Yoghurt batido semidescremado chirimoya 120 g       Calan   \n",
      "\n",
      "     Preco_Normal  Preco_Desconto  Preco_Anterior  Desconto Categoria  \\\n",
      "0           19788               0               0         0   lacteos   \n",
      "1           18228               0               0         0   lacteos   \n",
      "2           18228               0               0         0   lacteos   \n",
      "3           18228               0               0         0   lacteos   \n",
      "4           17988               0               0         0   lacteos   \n",
      "..            ...             ...             ...       ...       ...   \n",
      "808           229               0               0         0   lacteos   \n",
      "809           229               0               0         0   lacteos   \n",
      "810           209               0               0         0   lacteos   \n",
      "811           209               0               0         0   lacteos   \n",
      "812           209               0               0         0   lacteos   \n",
      "\n",
      "     Preco_R$  Unidades  Preco_Unitario  \n",
      "0      197.88        12           16.49  \n",
      "1      182.28        12           15.19  \n",
      "2      182.28        12           15.19  \n",
      "3      182.28        12           15.19  \n",
      "4      179.88        12           14.99  \n",
      "..        ...       ...             ...  \n",
      "808      2.29         1            2.29  \n",
      "809      2.29         1            2.29  \n",
      "810      2.09         1            2.09  \n",
      "811      2.09         1            2.09  \n",
      "812      2.09         1            2.09  \n",
      "\n",
      "[813 rows x 10 columns]>\n"
     ]
    }
   ],
   "source": [
    "# Preparando Dados\n",
    "\n",
    "df['Preco_R$'] = df['Preco_Normal']/100\n",
    "\n",
    "# Extrair unidades do texto (se houver \"Pack X un\")\n",
    "df['Unidades'] = df['title'].str.extract(r'Pack (\\d+) un').astype(float)\n",
    "\n",
    "# Preencher com 1 onde não houver \"Pack\"\n",
    "df['Unidades'] = df['Unidades'].fillna(1).astype(int)\n",
    "\n",
    "# Preços zerados e NAN\n",
    "df = df[(df['Preco_R$'] != 0) & (df['Preco_R$'].notna())]\n",
    "print(df.dtypes)\n",
    "# Preço Unitário\n",
    "df['Preco_Unitario'] = df['Preco_R$']/df['Unidades']\n",
    "\n",
    "\n",
    "# Analise de Nulos\n",
    "print('Analise de Nulos: \\n', df.isnull().sum())\n",
    "print('Analise de Nulos %: \\n', df.isnull().mean()*100)\n",
    "print(df.head().to_string()) # Cabeçalho\n",
    "print(df.tail().to_string()) # Final da tabela\n",
    "print(df.info) #mostra quantidade de colunas e linhas\n"
   ]
  },
  {
   "cell_type": "code",
   "execution_count": 16,
   "metadata": {},
   "outputs": [
    {
     "name": "stdout",
     "output_type": "stream",
     "text": [
      "Análise de Dados Únicos: \n",
      " title             781\n",
      "Marca             127\n",
      "Preco_Normal      360\n",
      "Preco_Desconto      1\n",
      "Preco_Anterior      1\n",
      "Desconto            1\n",
      "Categoria           7\n",
      "Preco_R$          360\n",
      "Unidades            7\n",
      "Preco_Unitario    349\n",
      "dtype: int64\n",
      "Estatísticas: \n",
      "        Preco_Normal  Preco_Desconto  Preco_Anterior  Desconto    Preco_R$  \\\n",
      "count    813.000000           813.0           813.0     813.0  813.000000   \n",
      "mean    2819.918819             0.0             0.0       0.0   28.199188   \n",
      "std     3135.210940             0.0             0.0       0.0   31.352109   \n",
      "min      209.000000             0.0             0.0       0.0    2.090000   \n",
      "25%      990.000000             0.0             0.0       0.0    9.900000   \n",
      "50%     1890.000000             0.0             0.0       0.0   18.900000   \n",
      "75%     3290.000000             0.0             0.0       0.0   32.900000   \n",
      "max    19788.000000             0.0             0.0       0.0  197.880000   \n",
      "\n",
      "         Unidades  Preco_Unitario  \n",
      "count  813.000000      813.000000  \n",
      "mean     1.706027       21.572302  \n",
      "std      2.395794       19.663586  \n",
      "min      1.000000        2.090000  \n",
      "25%      1.000000        8.490000  \n",
      "50%      1.000000       15.890000  \n",
      "75%      1.000000       29.990000  \n",
      "max     12.000000      167.990000  \n"
     ]
    }
   ],
   "source": [
    "# Tipo de dados unicos e Estatistica\n",
    "print('Análise de Dados Únicos: \\n', df.nunique())\n",
    "print('Estatísticas: \\n', df.describe())"
   ]
  },
  {
   "cell_type": "code",
   "execution_count": 17,
   "metadata": {
    "id": "E7B7FolOzVcJ",
    "scrolled": true
   },
   "outputs": [
    {
     "name": "stdout",
     "output_type": "stream",
     "text": [
      "categorias_unicas ['lacteos' 'belleza-y-cuidado-personal' 'congelados' 'frutas'\n",
      " 'comidas-preparadas' 'verduras' 'instantaneos-y-sopas']\n"
     ]
    }
   ],
   "source": [
    "# Descobrindo todas as Categorias para fazer a media por produto\n",
    "categorias_unicas = df['Categoria'].unique()\n",
    "print('categorias_unicas', categorias_unicas)\n",
    "\n",
    "#['lacteos' 'belleza-y-cuidado-personal' 'congelados' 'frutas'\n",
    "# 'comidas-preparadas' 'verduras' 'instantaneos-y-sopas']\n",
    "\n"
   ]
  },
  {
   "cell_type": "code",
   "execution_count": 18,
   "metadata": {},
   "outputs": [
    {
     "data": {
      "text/html": [
       "<div>\n",
       "<style scoped>\n",
       "    .dataframe tbody tr th:only-of-type {\n",
       "        vertical-align: middle;\n",
       "    }\n",
       "\n",
       "    .dataframe tbody tr th {\n",
       "        vertical-align: top;\n",
       "    }\n",
       "\n",
       "    .dataframe thead th {\n",
       "        text-align: right;\n",
       "    }\n",
       "</style>\n",
       "<table border=\"1\" class=\"dataframe\">\n",
       "  <thead>\n",
       "    <tr style=\"text-align: right;\">\n",
       "      <th></th>\n",
       "      <th>Categoria</th>\n",
       "      <th>title</th>\n",
       "    </tr>\n",
       "  </thead>\n",
       "  <tbody>\n",
       "    <tr>\n",
       "      <th>5</th>\n",
       "      <td>lacteos</td>\n",
       "      <td>352</td>\n",
       "    </tr>\n",
       "    <tr>\n",
       "      <th>2</th>\n",
       "      <td>congelados</td>\n",
       "      <td>164</td>\n",
       "    </tr>\n",
       "    <tr>\n",
       "      <th>0</th>\n",
       "      <td>belleza-y-cuidado-personal</td>\n",
       "      <td>146</td>\n",
       "    </tr>\n",
       "    <tr>\n",
       "      <th>6</th>\n",
       "      <td>verduras</td>\n",
       "      <td>59</td>\n",
       "    </tr>\n",
       "    <tr>\n",
       "      <th>4</th>\n",
       "      <td>instantaneos-y-sopas</td>\n",
       "      <td>37</td>\n",
       "    </tr>\n",
       "    <tr>\n",
       "      <th>1</th>\n",
       "      <td>comidas-preparadas</td>\n",
       "      <td>36</td>\n",
       "    </tr>\n",
       "    <tr>\n",
       "      <th>3</th>\n",
       "      <td>frutas</td>\n",
       "      <td>19</td>\n",
       "    </tr>\n",
       "  </tbody>\n",
       "</table>\n",
       "</div>"
      ],
      "text/plain": [
       "                    Categoria  title\n",
       "5                     lacteos    352\n",
       "2                  congelados    164\n",
       "0  belleza-y-cuidado-personal    146\n",
       "6                    verduras     59\n",
       "4        instantaneos-y-sopas     37\n",
       "1          comidas-preparadas     36\n",
       "3                      frutas     19"
      ]
     },
     "execution_count": 18,
     "metadata": {},
     "output_type": "execute_result"
    }
   ],
   "source": [
    "#Seu código aqui para a média\n",
    "# Descobrindo quantos produtos temos por categoria\n",
    "df.groupby('Categoria')['title'].count().reset_index().sort_values(by='title', ascending=False)"
   ]
  },
  {
   "cell_type": "code",
   "execution_count": 19,
   "metadata": {},
   "outputs": [
    {
     "name": "stdout",
     "output_type": "stream",
     "text": [
      "Análise de Dados Únicos: \n",
      " title             781\n",
      "Marca             127\n",
      "Preco_Normal      360\n",
      "Preco_Desconto      1\n",
      "Preco_Anterior      1\n",
      "Desconto            1\n",
      "Categoria           7\n",
      "Preco_R$          360\n",
      "Unidades            7\n",
      "Preco_Unitario    349\n",
      "dtype: int64\n"
     ]
    },
    {
     "data": {
      "text/html": [
       "<div>\n",
       "<style scoped>\n",
       "    .dataframe tbody tr th:only-of-type {\n",
       "        vertical-align: middle;\n",
       "    }\n",
       "\n",
       "    .dataframe tbody tr th {\n",
       "        vertical-align: top;\n",
       "    }\n",
       "\n",
       "    .dataframe thead th {\n",
       "        text-align: right;\n",
       "    }\n",
       "</style>\n",
       "<table border=\"1\" class=\"dataframe\">\n",
       "  <thead>\n",
       "    <tr style=\"text-align: right;\">\n",
       "      <th></th>\n",
       "      <th>Preco_Unitario</th>\n",
       "      <th>Preco_R$</th>\n",
       "    </tr>\n",
       "    <tr>\n",
       "      <th>Categoria</th>\n",
       "      <th></th>\n",
       "      <th></th>\n",
       "    </tr>\n",
       "  </thead>\n",
       "  <tbody>\n",
       "    <tr>\n",
       "      <th>belleza-y-cuidado-personal</th>\n",
       "      <td>28.84</td>\n",
       "      <td>29.20</td>\n",
       "    </tr>\n",
       "    <tr>\n",
       "      <th>comidas-preparadas</th>\n",
       "      <td>39.55</td>\n",
       "      <td>39.55</td>\n",
       "    </tr>\n",
       "    <tr>\n",
       "      <th>congelados</th>\n",
       "      <td>30.21</td>\n",
       "      <td>30.21</td>\n",
       "    </tr>\n",
       "    <tr>\n",
       "      <th>frutas</th>\n",
       "      <td>17.24</td>\n",
       "      <td>17.24</td>\n",
       "    </tr>\n",
       "    <tr>\n",
       "      <th>instantaneos-y-sopas</th>\n",
       "      <td>11.79</td>\n",
       "      <td>11.79</td>\n",
       "    </tr>\n",
       "    <tr>\n",
       "      <th>lacteos</th>\n",
       "      <td>15.13</td>\n",
       "      <td>30.29</td>\n",
       "    </tr>\n",
       "    <tr>\n",
       "      <th>verduras</th>\n",
       "      <td>14.57</td>\n",
       "      <td>14.57</td>\n",
       "    </tr>\n",
       "  </tbody>\n",
       "</table>\n",
       "</div>"
      ],
      "text/plain": [
       "                            Preco_Unitario  Preco_R$\n",
       "Categoria                                           \n",
       "belleza-y-cuidado-personal           28.84     29.20\n",
       "comidas-preparadas                   39.55     39.55\n",
       "congelados                           30.21     30.21\n",
       "frutas                               17.24     17.24\n",
       "instantaneos-y-sopas                 11.79     11.79\n",
       "lacteos                              15.13     30.29\n",
       "verduras                             14.57     14.57"
      ]
     },
     "execution_count": 19,
     "metadata": {},
     "output_type": "execute_result"
    }
   ],
   "source": [
    "# Média\n",
    "print('Análise de Dados Únicos: \\n', df.nunique())\n",
    "df.columns = df.columns.str.strip()\n",
    "df.groupby('Categoria').agg({'Preco_Unitario': 'mean','Preco_R$': 'mean', }).round(2)\n",
    "\n"
   ]
  },
  {
   "cell_type": "markdown",
   "metadata": {},
   "source": [
    "Média comparando Produtos por Categoria. Observe que a comparação entre valores acima mostra que não tem muitos Packs que agrupavam o valor dos produtos. \n",
    "Apenas em Lacteos e belleza-y-cuidado-personal\t "
   ]
  },
  {
   "cell_type": "code",
   "execution_count": 20,
   "metadata": {
    "id": "Rwf4V3hnzZwh"
   },
   "outputs": [
    {
     "data": {
      "text/html": [
       "<div>\n",
       "<style scoped>\n",
       "    .dataframe tbody tr th:only-of-type {\n",
       "        vertical-align: middle;\n",
       "    }\n",
       "\n",
       "    .dataframe tbody tr th {\n",
       "        vertical-align: top;\n",
       "    }\n",
       "\n",
       "    .dataframe thead th {\n",
       "        text-align: right;\n",
       "    }\n",
       "</style>\n",
       "<table border=\"1\" class=\"dataframe\">\n",
       "  <thead>\n",
       "    <tr style=\"text-align: right;\">\n",
       "      <th></th>\n",
       "      <th>Preco_Unitario</th>\n",
       "      <th>Preco_R$</th>\n",
       "    </tr>\n",
       "    <tr>\n",
       "      <th>Categoria</th>\n",
       "      <th></th>\n",
       "      <th></th>\n",
       "    </tr>\n",
       "  </thead>\n",
       "  <tbody>\n",
       "    <tr>\n",
       "      <th>belleza-y-cuidado-personal</th>\n",
       "      <td>20.99</td>\n",
       "      <td>21.79</td>\n",
       "    </tr>\n",
       "    <tr>\n",
       "      <th>comidas-preparadas</th>\n",
       "      <td>37.40</td>\n",
       "      <td>37.40</td>\n",
       "    </tr>\n",
       "    <tr>\n",
       "      <th>congelados</th>\n",
       "      <td>29.54</td>\n",
       "      <td>29.54</td>\n",
       "    </tr>\n",
       "    <tr>\n",
       "      <th>frutas</th>\n",
       "      <td>11.95</td>\n",
       "      <td>11.95</td>\n",
       "    </tr>\n",
       "    <tr>\n",
       "      <th>instantaneos-y-sopas</th>\n",
       "      <td>6.89</td>\n",
       "      <td>6.89</td>\n",
       "    </tr>\n",
       "    <tr>\n",
       "      <th>lacteos</th>\n",
       "      <td>9.89</td>\n",
       "      <td>17.20</td>\n",
       "    </tr>\n",
       "    <tr>\n",
       "      <th>verduras</th>\n",
       "      <td>12.50</td>\n",
       "      <td>12.50</td>\n",
       "    </tr>\n",
       "  </tbody>\n",
       "</table>\n",
       "</div>"
      ],
      "text/plain": [
       "                            Preco_Unitario  Preco_R$\n",
       "Categoria                                           \n",
       "belleza-y-cuidado-personal           20.99     21.79\n",
       "comidas-preparadas                   37.40     37.40\n",
       "congelados                           29.54     29.54\n",
       "frutas                               11.95     11.95\n",
       "instantaneos-y-sopas                  6.89      6.89\n",
       "lacteos                               9.89     17.20\n",
       "verduras                             12.50     12.50"
      ]
     },
     "execution_count": 20,
     "metadata": {},
     "output_type": "execute_result"
    }
   ],
   "source": [
    "#Mediana\n",
    "df.groupby('Categoria').agg({'Preco_Unitario': 'median','Preco_R$': 'median', }).round(2)"
   ]
  },
  {
   "cell_type": "markdown",
   "metadata": {
    "id": "nKBFOh-mzyWX"
   },
   "source": [
    "Digite aqui as categorias:"
   ]
  },
  {
   "cell_type": "markdown",
   "metadata": {
    "id": "jdHZurzDzca0"
   },
   "source": [
    "# 2 - Traga o desvio padrão por categoria de produto.\n",
    "# Qual o comportamento da média e mediana nas categorias com maior desvio?"
   ]
  },
  {
   "cell_type": "code",
   "execution_count": 21,
   "metadata": {
    "id": "xEXT1gtoz135"
   },
   "outputs": [
    {
     "data": {
      "text/html": [
       "<div>\n",
       "<style scoped>\n",
       "    .dataframe tbody tr th:only-of-type {\n",
       "        vertical-align: middle;\n",
       "    }\n",
       "\n",
       "    .dataframe tbody tr th {\n",
       "        vertical-align: top;\n",
       "    }\n",
       "\n",
       "    .dataframe thead th {\n",
       "        text-align: right;\n",
       "    }\n",
       "</style>\n",
       "<table border=\"1\" class=\"dataframe\">\n",
       "  <thead>\n",
       "    <tr style=\"text-align: right;\">\n",
       "      <th></th>\n",
       "      <th>Preco_Unitario</th>\n",
       "      <th>Preco_R$</th>\n",
       "    </tr>\n",
       "    <tr>\n",
       "      <th>Categoria</th>\n",
       "      <th></th>\n",
       "      <th></th>\n",
       "    </tr>\n",
       "  </thead>\n",
       "  <tbody>\n",
       "    <tr>\n",
       "      <th>belleza-y-cuidado-personal</th>\n",
       "      <td>21.67</td>\n",
       "      <td>21.63</td>\n",
       "    </tr>\n",
       "    <tr>\n",
       "      <th>comidas-preparadas</th>\n",
       "      <td>13.22</td>\n",
       "      <td>13.22</td>\n",
       "    </tr>\n",
       "    <tr>\n",
       "      <th>congelados</th>\n",
       "      <td>19.04</td>\n",
       "      <td>19.04</td>\n",
       "    </tr>\n",
       "    <tr>\n",
       "      <th>frutas</th>\n",
       "      <td>16.39</td>\n",
       "      <td>16.39</td>\n",
       "    </tr>\n",
       "    <tr>\n",
       "      <th>instantaneos-y-sopas</th>\n",
       "      <td>12.76</td>\n",
       "      <td>12.76</td>\n",
       "    </tr>\n",
       "    <tr>\n",
       "      <th>lacteos</th>\n",
       "      <td>17.82</td>\n",
       "      <td>41.99</td>\n",
       "    </tr>\n",
       "    <tr>\n",
       "      <th>verduras</th>\n",
       "      <td>9.72</td>\n",
       "      <td>9.72</td>\n",
       "    </tr>\n",
       "  </tbody>\n",
       "</table>\n",
       "</div>"
      ],
      "text/plain": [
       "                            Preco_Unitario  Preco_R$\n",
       "Categoria                                           \n",
       "belleza-y-cuidado-personal           21.67     21.63\n",
       "comidas-preparadas                   13.22     13.22\n",
       "congelados                           19.04     19.04\n",
       "frutas                               16.39     16.39\n",
       "instantaneos-y-sopas                 12.76     12.76\n",
       "lacteos                              17.82     41.99\n",
       "verduras                              9.72      9.72"
      ]
     },
     "execution_count": 21,
     "metadata": {},
     "output_type": "execute_result"
    }
   ],
   "source": [
    "# Desvio Padrão\n",
    "df.groupby('Categoria').agg({'Preco_Unitario': 'std','Preco_R$': 'std', }).round(2)"
   ]
  },
  {
   "cell_type": "markdown",
   "metadata": {
    "id": "HzsLO4nOz3yJ"
   },
   "source": [
    "Observações:\n",
    "Comparativo Preco_ Normal_R$ e Preço_Unitario\n",
    "\n",
    "Impactos considerável em Produtos Lacteos seguido de leve alteração em  belleza-y-cuidado-personal\n",
    "\n",
    "**Média:** \n",
    "Estão naturalmente altas pois diluiram valores maiores (Packs) com menores.\n",
    "\n",
    "**Mediana:** \n",
    "A categoria belleza-y-cuidado-personal paresentam uma mediana e desvio padrão próximos(mediana: 21.79, std: 21.63).\n",
    "Isso que dizer que os valores estão bem distribuidos e tem pouco ou nenhum outiliers.\n",
    "\n",
    "**Desvio Padrão:** Os numeros que se aproximam da mediana representam dados bem distribuidos proximos da mediana.\n",
    "Já os dados que estão relativamente longe da mediana estão dispersos. Isso quer dizer que os preços variam bastante\n",
    "ou seja, não estão todos próximos do valor central.\n",
    "\n",
    "  \n",
    "Contagem após a limpeza: 813.000000\n",
    "\n",
    "Média de todos os Produtos: \n",
    "\n",
    "Preco_ Normal_R$ : 28.199188 \n",
    "\n",
    "Preço_Unitario:    21.572302  \n",
    "\n",
    "Desvio Padrão:\n",
    "\n",
    "Preco_ Normal_R$ todos : 31.352109   \n",
    "\n",
    "Preço_Unitario todos:    21.572302\n",
    "\n",
    "\n",
    "Por Categorias-Preço_Unitario\n",
    "\n",
    "belleza-y-cuidado-personal  Media:\t28.84, Mediana: 20.99, std: 21.67\n",
    "\n",
    "comidas-preparadas\t        Média:  39.55, Mediana: 37.40, std: 13.22\n",
    "\n",
    "congelados\t                Média:  30.21, Mediana: 29.54, std: 19.04\n",
    "\n",
    "frutas\t                    Média:  17.24, Mediana: 11.95, std: 16.39\n",
    "\n",
    "instantaneos-y-sopas\t    Média:  11.79, Mediana: 6.89,  std: 12.76\n",
    "\n",
    "lacteos\t                    Média:**15.13, Mediana: 9.89,  std: 17.82**\n",
    "\n",
    "verduras\t                Média:  14.57, Mediana: 12.50, std: 9.72\n",
    "\n",
    "Por Categorias-Preco_ Normal_R$\n",
    "\n",
    "belleza-y-cuidado-personal  Media:\t29.20, Mediana: 21.79, std: 21.63\n",
    "\n",
    "comidas-preparadas\t        Média:  39.55, Mediana: 37.40, std: 13.22\n",
    "\n",
    "congelados\t                Média:  30.21, Mediana: 29.54, std: 19.04\n",
    "\n",
    "frutas\t                    Média:  17.24, Mediana: 11.95, std: 16.39\n",
    "\n",
    "instantaneos-y-sopas\t    Média:  11.79, Mediana: 6.89,  std: 12.76\n",
    "\n",
    "lacteos\t                    Média:**30.29, Mediana: 17.20, std: 41.99**\n",
    "\n",
    "verduras\t                Média:  14.57, Mediana: 12.50, std: 9.72\n",
    "\n",
    "\n"
   ]
  },
  {
   "cell_type": "markdown",
   "metadata": {
    "id": "4aW51rCHBr2w"
   },
   "source": [
    "# 3 - Plot um boxplot da distribuição do Preco_Normal para a categoria que você identificou que tem o maior desvio padrão. Como é a distribuição desses dados segundo o boxplot? Você identifica muitos outliers?"
   ]
  },
  {
   "cell_type": "markdown",
   "metadata": {
    "id": "kwPKkUZnEUSb"
   },
   "source": [
    "Dica: Para trazer apenas os dados da categoria que você deseja você pode usar o df.loc[df['Categoria'] == 'CATEGORIA ESCOLHIDA'"
   ]
  },
  {
   "cell_type": "code",
   "execution_count": 33,
   "metadata": {},
   "outputs": [
    {
     "data": {
      "image/png": "[encoded data removed]",
      "text/plain": [
       "<Figure size 800x600 with 1 Axes>"
      ]
     },
     "metadata": {},
     "output_type": "display_data"
    },
    {
     "data": {
      "text/plain": [
       "<Figure size 640x480 with 0 Axes>"
      ]
     },
     "metadata": {},
     "output_type": "display_data"
    }
   ],
   "source": [
    "# Filtrar apenas os produtos da categoria 'Lacteos'\n",
    "\n",
    "df.loc[df['Categoria'] == 'lacteos']\n",
    "\n",
    "# Criar o boxplot com os preços normais dos produtos lácteos\n",
    "plt.figure(figsize=(8, 6))\n",
    "plt.boxplot(df['Preco_R$'])\n",
    "plt.title('Boxplot - Categoria Lácteos', fontsize=16)\n",
    "plt.ylabel('Preço (R$)', fontsize=12)\n",
    "plt.grid(True, linestyle='--', alpha=0.7)\n",
    "plt.show()\n",
    "plt.savefig(r\"C:\\Users\\ferna\\Extraindo_Médias\\img\\blox01.png\", dpi=300)\n",
    "\n"
   ]
  },
  {
   "cell_type": "code",
   "execution_count": 43,
   "metadata": {},
   "outputs": [
    {
     "data": {
      "image/png": "[encoded data removed]",
      "text/plain": [
       "<Figure size 800x600 with 1 Axes>"
      ]
     },
     "metadata": {},
     "output_type": "display_data"
    }
   ],
   "source": [
    "# Limpar nomes de colunas\n",
    "df.columns = df.columns.str.strip()\n",
    "\n",
    "# Filtrar apenas produtos da categoria 'Lacteos'\n",
    "lacteos_df = df[df['Categoria'].str.lower().str.strip() == 'lacteos']\n",
    "\n",
    "# Criar o boxplot com Preço Normal e Preço Unitário\n",
    "plt.figure(figsize=(8, 6))\n",
    "plt.boxplot([\n",
    "    lacteos_df['Preco_R$'].dropna(),\n",
    "    lacteos_df['Preco_Unitario'].dropna()\n",
    "])\n",
    "\n",
    "# Rótulos e título\n",
    "plt.xticks([1, 2], ['Preço_R$)', 'Preço Unitário (R$)'])\n",
    "plt.title('Boxplot - Categoria Lácteos', fontsize=16)\n",
    "plt.ylabel('Preço (R$)', fontsize=12)\n",
    "plt.grid(True, linestyle='--', alpha=0.7)\n",
    "\n",
    "plt.savefig(r\"C:\\Users\\ferna\\Extraindo_Médias\\img\\blox02.png\", dpi=300)\n",
    "plt.show()\n"
   ]
  },
  {
   "cell_type": "markdown",
   "metadata": {
    "id": "w5xgQBC_0Hg-"
   },
   "source": [
    "# 4 - Plote um gráfico de barras onde temos a média de descontos por categoria."
   ]
  },
  {
   "cell_type": "code",
   "execution_count": 40,
   "metadata": {
    "id": "DBj5zAdI0QfI"
   },
   "outputs": [
    {
     "name": "stdout",
     "output_type": "stream",
     "text": [
      "Análise de Dados Únicos: \n",
      " title             781\n",
      "Marca             127\n",
      "Preco_Normal      360\n",
      "Preco_Desconto    732\n",
      "Preco_Anterior      1\n",
      "Desconto            1\n",
      "Categoria           7\n",
      "Preco_R$          360\n",
      "Unidades            7\n",
      "Preco_Unitario    349\n",
      "Desconto_%        569\n",
      "dtype: int64\n"
     ]
    },
    {
     "data": {
      "image/png": "[encoded data removed]",
      "text/plain": [
       "<Figure size 640x480 with 1 Axes>"
      ]
     },
     "metadata": {},
     "output_type": "display_data"
    },
    {
     "data": {
      "image/png": "[encoded data removed]",
      "text/plain": [
       "<Figure size 640x480 with 1 Axes>"
      ]
     },
     "metadata": {},
     "output_type": "display_data"
    }
   ],
   "source": [
    "#import numpy as np\n",
    "# Criar coluna com descontos aleatórios entre 5% e 15%\n",
    "df['Desconto_%'] = np.random.uniform(5, 15, size=len(df)).round(2)\n",
    "\n",
    "# Aplicar o desconto sobre o Preço Normal\n",
    "df['Preco_Desconto'] = (df['Preco_R$'] * (1 - df['Desconto_%'] / 100)).round(2)\n",
    "\n",
    "print('Análise de Dados Únicos: \\n', df.nunique())\n",
    "df.groupby('Categoria')['Preco_Desconto'].mean().round(2)\n",
    "\n",
    "\n",
    "media = df['Desconto_%'].mean()\n",
    "\n",
    "sns.kdeplot(df['Desconto_%'], fill=True, color='purple')\n",
    "plt.title('Distribuição de Descontos (%)')\n",
    "plt.xlabel('Desconto (%)')\n",
    "plt.ylabel('Densidade')\n",
    "plt.grid(True, linestyle='--', alpha=0.6)\n",
    "plt.savefig(r\"C:\\Users\\ferna\\Extraindo_Médias\\img\\dens01.png\", dpi=300)\n",
    "plt.show()\n",
    "\n",
    "# Gráfico de barras com média de desconto por categoria\n",
    "sns.barplot(data=df, x='Categoria', y='Desconto_%', estimator='mean', errorbar=None, hue='Categoria', legend=False, palette='viridis')\n",
    "plt.title('Média de Desconto por Categoria')\n",
    "plt.ylabel('Desconto Médio (%)')\n",
    "plt.xticks(rotation=45)\n",
    "plt.grid(True, linestyle='--', alpha=0.6)\n",
    "plt.savefig(r\"C:\\Users\\ferna\\Extraindo_Médias\\img\\dens.png\", dpi=300)\n",
    "plt.show()\n",
    "\n",
    "\n",
    "\n"
   ]
  },
  {
   "cell_type": "markdown",
   "metadata": {
    "id": "vqlx0w7E07uC"
   },
   "source": [
    "# 5 - Plote um gráfico de mapa interativo agrupando os dados por categoria, marca e trazendo a média de desconto."
   ]
  },
  {
   "cell_type": "code",
   "execution_count": 42,
   "metadata": {
    "id": "D-JWM64Q1NzB"
   },
   "outputs": [
    {
     "data": {
      "application/vnd.plotly.v1+json": {
       "config": {
        "plotlyServerURL": "https://plot.ly"
       },
       "data": [
        {
         "branchvalues": "total",
         "customdata": {
          "bdata": "AAAAAAAAJEBmZmZmZmYrQFK4HoXr0SFAoqYfavqhIEDC9ShcjyIkQOxRuB6F6xdAXI/C9ShcGkAUrkfhemQkQAAAAAAAgCVAtYFOG+i0JEA8CtejcN0mQOF6FK5H4SxAKVyPwvWoH0Dm0CLb+f4mQCMiIiIiYiVAMzMzMzMTJ0DsUbgehSskQI/C9ShcDyRAMzMzMzPzJUAUrkfhehQdQGZmZmZmJiJA9ihcj8L1I0D1KFyPwnUoQM3MzMzMTChAMzMzMzMTJkDXo3A9ClclQD0K16NwvSVApHA9CtejJUBKfrHkF0sqQJjo72S1PCRAAAAAAACAIUC5HoXrUbgYQFK4HoXr4SZAKVyPwvUoKkAfhetRuB4eQJqZmZmZmSFASeF6FK5HJ0A9CtejcD0sQOF6FK5HYSZAZmZmZmZmH0DsUbgehUsjQB6F61G4Hh9AyS+W/GIJJUDiehSuRyErQOc+u4DY1CVApXA9CtcjKUCMJb9Y8ksiQKgNdNpApyVAPQrXo3C9LUBSuB6F69EjQJqZmZmZmSFAMzMzMzMzI0BmZmZmZmYYQJ020GkDXSZAS1mGONbFIkC4HoXrUTgjQHaYutz+ICBAOqiDOqiDI0AAAAAAAAArQKo/TzKxjiVAAwMDAwMDIkD9YskvlnwqQB+F61G4nipAcT0K16PwIECkcD0K1yMlQNQGOm2gUyFAH4XrUbieIkB7FK5H4fojQP1iyS+W/ClARE0/1PSDI0B7FK5H4XoaQCMZJ5JxoiJA7FG4HoVrJkCF61G4HoUlQFK4HoXrUSlAkML1KFyPJUD2KFyPwvUYQLRN54AaNCRAH4XrUbgeGUA9CtejcD0XQKRwPQrXIyRAUrgehetRKUD4U+Olm0QiQLgehetRuCJAuB6F61H4IEBSuB6F61EkQOxRuB6FaypAWHzFV3xFJkCF61G4HgUkQObQItv5/iZAhetRuB6FF0DsUbgehesUQGsDnTbQaSpA7FG4HoVrIkCyWt4YwUQfQIFOG+i0gSJAAAAAAAAAIkDjehSuRyEqQLgehetROCJAe/bd0+1hJUDhehSuR+EYQJuZmZmZmSlA1bfjoYSwI0BSuB6F65EhQB+F61G4nixAMjMzMzOzKECamZmZmZksQIXrUbgexSpA16NwPQpXK0D17XgoIewiQMzMzMzMTCJApHA9CtejIUAfhetRuB4aQClcj8L1aChALeNDTwXmJEBSuB6F69EoQHsUrkfhGiBADLZgC7ZgIUCuR+F6FK4YQGZmZmZm5iRAmpmZmZkZJUAwlvxiya8hQHoUrkfhehpAAAAAAACAIkAK16NwPYokQM3MzMzMzBVAexSuR+H6JEAfhetRuB4pQNejcD0KVyJArkfhehRuJEBcj8L1KFwkQL7QC73QiyZA+cWSXyz5I0DC9Shcj/IjQDQzMzMzEyNACtejcD2KJkBr4lnRSEAjQNBpA5020CRAo8QDPL46JUCjEYARKSEnQON8tXSH4SRA2kFYHiaWH0Dm3Zb88l0lQAkSJgF08CRAGT28U2H0JEA=",
          "dtype": "f8",
          "shape": "145, 1"
         },
         "domain": {
          "x": [
           0,
           1
          ],
          "y": [
           0,
           1
          ]
         },
         "hovertemplate": "labels=%{label}<br>Desconto_%_sum=%{value}<br>parent=%{parent}<br>id=%{id}<br>Desconto_%=%{color}<extra></extra>",
         "ids": [
          "belleza-y-cuidado-personal/Always",
          "belleza-y-cuidado-personal/Aquafresh",
          "belleza-y-cuidado-personal/Babyland",
          "belleza-y-cuidado-personal/Ballerina",
          "belleza-y-cuidado-personal/Bellekiss",
          "belleza-y-cuidado-personal/Brooks",
          "belleza-y-cuidado-personal/Carefree",
          "belleza-y-cuidado-personal/Colgate",
          "belleza-y-cuidado-personal/Cotosan",
          "belleza-y-cuidado-personal/Dento",
          "belleza-y-cuidado-personal/Dove",
          "belleza-y-cuidado-personal/Dove Men",
          "belleza-y-cuidado-personal/Duralón",
          "belleza-y-cuidado-personal/Elvive",
          "belleza-y-cuidado-personal/Familand",
          "belleza-y-cuidado-personal/Family Care",
          "belleza-y-cuidado-personal/Fructis",
          "belleza-y-cuidado-personal/Garnier",
          "belleza-y-cuidado-personal/Gillette",
          "belleza-y-cuidado-personal/Giselle",
          "belleza-y-cuidado-personal/Head & Shoulders",
          "belleza-y-cuidado-personal/Ilicit",
          "belleza-y-cuidado-personal/Kotex",
          "belleza-y-cuidado-personal/Lady Speed Stick",
          "belleza-y-cuidado-personal/Ladysoft",
          "belleza-y-cuidado-personal/Le Sancy",
          "belleza-y-cuidado-personal/Linic",
          "belleza-y-cuidado-personal/Listerine",
          "belleza-y-cuidado-personal/Naturella",
          "belleza-y-cuidado-personal/Nivea",
          "belleza-y-cuidado-personal/Nosotras",
          "belleza-y-cuidado-personal/Old Spice",
          "belleza-y-cuidado-personal/Oral-B",
          "belleza-y-cuidado-personal/Pantene",
          "belleza-y-cuidado-personal/Pepsodent",
          "belleza-y-cuidado-personal/Plenitud",
          "belleza-y-cuidado-personal/Protex",
          "belleza-y-cuidado-personal/Schick",
          "belleza-y-cuidado-personal/Simond'S",
          "belleza-y-cuidado-personal/Speed Stick",
          "belleza-y-cuidado-personal/Tena",
          "belleza-y-cuidado-personal/Trianon",
          "comidas-preparadas/Bredenmaster",
          "comidas-preparadas/Corbac",
          "comidas-preparadas/Cuisine & Co",
          "comidas-preparadas/La Crianza",
          "comidas-preparadas/PF",
          "comidas-preparadas/Rana",
          "comidas-preparadas/Sadia",
          "comidas-preparadas/Santa Isabel",
          "comidas-preparadas/Solo Italia",
          "congelados/Alimentos Shen",
          "congelados/Bravissimo",
          "congelados/Bresler",
          "congelados/Cuisine & Co",
          "congelados/Fiesta",
          "congelados/Frutos Del Maipo",
          "congelados/Guallarauco",
          "congelados/King",
          "congelados/La Crianza",
          "congelados/Minuto Verde",
          "congelados/Mister Veggie",
          "congelados/Not Chicken",
          "congelados/PF",
          "congelados/Receta Del Abuelo",
          "congelados/Rikü",
          "congelados/Rock",
          "congelados/Sadia",
          "congelados/Sahne Nuss",
          "congelados/San Francisco De Loncomilla",
          "congelados/San Jorge",
          "congelados/Savory",
          "congelados/Super Cerdo",
          "congelados/Super Pollo",
          "congelados/Tivoni",
          "congelados/Turkey Hill",
          "congelados/Zole",
          "frutas/Frutas Y Verduras Propias",
          "frutas/Frutas Y Verduras Santa Isabel",
          "frutas/Sofruco",
          "instantaneos-y-sopas/Alcafood",
          "instantaneos-y-sopas/Carozzi",
          "instantaneos-y-sopas/Cuisine & Co",
          "instantaneos-y-sopas/Gourmet",
          "instantaneos-y-sopas/Hoffmann",
          "instantaneos-y-sopas/Maggi",
          "instantaneos-y-sopas/Máxima MP",
          "instantaneos-y-sopas/Naturezza",
          "instantaneos-y-sopas/Santa Isabel",
          "lacteos/Activia",
          "lacteos/Astra",
          "lacteos/Base Culinar",
          "lacteos/Bonella",
          "lacteos/Calan",
          "lacteos/Calo",
          "lacteos/Chamyto",
          "lacteos/Chiquitín",
          "lacteos/Cintazul",
          "lacteos/Collico",
          "lacteos/Colun",
          "lacteos/Copacabana",
          "lacteos/Crucina",
          "lacteos/Cuisine & Co",
          "lacteos/Danone",
          "lacteos/Deline",
          "lacteos/Ideal",
          "lacteos/Kumey",
          "lacteos/Lefersa",
          "lacteos/Light & Free",
          "lacteos/Loncoleche",
          "lacteos/Los Alerces",
          "lacteos/Marco Polo",
          "lacteos/Máxima MP",
          "lacteos/Nesquik",
          "lacteos/Nestlé",
          "lacteos/Next",
          "lacteos/Nido",
          "lacteos/Oikos",
          "lacteos/Omega 3",
          "lacteos/Pamperita",
          "lacteos/Qualy",
          "lacteos/Quillayes",
          "lacteos/Regimel",
          "lacteos/Sahne Nuss",
          "lacteos/San Ignacio",
          "lacteos/Santa Isabel",
          "lacteos/Santa Marta",
          "lacteos/Shake A Shake Lonco Leche",
          "lacteos/Signore Mario",
          "lacteos/Soprole",
          "lacteos/Sureña",
          "lacteos/Surlat",
          "lacteos/Svelty",
          "lacteos/Yogu - Yogu",
          "lacteos/Zerolacto",
          "verduras/Agrosano",
          "verduras/Frutas Y Verduras Propias",
          "verduras/Jumbo",
          "belleza-y-cuidado-personal",
          "comidas-preparadas",
          "congelados",
          "frutas",
          "instantaneos-y-sopas",
          "lacteos",
          "verduras"
         ],
         "labels": [
          "Always",
          "Aquafresh",
          "Babyland",
          "Ballerina",
          "Bellekiss",
          "Brooks",
          "Carefree",
          "Colgate",
          "Cotosan",
          "Dento",
          "Dove",
          "Dove Men",
          "Duralón",
          "Elvive",
          "Familand",
          "Family Care",
          "Fructis",
          "Garnier",
          "Gillette",
          "Giselle",
          "Head & Shoulders",
          "Ilicit",
          "Kotex",
          "Lady Speed Stick",
          "Ladysoft",
          "Le Sancy",
          "Linic",
          "Listerine",
          "Naturella",
          "Nivea",
          "Nosotras",
          "Old Spice",
          "Oral-B",
          "Pantene",
          "Pepsodent",
          "Plenitud",
          "Protex",
          "Schick",
          "Simond'S",
          "Speed Stick",
          "Tena",
          "Trianon",
          "Bredenmaster",
          "Corbac",
          "Cuisine & Co",
          "La Crianza",
          "PF",
          "Rana",
          "Sadia",
          "Santa Isabel",
          "Solo Italia",
          "Alimentos Shen",
          "Bravissimo",
          "Bresler",
          "Cuisine & Co",
          "Fiesta",
          "Frutos Del Maipo",
          "Guallarauco",
          "King",
          "La Crianza",
          "Minuto Verde",
          "Mister Veggie",
          "Not Chicken",
          "PF",
          "Receta Del Abuelo",
          "Rikü",
          "Rock",
          "Sadia",
          "Sahne Nuss",
          "San Francisco De Loncomilla",
          "San Jorge",
          "Savory",
          "Super Cerdo",
          "Super Pollo",
          "Tivoni",
          "Turkey Hill",
          "Zole",
          "Frutas Y Verduras Propias",
          "Frutas Y Verduras Santa Isabel",
          "Sofruco",
          "Alcafood",
          "Carozzi",
          "Cuisine & Co",
          "Gourmet",
          "Hoffmann",
          "Maggi",
          "Máxima MP",
          "Naturezza",
          "Santa Isabel",
          "Activia",
          "Astra",
          "Base Culinar",
          "Bonella",
          "Calan",
          "Calo",
          "Chamyto",
          "Chiquitín",
          "Cintazul",
          "Collico",
          "Colun",
          "Copacabana",
          "Crucina",
          "Cuisine & Co",
          "Danone",
          "Deline",
          "Ideal",
          "Kumey",
          "Lefersa",
          "Light & Free",
          "Loncoleche",
          "Los Alerces",
          "Marco Polo",
          "Máxima MP",
          "Nesquik",
          "Nestlé",
          "Next",
          "Nido",
          "Oikos",
          "Omega 3",
          "Pamperita",
          "Qualy",
          "Quillayes",
          "Regimel",
          "Sahne Nuss",
          "San Ignacio",
          "Santa Isabel",
          "Santa Marta",
          "Shake A Shake Lonco Leche",
          "Signore Mario",
          "Soprole",
          "Sureña",
          "Surlat",
          "Svelty",
          "Yogu - Yogu",
          "Zerolacto",
          "Agrosano",
          "Frutas Y Verduras Propias",
          "Jumbo",
          "belleza-y-cuidado-personal",
          "comidas-preparadas",
          "congelados",
          "frutas",
          "instantaneos-y-sopas",
          "lacteos",
          "verduras"
         ],
         "marker": {
          "coloraxis": "coloraxis",
          "colors": {
           "bdata": "AAAAAAAAJEBmZmZmZmYrQFK4HoXr0SFAoqYfavqhIEDC9ShcjyIkQOxRuB6F6xdAXI/C9ShcGkAUrkfhemQkQAAAAAAAgCVAtYFOG+i0JEA8CtejcN0mQOF6FK5H4SxAKVyPwvWoH0Dm0CLb+f4mQCMiIiIiYiVAMzMzMzMTJ0DsUbgehSskQI/C9ShcDyRAMzMzMzPzJUAUrkfhehQdQGZmZmZmJiJA9ihcj8L1I0D1KFyPwnUoQM3MzMzMTChAMzMzMzMTJkDXo3A9ClclQD0K16NwvSVApHA9CtejJUBKfrHkF0sqQJjo72S1PCRAAAAAAACAIUC5HoXrUbgYQFK4HoXr4SZAKVyPwvUoKkAfhetRuB4eQJqZmZmZmSFASeF6FK5HJ0A9CtejcD0sQOF6FK5HYSZAZmZmZmZmH0DsUbgehUsjQB6F61G4Hh9AyS+W/GIJJUDiehSuRyErQOc+u4DY1CVApXA9CtcjKUCMJb9Y8ksiQKgNdNpApyVAPQrXo3C9LUBSuB6F69EjQJqZmZmZmSFAMzMzMzMzI0BmZmZmZmYYQJ020GkDXSZAS1mGONbFIkC4HoXrUTgjQHaYutz+ICBAOqiDOqiDI0AAAAAAAAArQKo/TzKxjiVAAwMDAwMDIkD9YskvlnwqQB+F61G4nipAcT0K16PwIECkcD0K1yMlQNQGOm2gUyFAH4XrUbieIkB7FK5H4fojQP1iyS+W/ClARE0/1PSDI0B7FK5H4XoaQCMZJ5JxoiJA7FG4HoVrJkCF61G4HoUlQFK4HoXrUSlAkML1KFyPJUD2KFyPwvUYQLRN54AaNCRAH4XrUbgeGUA9CtejcD0XQKRwPQrXIyRAUrgehetRKUD4U+Olm0QiQLgehetRuCJAuB6F61H4IEBSuB6F61EkQOxRuB6FaypAWHzFV3xFJkCF61G4HgUkQObQItv5/iZAhetRuB6FF0DsUbgehesUQGsDnTbQaSpA7FG4HoVrIkCyWt4YwUQfQIFOG+i0gSJAAAAAAAAAIkDjehSuRyEqQLgehetROCJAe/bd0+1hJUDhehSuR+EYQJuZmZmZmSlA1bfjoYSwI0BSuB6F65EhQB+F61G4nixAMjMzMzOzKECamZmZmZksQIXrUbgexSpA16NwPQpXK0D17XgoIewiQMzMzMzMTCJApHA9CtejIUAfhetRuB4aQClcj8L1aChALeNDTwXmJEBSuB6F69EoQHsUrkfhGiBADLZgC7ZgIUCuR+F6FK4YQGZmZmZm5iRAmpmZmZkZJUAwlvxiya8hQHoUrkfhehpAAAAAAACAIkAK16NwPYokQM3MzMzMzBVAexSuR+H6JEAfhetRuB4pQNejcD0KVyJArkfhehRuJEBcj8L1KFwkQL7QC73QiyZA+cWSXyz5I0DC9Shcj/IjQDQzMzMzEyNACtejcD2KJkBr4lnRSEAjQNBpA5020CRAo8QDPL46JUCjEYARKSEnQON8tXSH4SRA2kFYHiaWH0Dm3Zb88l0lQAkSJgF08CRAGT28U2H0JEA=",
           "dtype": "f8"
          }
         },
         "name": "",
         "parents": [
          "belleza-y-cuidado-personal",
          "belleza-y-cuidado-personal",
          "belleza-y-cuidado-personal",
          "belleza-y-cuidado-personal",
          "belleza-y-cuidado-personal",
          "belleza-y-cuidado-personal",
          "belleza-y-cuidado-personal",
          "belleza-y-cuidado-personal",
          "belleza-y-cuidado-personal",
          "belleza-y-cuidado-personal",
          "belleza-y-cuidado-personal",
          "belleza-y-cuidado-personal",
          "belleza-y-cuidado-personal",
          "belleza-y-cuidado-personal",
          "belleza-y-cuidado-personal",
          "belleza-y-cuidado-personal",
          "belleza-y-cuidado-personal",
          "belleza-y-cuidado-personal",
          "belleza-y-cuidado-personal",
          "belleza-y-cuidado-personal",
          "belleza-y-cuidado-personal",
          "belleza-y-cuidado-personal",
          "belleza-y-cuidado-personal",
          "belleza-y-cuidado-personal",
          "belleza-y-cuidado-personal",
          "belleza-y-cuidado-personal",
          "belleza-y-cuidado-personal",
          "belleza-y-cuidado-personal",
          "belleza-y-cuidado-personal",
          "belleza-y-cuidado-personal",
          "belleza-y-cuidado-personal",
          "belleza-y-cuidado-personal",
          "belleza-y-cuidado-personal",
          "belleza-y-cuidado-personal",
          "belleza-y-cuidado-personal",
          "belleza-y-cuidado-personal",
          "belleza-y-cuidado-personal",
          "belleza-y-cuidado-personal",
          "belleza-y-cuidado-personal",
          "belleza-y-cuidado-personal",
          "belleza-y-cuidado-personal",
          "belleza-y-cuidado-personal",
          "comidas-preparadas",
          "comidas-preparadas",
          "comidas-preparadas",
          "comidas-preparadas",
          "comidas-preparadas",
          "comidas-preparadas",
          "comidas-preparadas",
          "comidas-preparadas",
          "comidas-preparadas",
          "congelados",
          "congelados",
          "congelados",
          "congelados",
          "congelados",
          "congelados",
          "congelados",
          "congelados",
          "congelados",
          "congelados",
          "congelados",
          "congelados",
          "congelados",
          "congelados",
          "congelados",
          "congelados",
          "congelados",
          "congelados",
          "congelados",
          "congelados",
          "congelados",
          "congelados",
          "congelados",
          "congelados",
          "congelados",
          "congelados",
          "frutas",
          "frutas",
          "frutas",
          "instantaneos-y-sopas",
          "instantaneos-y-sopas",
          "instantaneos-y-sopas",
          "instantaneos-y-sopas",
          "instantaneos-y-sopas",
          "instantaneos-y-sopas",
          "instantaneos-y-sopas",
          "instantaneos-y-sopas",
          "instantaneos-y-sopas",
          "lacteos",
          "lacteos",
          "lacteos",
          "lacteos",
          "lacteos",
          "lacteos",
          "lacteos",
          "lacteos",
          "lacteos",
          "lacteos",
          "lacteos",
          "lacteos",
          "lacteos",
          "lacteos",
          "lacteos",
          "lacteos",
          "lacteos",
          "lacteos",
          "lacteos",
          "lacteos",
          "lacteos",
          "lacteos",
          "lacteos",
          "lacteos",
          "lacteos",
          "lacteos",
          "lacteos",
          "lacteos",
          "lacteos",
          "lacteos",
          "lacteos",
          "lacteos",
          "lacteos",
          "lacteos",
          "lacteos",
          "lacteos",
          "lacteos",
          "lacteos",
          "lacteos",
          "lacteos",
          "lacteos",
          "lacteos",
          "lacteos",
          "lacteos",
          "lacteos",
          "lacteos",
          "verduras",
          "verduras",
          "verduras",
          "",
          "",
          "",
          "",
          "",
          "",
          ""
         ],
         "type": "treemap",
         "values": {
          "bdata": "AAAAAAAAJEBmZmZmZmYrQFK4HoXr0SFAoqYfavqhIEDC9ShcjyIkQOxRuB6F6xdAXI/C9ShcGkAUrkfhemQkQAAAAAAAgCVAtYFOG+i0JEA9CtejcN0mQOF6FK5H4SxAKVyPwvWoH0Dm0CLb+f4mQCMiIiIiYiVAMzMzMzMTJ0DsUbgehSskQI/C9ShcDyRAMzMzMzPzJUAUrkfhehQdQGZmZmZmJiJA9ihcj8L1I0D1KFyPwnUoQM3MzMzMTChAMzMzMzMTJkDXo3A9ClclQD0K16NwvSVApHA9CtejJUBLfrHkF0sqQJjo72S1PCRAAAAAAACAIUC4HoXrUbgYQFK4HoXr4SZAKVyPwvUoKkAfhetRuB4eQJqZmZmZmSFASOF6FK5HJ0A9CtejcD0sQOF6FK5HYSZAZmZmZmZmH0DsUbgehUsjQB6F61G4Hh9AyS+W/GIJJUDiehSuRyErQOc+u4DY1CVApHA9CtcjKUCMJb9Y8ksiQKgNdNpApyVAPQrXo3C9LUBSuB6F69EjQJqZmZmZmSFAMzMzMzMzI0BmZmZmZmYYQJ020GkDXSZAS1mGONbFIkC4HoXrUTgjQHaYutz+ICBAOqiDOqiDI0AAAAAAAAArQKo/TzKxjiVAAwMDAwMDIkD9YskvlnwqQB+F61G4nipAcT0K16PwIECkcD0K1yMlQNQGOm2gUyFAH4XrUbieIkB7FK5H4fojQP1iyS+W/ClARE0/1PSDI0B7FK5H4XoaQCMZJ5JxoiJA7FG4HoVrJkCF61G4HoUlQFK4HoXrUSlAkML1KFyPJUD2KFyPwvUYQLRN54AaNCRAH4XrUbgeGUA9CtejcD0XQKRwPQrXIyRAUrgehetRKUD4U+Olm0QiQLgehetRuCJAuB6F61H4IEBSuB6F61EkQOxRuB6FaypAWHzFV3xFJkCF61G4HgUkQOXQItv5/iZAhetRuB6FF0DsUbgehesUQGsDnTbQaSpA7FG4HoVrIkCyWt4YwUQfQIFOG+i0gSJAAAAAAAAAIkDiehSuRyEqQLgehetROCJAe/bd0+1hJUDhehSuR+EYQJqZmZmZmSlA1bfjoYSwI0BSuB6F65EhQB+F61G4nixAMzMzMzOzKECamZmZmZksQIXrUbgexSpA16NwPQpXK0D17XgoIewiQMzMzMzMTCJApHA9CtejIUAfhetRuB4aQClcj8L1aChALeNDTwXmJEBSuB6F69EoQHsUrkfhGiBADLZgC7ZgIUCuR+F6FK4YQGZmZmZm5iRAmpmZmZkZJUAwlvxiya8hQHoUrkfhehpAAAAAAACAIkAK16NwPYokQM3MzMzMzBVAexSuR+H6JEAfhetRuB4pQNejcD0KVyJArkfhehRuJEBcj8L1KFwkQL7QC73QiyZA+cWSXyz5I0DC9Shcj/IjQDQzMzMzEyNACtejcD2KJkBr4lnRSEAjQNBpA5020CRA/vUafYPNekAyvWxl8EdZQHyzi1URTnBAsUrkfRcxNkCPBQe4YY5XQPuLXA4ehnxAopGAb15NP0A=",
          "dtype": "f8"
         }
        }
       ],
       "layout": {
        "coloraxis": {
         "colorbar": {
          "title": {
           "text": "Desconto_%"
          }
         },
         "colorscale": [
          [
           0,
           "#d3d3d3"
          ],
          [
           0.5,
           "#ffffff"
          ],
          [
           1,
           "#1f77b4"
          ]
         ]
        },
        "height": 800,
        "legend": {
         "tracegroupgap": 0
        },
        "template": {
         "data": {
          "bar": [
           {
            "error_x": {
             "color": "#2a3f5f"
            },
            "error_y": {
             "color": "#2a3f5f"
            },
            "marker": {
             "line": {
              "color": "#E5ECF6",
              "width": 0.5
             },
             "pattern": {
              "fillmode": "overlay",
              "size": 10,
              "solidity": 0.2
             }
            },
            "type": "bar"
           }
          ],
          "barpolar": [
           {
            "marker": {
             "line": {
              "color": "#E5ECF6",
              "width": 0.5
             },
             "pattern": {
              "fillmode": "overlay",
              "size": 10,
              "solidity": 0.2
             }
            },
            "type": "barpolar"
           }
          ],
          "carpet": [
           {
            "aaxis": {
             "endlinecolor": "#2a3f5f",
             "gridcolor": "white",
             "linecolor": "white",
             "minorgridcolor": "white",
             "startlinecolor": "#2a3f5f"
            },
            "baxis": {
             "endlinecolor": "#2a3f5f",
             "gridcolor": "white",
             "linecolor": "white",
             "minorgridcolor": "white",
             "startlinecolor": "#2a3f5f"
            },
            "type": "carpet"
           }
          ],
          "choropleth": [
           {
            "colorbar": {
             "outlinewidth": 0,
             "ticks": ""
            },
            "type": "choropleth"
           }
          ],
          "contour": [
           {
            "colorbar": {
             "outlinewidth": 0,
             "ticks": ""
            },
            "colorscale": [
             [
              0,
              "#0d0887"
             ],
             [
              0.1111111111111111,
              "#46039f"
             ],
             [
              0.2222222222222222,
              "#7201a8"
             ],
             [
              0.3333333333333333,
              "#9c179e"
             ],
             [
              0.4444444444444444,
              "#bd3786"
             ],
             [
              0.5555555555555556,
              "#d8576b"
             ],
             [
              0.6666666666666666,
              "#ed7953"
             ],
             [
              0.7777777777777778,
              "#fb9f3a"
             ],
             [
              0.8888888888888888,
              "#fdca26"
             ],
             [
              1,
              "#f0f921"
             ]
            ],
            "type": "contour"
           }
          ],
          "contourcarpet": [
           {
            "colorbar": {
             "outlinewidth": 0,
             "ticks": ""
            },
            "type": "contourcarpet"
           }
          ],
          "heatmap": [
           {
            "colorbar": {
             "outlinewidth": 0,
             "ticks": ""
            },
            "colorscale": [
             [
              0,
              "#0d0887"
             ],
             [
              0.1111111111111111,
              "#46039f"
             ],
             [
              0.2222222222222222,
              "#7201a8"
             ],
             [
              0.3333333333333333,
              "#9c179e"
             ],
             [
              0.4444444444444444,
              "#bd3786"
             ],
             [
              0.5555555555555556,
              "#d8576b"
             ],
             [
              0.6666666666666666,
              "#ed7953"
             ],
             [
              0.7777777777777778,
              "#fb9f3a"
             ],
             [
              0.8888888888888888,
              "#fdca26"
             ],
             [
              1,
              "#f0f921"
             ]
            ],
            "type": "heatmap"
           }
          ],
          "histogram": [
           {
            "marker": {
             "pattern": {
              "fillmode": "overlay",
              "size": 10,
              "solidity": 0.2
             }
            },
            "type": "histogram"
           }
          ],
          "histogram2d": [
           {
            "colorbar": {
             "outlinewidth": 0,
             "ticks": ""
            },
            "colorscale": [
             [
              0,
              "#0d0887"
             ],
             [
              0.1111111111111111,
              "#46039f"
             ],
             [
              0.2222222222222222,
              "#7201a8"
             ],
             [
              0.3333333333333333,
              "#9c179e"
             ],
             [
              0.4444444444444444,
              "#bd3786"
             ],
             [
              0.5555555555555556,
              "#d8576b"
             ],
             [
              0.6666666666666666,
              "#ed7953"
             ],
             [
              0.7777777777777778,
              "#fb9f3a"
             ],
             [
              0.8888888888888888,
              "#fdca26"
             ],
             [
              1,
              "#f0f921"
             ]
            ],
            "type": "histogram2d"
           }
          ],
          "histogram2dcontour": [
           {
            "colorbar": {
             "outlinewidth": 0,
             "ticks": ""
            },
            "colorscale": [
             [
              0,
              "#0d0887"
             ],
             [
              0.1111111111111111,
              "#46039f"
             ],
             [
              0.2222222222222222,
              "#7201a8"
             ],
             [
              0.3333333333333333,
              "#9c179e"
             ],
             [
              0.4444444444444444,
              "#bd3786"
             ],
             [
              0.5555555555555556,
              "#d8576b"
             ],
             [
              0.6666666666666666,
              "#ed7953"
             ],
             [
              0.7777777777777778,
              "#fb9f3a"
             ],
             [
              0.8888888888888888,
              "#fdca26"
             ],
             [
              1,
              "#f0f921"
             ]
            ],
            "type": "histogram2dcontour"
           }
          ],
          "mesh3d": [
           {
            "colorbar": {
             "outlinewidth": 0,
             "ticks": ""
            },
            "type": "mesh3d"
           }
          ],
          "parcoords": [
           {
            "line": {
             "colorbar": {
              "outlinewidth": 0,
              "ticks": ""
             }
            },
            "type": "parcoords"
           }
          ],
          "pie": [
           {
            "automargin": true,
            "type": "pie"
           }
          ],
          "scatter": [
           {
            "fillpattern": {
             "fillmode": "overlay",
             "size": 10,
             "solidity": 0.2
            },
            "type": "scatter"
           }
          ],
          "scatter3d": [
           {
            "line": {
             "colorbar": {
              "outlinewidth": 0,
              "ticks": ""
             }
            },
            "marker": {
             "colorbar": {
              "outlinewidth": 0,
              "ticks": ""
             }
            },
            "type": "scatter3d"
           }
          ],
          "scattercarpet": [
           {
            "marker": {
             "colorbar": {
              "outlinewidth": 0,
              "ticks": ""
             }
            },
            "type": "scattercarpet"
           }
          ],
          "scattergeo": [
           {
            "marker": {
             "colorbar": {
              "outlinewidth": 0,
              "ticks": ""
             }
            },
            "type": "scattergeo"
           }
          ],
          "scattergl": [
           {
            "marker": {
             "colorbar": {
              "outlinewidth": 0,
              "ticks": ""
             }
            },
            "type": "scattergl"
           }
          ],
          "scattermap": [
           {
            "marker": {
             "colorbar": {
              "outlinewidth": 0,
              "ticks": ""
             }
            },
            "type": "scattermap"
           }
          ],
          "scattermapbox": [
           {
            "marker": {
             "colorbar": {
              "outlinewidth": 0,
              "ticks": ""
             }
            },
            "type": "scattermapbox"
           }
          ],
          "scatterpolar": [
           {
            "marker": {
             "colorbar": {
              "outlinewidth": 0,
              "ticks": ""
             }
            },
            "type": "scatterpolar"
           }
          ],
          "scatterpolargl": [
           {
            "marker": {
             "colorbar": {
              "outlinewidth": 0,
              "ticks": ""
             }
            },
            "type": "scatterpolargl"
           }
          ],
          "scatterternary": [
           {
            "marker": {
             "colorbar": {
              "outlinewidth": 0,
              "ticks": ""
             }
            },
            "type": "scatterternary"
           }
          ],
          "surface": [
           {
            "colorbar": {
             "outlinewidth": 0,
             "ticks": ""
            },
            "colorscale": [
             [
              0,
              "#0d0887"
             ],
             [
              0.1111111111111111,
              "#46039f"
             ],
             [
              0.2222222222222222,
              "#7201a8"
             ],
             [
              0.3333333333333333,
              "#9c179e"
             ],
             [
              0.4444444444444444,
              "#bd3786"
             ],
             [
              0.5555555555555556,
              "#d8576b"
             ],
             [
              0.6666666666666666,
              "#ed7953"
             ],
             [
              0.7777777777777778,
              "#fb9f3a"
             ],
             [
              0.8888888888888888,
              "#fdca26"
             ],
             [
              1,
              "#f0f921"
             ]
            ],
            "type": "surface"
           }
          ],
          "table": [
           {
            "cells": {
             "fill": {
              "color": "#EBF0F8"
             },
             "line": {
              "color": "white"
             }
            },
            "header": {
             "fill": {
              "color": "#C8D4E3"
             },
             "line": {
              "color": "white"
             }
            },
            "type": "table"
           }
          ]
         },
         "layout": {
          "annotationdefaults": {
           "arrowcolor": "#2a3f5f",
           "arrowhead": 0,
           "arrowwidth": 1
          },
          "autotypenumbers": "strict",
          "coloraxis": {
           "colorbar": {
            "outlinewidth": 0,
            "ticks": ""
           }
          },
          "colorscale": {
           "diverging": [
            [
             0,
             "#8e0152"
            ],
            [
             0.1,
             "#c51b7d"
            ],
            [
             0.2,
             "#de77ae"
            ],
            [
             0.3,
             "#f1b6da"
            ],
            [
             0.4,
             "#fde0ef"
            ],
            [
             0.5,
             "#f7f7f7"
            ],
            [
             0.6,
             "#e6f5d0"
            ],
            [
             0.7,
             "#b8e186"
            ],
            [
             0.8,
             "#7fbc41"
            ],
            [
             0.9,
             "#4d9221"
            ],
            [
             1,
             "#276419"
            ]
           ],
           "sequential": [
            [
             0,
             "#0d0887"
            ],
            [
             0.1111111111111111,
             "#46039f"
            ],
            [
             0.2222222222222222,
             "#7201a8"
            ],
            [
             0.3333333333333333,
             "#9c179e"
            ],
            [
             0.4444444444444444,
             "#bd3786"
            ],
            [
             0.5555555555555556,
             "#d8576b"
            ],
            [
             0.6666666666666666,
             "#ed7953"
            ],
            [
             0.7777777777777778,
             "#fb9f3a"
            ],
            [
             0.8888888888888888,
             "#fdca26"
            ],
            [
             1,
             "#f0f921"
            ]
           ],
           "sequentialminus": [
            [
             0,
             "#0d0887"
            ],
            [
             0.1111111111111111,
             "#46039f"
            ],
            [
             0.2222222222222222,
             "#7201a8"
            ],
            [
             0.3333333333333333,
             "#9c179e"
            ],
            [
             0.4444444444444444,
             "#bd3786"
            ],
            [
             0.5555555555555556,
             "#d8576b"
            ],
            [
             0.6666666666666666,
             "#ed7953"
            ],
            [
             0.7777777777777778,
             "#fb9f3a"
            ],
            [
             0.8888888888888888,
             "#fdca26"
            ],
            [
             1,
             "#f0f921"
            ]
           ]
          },
          "colorway": [
           "#636efa",
           "#EF553B",
           "#00cc96",
           "#ab63fa",
           "#FFA15A",
           "#19d3f3",
           "#FF6692",
           "#B6E880",
           "#FF97FF",
           "#FECB52"
          ],
          "font": {
           "color": "#2a3f5f"
          },
          "geo": {
           "bgcolor": "white",
           "lakecolor": "white",
           "landcolor": "#E5ECF6",
           "showlakes": true,
           "showland": true,
           "subunitcolor": "white"
          },
          "hoverlabel": {
           "align": "left"
          },
          "hovermode": "closest",
          "mapbox": {
           "style": "light"
          },
          "paper_bgcolor": "white",
          "plot_bgcolor": "#E5ECF6",
          "polar": {
           "angularaxis": {
            "gridcolor": "white",
            "linecolor": "white",
            "ticks": ""
           },
           "bgcolor": "#E5ECF6",
           "radialaxis": {
            "gridcolor": "white",
            "linecolor": "white",
            "ticks": ""
           }
          },
          "scene": {
           "xaxis": {
            "backgroundcolor": "#E5ECF6",
            "gridcolor": "white",
            "gridwidth": 2,
            "linecolor": "white",
            "showbackground": true,
            "ticks": "",
            "zerolinecolor": "white"
           },
           "yaxis": {
            "backgroundcolor": "#E5ECF6",
            "gridcolor": "white",
            "gridwidth": 2,
            "linecolor": "white",
            "showbackground": true,
            "ticks": "",
            "zerolinecolor": "white"
           },
           "zaxis": {
            "backgroundcolor": "#E5ECF6",
            "gridcolor": "white",
            "gridwidth": 2,
            "linecolor": "white",
            "showbackground": true,
            "ticks": "",
            "zerolinecolor": "white"
           }
          },
          "shapedefaults": {
           "line": {
            "color": "#2a3f5f"
           }
          },
          "ternary": {
           "aaxis": {
            "gridcolor": "white",
            "linecolor": "white",
            "ticks": ""
           },
           "baxis": {
            "gridcolor": "white",
            "linecolor": "white",
            "ticks": ""
           },
           "bgcolor": "#E5ECF6",
           "caxis": {
            "gridcolor": "white",
            "linecolor": "white",
            "ticks": ""
           }
          },
          "title": {
           "x": 0.05
          },
          "xaxis": {
           "automargin": true,
           "gridcolor": "white",
           "linecolor": "white",
           "ticks": "",
           "title": {
            "standoff": 15
           },
           "zerolinecolor": "white",
           "zerolinewidth": 2
          },
          "yaxis": {
           "automargin": true,
           "gridcolor": "white",
           "linecolor": "white",
           "ticks": "",
           "title": {
            "standoff": 15
           },
           "zerolinecolor": "white",
           "zerolinewidth": 2
          }
         }
        },
        "title": {
         "text": "Desconto Médio por Categoria e Marca"
        }
       }
      },
      "image/png": "[encoded data removed]"
     },
     "metadata": {},
     "output_type": "display_data"
    }
   ],
   "source": [
    "# Agrupando os dados\n",
    "desconto_por_categoria_marca = df.groupby(['Categoria', 'Marca'])['Desconto_%'].mean().reset_index()\n",
    "\n",
    "# Criando o treemap com escala de cor personalizada\n",
    "fig = px.treemap(\n",
    "    desconto_por_categoria_marca,\n",
    "    path=['Categoria', 'Marca'],\n",
    "    values='Desconto_%',\n",
    "    color='Desconto_%',\n",
    "    title='Desconto Médio por Categoria e Marca',\n",
    "    color_continuous_scale=[\n",
    "        '#d3d3d3',  # Cinza claro (pouco desconto)\n",
    "        '#ffffff',  # Branco (desconto médio)\n",
    "        '#1f77b4'   # Azul escuro (muito desconto)\n",
    "    ],\n",
    "    height=800  # Aumenta a altura do gráfico (pode ajustar para 600, 1000, etc.)\n",
    ")\n",
    "\n",
    "\n",
    "fig.write_html(\"treemap_interativo.html\")\n",
    "\n",
    "fig.show()\n",
    "\n",
    "# fig.write_html(\"treemap_interativo.html\")\n",
    "# fig.write_image(\"treemap_desconto.pdf\")\n",
    "# fig.write_image(\"treemap_desconto.png\")\n",
    "\n"
   ]
  },
  {
   "cell_type": "code",
   "execution_count": null,
   "metadata": {},
   "outputs": [],
   "source": []
  }
 ],
 "metadata": {
  "colab": {
   "provenance": []
  },
  "kernelspec": {
   "display_name": "Python [conda env:base] *",
   "language": "python",
   "name": "conda-base-py"
  },
  "language_info": {
   "codemirror_mode": {
    "name": "ipython",
    "version": 3
   },
   "file_extension": ".py",
   "mimetype": "text/x-python",
   "name": "python",
   "nbconvert_exporter": "python",
   "pygments_lexer": "ipython3",
   "version": "3.13.5"
  }
 },
 "nbformat": 4,
 "nbformat_minor": 4
}
