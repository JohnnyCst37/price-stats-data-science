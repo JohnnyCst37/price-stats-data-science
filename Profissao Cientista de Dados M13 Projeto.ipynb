{
 "cells": [
  {
   "cell_type": "markdown",
   "metadata": {
    "id": "VOTu7U3Mvxzq"
   },
   "source": [
    "# **MÓDULO 13**\n",
    "# Projeto - Fundamentos da Descoberta de Dados"
   ]
  },
  {
   "cell_type": "markdown",
   "metadata": {
    "id": "-HYgkdAywLd0"
   },
   "source": [
    "Nesse projeto trabalharemos com a base de dados de produtos de um supermercado do Chile.\n",
    "A ideia é que vocês apliquem os conceitos estatísticos vistos no último módulo, mais os conceitos de visualizações de dados através de gráficos e finalizem publicando no seu github!"
   ]
  },
  {
   "cell_type": "code",
   "execution_count": 191,
   "metadata": {
    "id": "OTdTnbzUwE2X"
   },
   "outputs": [
    {
     "name": "stdout",
     "output_type": "stream",
     "text": [
      "Requirement already satisfied: plotly in c:\\users\\ferna\\anaconda3\\lib\\site-packages (5.24.1)\n",
      "Collecting plotly\n",
      "  Downloading plotly-6.3.0-py3-none-any.whl.metadata (8.5 kB)\n",
      "Requirement already satisfied: narwhals>=1.15.1 in c:\\users\\ferna\\appdata\\roaming\\python\\python313\\site-packages (from plotly) (2.0.1)\n",
      "Requirement already satisfied: packaging in c:\\users\\ferna\\anaconda3\\lib\\site-packages (from plotly) (24.2)\n",
      "Downloading plotly-6.3.0-py3-none-any.whl (9.8 MB)\n",
      "   ---------------------------------------- 0.0/9.8 MB ? eta -:--:--\n",
      "   -- ------------------------------------- 0.5/9.8 MB 5.7 MB/s eta 0:00:02\n",
      "   --------------------- ------------------ 5.2/9.8 MB 19.8 MB/s eta 0:00:01\n",
      "   ---------------------------------------- 9.8/9.8 MB 21.2 MB/s  0:00:00\n",
      "Installing collected packages: plotly\n",
      "  Attempting uninstall: plotly\n",
      "    Found existing installation: plotly 5.24.1\n",
      "    Uninstalling plotly-5.24.1:\n",
      "      Successfully uninstalled plotly-5.24.1\n",
      "Successfully installed plotly-6.3.0\n"
     ]
    }
   ],
   "source": [
    "import pandas as pd\n",
    "import matplotlib.pyplot as plt\n",
    "import plotly.express as px\n",
    "import numpy as np\n",
    "import seaborn as sns\n",
    "!pip install plotly --upgrade\n",
    "\n"
   ]
  },
  {
   "cell_type": "markdown",
   "metadata": {
    "id": "ky1Dk_KWywEa"
   },
   "source": [
    "Faça a leitura dos dados do arquivo CSV:\n",
    "\n",
    "\n",
    "Altere o código abaixo de acordo com seu diretório."
   ]
  },
  {
   "cell_type": "code",
   "execution_count": 158,
   "metadata": {
    "colab": {
     "base_uri": "https://localhost:8080/",
     "height": 363
    },
    "id": "bRBFyVB5wlny",
    "outputId": "cde5190b-fecf-48f8-e98c-5ec7e469bcfb"
   },
   "outputs": [
    {
     "data": {
      "text/html": [
       "<div>\n",
       "<style scoped>\n",
       "    .dataframe tbody tr th:only-of-type {\n",
       "        vertical-align: middle;\n",
       "    }\n",
       "\n",
       "    .dataframe tbody tr th {\n",
       "        vertical-align: top;\n",
       "    }\n",
       "\n",
       "    .dataframe thead th {\n",
       "        text-align: right;\n",
       "    }\n",
       "</style>\n",
       "<table border=\"1\" class=\"dataframe\">\n",
       "  <thead>\n",
       "    <tr style=\"text-align: right;\">\n",
       "      <th></th>\n",
       "      <th>title</th>\n",
       "      <th>Marca</th>\n",
       "      <th>Preco_Normal</th>\n",
       "      <th>Preco_Desconto</th>\n",
       "      <th>Preco_Anterior</th>\n",
       "      <th>Desconto</th>\n",
       "      <th>Categoria</th>\n",
       "    </tr>\n",
       "  </thead>\n",
       "  <tbody>\n",
       "    <tr>\n",
       "      <th>0</th>\n",
       "      <td>Pack 12 un, Leche extra proteína 1 L</td>\n",
       "      <td>Loncoleche</td>\n",
       "      <td>19788</td>\n",
       "      <td>0</td>\n",
       "      <td>0</td>\n",
       "      <td>0</td>\n",
       "      <td>lacteos</td>\n",
       "    </tr>\n",
       "    <tr>\n",
       "      <th>1</th>\n",
       "      <td>Pack 12 un, Leche chocolate receta original 1 L</td>\n",
       "      <td>Soprole</td>\n",
       "      <td>18228</td>\n",
       "      <td>0</td>\n",
       "      <td>0</td>\n",
       "      <td>0</td>\n",
       "      <td>lacteos</td>\n",
       "    </tr>\n",
       "    <tr>\n",
       "      <th>2</th>\n",
       "      <td>Pack 12 un, Leche semidescremada chocolate 1 L</td>\n",
       "      <td>Soprole</td>\n",
       "      <td>18228</td>\n",
       "      <td>0</td>\n",
       "      <td>0</td>\n",
       "      <td>0</td>\n",
       "      <td>lacteos</td>\n",
       "    </tr>\n",
       "    <tr>\n",
       "      <th>3</th>\n",
       "      <td>Pack 12 un, Leche semidescremada frutilla 1 L</td>\n",
       "      <td>Soprole</td>\n",
       "      <td>18228</td>\n",
       "      <td>0</td>\n",
       "      <td>0</td>\n",
       "      <td>0</td>\n",
       "      <td>lacteos</td>\n",
       "    </tr>\n",
       "    <tr>\n",
       "      <th>4</th>\n",
       "      <td>Pack 12 un, Leche sin lactosa chocolate 1 L</td>\n",
       "      <td>Loncoleche</td>\n",
       "      <td>17988</td>\n",
       "      <td>0</td>\n",
       "      <td>0</td>\n",
       "      <td>0</td>\n",
       "      <td>lacteos</td>\n",
       "    </tr>\n",
       "    <tr>\n",
       "      <th>5</th>\n",
       "      <td>Pack 12 un, Leche sin lactosa frutilla 1 L</td>\n",
       "      <td>Loncoleche</td>\n",
       "      <td>17988</td>\n",
       "      <td>0</td>\n",
       "      <td>0</td>\n",
       "      <td>0</td>\n",
       "      <td>lacteos</td>\n",
       "    </tr>\n",
       "    <tr>\n",
       "      <th>6</th>\n",
       "      <td>Pack 12 un, Leche saborizada light chocolate 1 L</td>\n",
       "      <td>Loncoleche</td>\n",
       "      <td>17988</td>\n",
       "      <td>0</td>\n",
       "      <td>0</td>\n",
       "      <td>0</td>\n",
       "      <td>lacteos</td>\n",
       "    </tr>\n",
       "    <tr>\n",
       "      <th>7</th>\n",
       "      <td>Pack 12 un, Leche saborizada frutilla 1 L</td>\n",
       "      <td>Colun</td>\n",
       "      <td>17388</td>\n",
       "      <td>0</td>\n",
       "      <td>0</td>\n",
       "      <td>0</td>\n",
       "      <td>lacteos</td>\n",
       "    </tr>\n",
       "    <tr>\n",
       "      <th>8</th>\n",
       "      <td>Pack 12 un, Leche saborizada vainilla 1 L</td>\n",
       "      <td>Colun</td>\n",
       "      <td>17388</td>\n",
       "      <td>0</td>\n",
       "      <td>0</td>\n",
       "      <td>0</td>\n",
       "      <td>lacteos</td>\n",
       "    </tr>\n",
       "    <tr>\n",
       "      <th>9</th>\n",
       "      <td>Pack 12 un, Leche saborizada manjar 1 L</td>\n",
       "      <td>Colun</td>\n",
       "      <td>17388</td>\n",
       "      <td>0</td>\n",
       "      <td>0</td>\n",
       "      <td>0</td>\n",
       "      <td>lacteos</td>\n",
       "    </tr>\n",
       "  </tbody>\n",
       "</table>\n",
       "</div>"
      ],
      "text/plain": [
       "                                              title       Marca  Preco_Normal  \\\n",
       "0              Pack 12 un, Leche extra proteína 1 L  Loncoleche         19788   \n",
       "1   Pack 12 un, Leche chocolate receta original 1 L     Soprole         18228   \n",
       "2    Pack 12 un, Leche semidescremada chocolate 1 L     Soprole         18228   \n",
       "3     Pack 12 un, Leche semidescremada frutilla 1 L     Soprole         18228   \n",
       "4       Pack 12 un, Leche sin lactosa chocolate 1 L  Loncoleche         17988   \n",
       "5        Pack 12 un, Leche sin lactosa frutilla 1 L  Loncoleche         17988   \n",
       "6  Pack 12 un, Leche saborizada light chocolate 1 L  Loncoleche         17988   \n",
       "7         Pack 12 un, Leche saborizada frutilla 1 L       Colun         17388   \n",
       "8         Pack 12 un, Leche saborizada vainilla 1 L       Colun         17388   \n",
       "9           Pack 12 un, Leche saborizada manjar 1 L       Colun         17388   \n",
       "\n",
       "   Preco_Desconto  Preco_Anterior  Desconto Categoria  \n",
       "0               0               0         0   lacteos  \n",
       "1               0               0         0   lacteos  \n",
       "2               0               0         0   lacteos  \n",
       "3               0               0         0   lacteos  \n",
       "4               0               0         0   lacteos  \n",
       "5               0               0         0   lacteos  \n",
       "6               0               0         0   lacteos  \n",
       "7               0               0         0   lacteos  \n",
       "8               0               0         0   lacteos  \n",
       "9               0               0         0   lacteos  "
      ]
     },
     "execution_count": 158,
     "metadata": {},
     "output_type": "execute_result"
    }
   ],
   "source": [
    "df = pd.read_csv(\"MODULO7_PROJETOFINAL_BASE_SUPERMERCADO.csv\")\n",
    "\n",
    "df.head(10)"
   ]
  },
  {
   "cell_type": "markdown",
   "metadata": {
    "id": "YJgKJ7Nxwtw2"
   },
   "source": [
    "Os campos do nosso dataframe são:\n",
    "\n",
    "**Title:** Nome do produto.\n",
    "\n",
    "\n",
    "**Marca:** A marca do produto.\n",
    "\n",
    "\n",
    "**Preco_Normal:** O preço em que o produto costuma ser vendido quando não há desconto.\n",
    "\n",
    "\n",
    "**Preco_Desconto:** O preço vendido após o desconto ser aplicado.\n",
    "\n",
    "\n",
    "**Preco_Anterior:** Preço em que era comercializado o produto antes do desconto aplicado.\n",
    "\n",
    "\n",
    "**Desconto:** Total de desconto aplicado.\n",
    "\n",
    "\n",
    "\n",
    "\n",
    "\n",
    "\n",
    "As colunas que aparecem com valores 0 são para os produtos onde não tivemos descontos aplicados.\n",
    "\n",
    "\n",
    "As categorias estão em espanhol!"
   ]
  },
  {
   "cell_type": "markdown",
   "metadata": {
    "id": "4u6WBeyyy6ri"
   },
   "source": [
    "# 1 - Traga a média e a mediana dos preços - coluna Preco_Normal - por categoria de produto.\n",
    "# Identifique as categorias que parecem ter um valor de média abaixo ou acima da mediana."
   ]
  },
  {
   "cell_type": "code",
   "execution_count": 159,
   "metadata": {},
   "outputs": [
    {
     "name": "stdout",
     "output_type": "stream",
     "text": [
      "Verificação inicial: \n",
      "                                             title       Marca  Preco_Normal  Preco_Desconto  Preco_Anterior  Desconto Categoria\n",
      "0             Pack 12 un, Leche extra proteína 1 L  Loncoleche         19788               0               0         0   lacteos\n",
      "1  Pack 12 un, Leche chocolate receta original 1 L     Soprole         18228               0               0         0   lacteos\n",
      "2   Pack 12 un, Leche semidescremada chocolate 1 L     Soprole         18228               0               0         0   lacteos\n",
      "3    Pack 12 un, Leche semidescremada frutilla 1 L     Soprole         18228               0               0         0   lacteos\n",
      "4      Pack 12 un, Leche sin lactosa chocolate 1 L  Loncoleche         17988               0               0         0   lacteos\n",
      "                                                 title    Marca  Preco_Normal  Preco_Desconto  Preco_Anterior  Desconto                   Categoria\n",
      "1102                  Helado bresler pote cassata 2,4l  Bresler             0            4359            5449      1090                  congelados\n",
      "1103   Helado Trisabor chocolate lúcuma y manjar 2,4 L  Bresler             0            4359            5449      1090                  congelados\n",
      "1104            Shampoo Reconstrucción Completa 400 ml     Dove             0            2690            3849      1159  belleza-y-cuidado-personal\n",
      "1105         Acondicionador Hidratación Intensa 400 ml     Dove             0            2690            3849      1159  belleza-y-cuidado-personal\n",
      "1106  Leche en Polvo Nido Forticrece Sin lactosa 1440g     Nido             0           14550           18899      4349                     lacteos\n",
      "<bound method DataFrame.info of                                                  title       Marca  \\\n",
      "0                 Pack 12 un, Leche extra proteína 1 L  Loncoleche   \n",
      "1      Pack 12 un, Leche chocolate receta original 1 L     Soprole   \n",
      "2       Pack 12 un, Leche semidescremada chocolate 1 L     Soprole   \n",
      "3        Pack 12 un, Leche semidescremada frutilla 1 L     Soprole   \n",
      "4          Pack 12 un, Leche sin lactosa chocolate 1 L  Loncoleche   \n",
      "...                                                ...         ...   \n",
      "1102                  Helado bresler pote cassata 2,4l     Bresler   \n",
      "1103   Helado Trisabor chocolate lúcuma y manjar 2,4 L     Bresler   \n",
      "1104            Shampoo Reconstrucción Completa 400 ml        Dove   \n",
      "1105         Acondicionador Hidratación Intensa 400 ml        Dove   \n",
      "1106  Leche en Polvo Nido Forticrece Sin lactosa 1440g        Nido   \n",
      "\n",
      "      Preco_Normal  Preco_Desconto  Preco_Anterior  Desconto  \\\n",
      "0            19788               0               0         0   \n",
      "1            18228               0               0         0   \n",
      "2            18228               0               0         0   \n",
      "3            18228               0               0         0   \n",
      "4            17988               0               0         0   \n",
      "...            ...             ...             ...       ...   \n",
      "1102             0            4359            5449      1090   \n",
      "1103             0            4359            5449      1090   \n",
      "1104             0            2690            3849      1159   \n",
      "1105             0            2690            3849      1159   \n",
      "1106             0           14550           18899      4349   \n",
      "\n",
      "                       Categoria  \n",
      "0                        lacteos  \n",
      "1                        lacteos  \n",
      "2                        lacteos  \n",
      "3                        lacteos  \n",
      "4                        lacteos  \n",
      "...                          ...  \n",
      "1102                  congelados  \n",
      "1103                  congelados  \n",
      "1104  belleza-y-cuidado-personal  \n",
      "1105  belleza-y-cuidado-personal  \n",
      "1106                     lacteos  \n",
      "\n",
      "[1107 rows x 7 columns]>\n",
      "title             object\n",
      "Marca             object\n",
      "Preco_Normal       int64\n",
      "Preco_Desconto     int64\n",
      "Preco_Anterior     int64\n",
      "Desconto           int64\n",
      "Categoria         object\n",
      "dtype: object\n"
     ]
    }
   ],
   "source": [
    "# Preparação - Tratando os Dados:\n",
    "\n",
    "print('Verificação inicial: ')\n",
    "print(df.head().to_string()) # Cabeçalho\n",
    "print(df.tail().to_string()) # Final da tabela\n",
    "print(df.info) #mostra quantidade de colunas e linhas\n",
    "print(df.dtypes) # mostra o tipo de coluna"
   ]
  },
  {
   "cell_type": "code",
   "execution_count": 160,
   "metadata": {},
   "outputs": [
    {
     "name": "stdout",
     "output_type": "stream",
     "text": [
      "title              object\n",
      "Marca              object\n",
      "Preco_Normal        int64\n",
      "Preco_Desconto      int64\n",
      "Preco_Anterior      int64\n",
      "Desconto            int64\n",
      "Categoria          object\n",
      "Preco_R$          float64\n",
      "Unidades            int64\n",
      "dtype: object\n",
      "Analise de Nulos: \n",
      " title             0\n",
      "Marca             0\n",
      "Preco_Normal      0\n",
      "Preco_Desconto    0\n",
      "Preco_Anterior    0\n",
      "Desconto          0\n",
      "Categoria         0\n",
      "Preco_R$          0\n",
      "Unidades          0\n",
      "Preco_Unitario    0\n",
      "dtype: int64\n",
      "Analise de Nulos %: \n",
      " title             0.0\n",
      "Marca             0.0\n",
      "Preco_Normal      0.0\n",
      "Preco_Desconto    0.0\n",
      "Preco_Anterior    0.0\n",
      "Desconto          0.0\n",
      "Categoria         0.0\n",
      "Preco_R$          0.0\n",
      "Unidades          0.0\n",
      "Preco_Unitario    0.0\n",
      "dtype: float64\n",
      "                                             title       Marca  Preco_Normal  Preco_Desconto  Preco_Anterior  Desconto Categoria  Preco_R$  Unidades  Preco_Unitario\n",
      "0             Pack 12 un, Leche extra proteína 1 L  Loncoleche         19788               0               0         0   lacteos    197.88        12           16.49\n",
      "1  Pack 12 un, Leche chocolate receta original 1 L     Soprole         18228               0               0         0   lacteos    182.28        12           15.19\n",
      "2   Pack 12 un, Leche semidescremada chocolate 1 L     Soprole         18228               0               0         0   lacteos    182.28        12           15.19\n",
      "3    Pack 12 un, Leche semidescremada frutilla 1 L     Soprole         18228               0               0         0   lacteos    182.28        12           15.19\n",
      "4      Pack 12 un, Leche sin lactosa chocolate 1 L  Loncoleche         17988               0               0         0   lacteos    179.88        12           14.99\n",
      "                                             title    Marca  Preco_Normal  Preco_Desconto  Preco_Anterior  Desconto Categoria  Preco_R$  Unidades  Preco_Unitario\n",
      "808             Yoghurt batido sabor damasco 120 g  Soprole           229               0               0         0   lacteos      2.29         1            2.29\n",
      "809           Yoghurt batido sabor frambuesa 120 g  Soprole           229               0               0         0   lacteos      2.29         1            2.29\n",
      "810   Yoghurt batido semidescremado vainilla 120 g    Calan           209               0               0         0   lacteos      2.09         1            2.09\n",
      "811   Yoghurt batido semidescremado frutilla 120 g    Calan           209               0               0         0   lacteos      2.09         1            2.09\n",
      "812  Yoghurt batido semidescremado chirimoya 120 g    Calan           209               0               0         0   lacteos      2.09         1            2.09\n",
      "<bound method DataFrame.info of                                                title       Marca  \\\n",
      "0               Pack 12 un, Leche extra proteína 1 L  Loncoleche   \n",
      "1    Pack 12 un, Leche chocolate receta original 1 L     Soprole   \n",
      "2     Pack 12 un, Leche semidescremada chocolate 1 L     Soprole   \n",
      "3      Pack 12 un, Leche semidescremada frutilla 1 L     Soprole   \n",
      "4        Pack 12 un, Leche sin lactosa chocolate 1 L  Loncoleche   \n",
      "..                                               ...         ...   \n",
      "808               Yoghurt batido sabor damasco 120 g     Soprole   \n",
      "809             Yoghurt batido sabor frambuesa 120 g     Soprole   \n",
      "810     Yoghurt batido semidescremado vainilla 120 g       Calan   \n",
      "811     Yoghurt batido semidescremado frutilla 120 g       Calan   \n",
      "812    Yoghurt batido semidescremado chirimoya 120 g       Calan   \n",
      "\n",
      "     Preco_Normal  Preco_Desconto  Preco_Anterior  Desconto Categoria  \\\n",
      "0           19788               0               0         0   lacteos   \n",
      "1           18228               0               0         0   lacteos   \n",
      "2           18228               0               0         0   lacteos   \n",
      "3           18228               0               0         0   lacteos   \n",
      "4           17988               0               0         0   lacteos   \n",
      "..            ...             ...             ...       ...       ...   \n",
      "808           229               0               0         0   lacteos   \n",
      "809           229               0               0         0   lacteos   \n",
      "810           209               0               0         0   lacteos   \n",
      "811           209               0               0         0   lacteos   \n",
      "812           209               0               0         0   lacteos   \n",
      "\n",
      "     Preco_R$  Unidades  Preco_Unitario  \n",
      "0      197.88        12           16.49  \n",
      "1      182.28        12           15.19  \n",
      "2      182.28        12           15.19  \n",
      "3      182.28        12           15.19  \n",
      "4      179.88        12           14.99  \n",
      "..        ...       ...             ...  \n",
      "808      2.29         1            2.29  \n",
      "809      2.29         1            2.29  \n",
      "810      2.09         1            2.09  \n",
      "811      2.09         1            2.09  \n",
      "812      2.09         1            2.09  \n",
      "\n",
      "[813 rows x 10 columns]>\n"
     ]
    }
   ],
   "source": [
    "\n",
    "\n",
    "df['Preco_R$'] = df['Preco_Normal']/100\n",
    "\n",
    "# Extrair unidades do texto (se houver \"Pack X un\")\n",
    "df['Unidades'] = df['title'].str.extract(r'Pack (\\d+) un').astype(float)\n",
    "\n",
    "# Preencher com 1 onde não houver \"Pack\"\n",
    "df['Unidades'] = df['Unidades'].fillna(1).astype(int)\n",
    "\n",
    "# Preços zerados e NAN\n",
    "df = df[(df['Preco_R$'] != 0) & (df['Preco_R$'].notna())]\n",
    "print(df.dtypes)\n",
    "# Preço Unitário\n",
    "df['Preco_Unitario'] = df['Preco_R$']/df['Unidades']\n",
    "\n",
    "\n",
    "# Analise de Nulos\n",
    "print('Analise de Nulos: \\n', df.isnull().sum())\n",
    "print('Analise de Nulos %: \\n', df.isnull().mean()*100)\n",
    "print(df.head().to_string()) # Cabeçalho\n",
    "print(df.tail().to_string()) # Final da tabela\n",
    "print(df.info) #mostra quantidade de colunas e linhas\n"
   ]
  },
  {
   "cell_type": "code",
   "execution_count": 152,
   "metadata": {},
   "outputs": [
    {
     "name": "stdout",
     "output_type": "stream",
     "text": [
      "Análise de Dados Únicos: \n",
      " title              781\n",
      "Marca              127\n",
      "Preco_Normal       360\n",
      "Preco_Desconto       1\n",
      "Preco_Anterior       1\n",
      "Desconto             1\n",
      "Categoria            7\n",
      "Preco_Normal_R$    360\n",
      "Unidades             7\n",
      "Preço_Unitario     349\n",
      "Preco_R$           360\n",
      "Preco_Unitario     349\n",
      "dtype: int64\n",
      "Estatísticas: \n",
      "        Preco_Normal  Preco_Desconto  Preco_Anterior  Desconto  \\\n",
      "count    813.000000           813.0           813.0     813.0   \n",
      "mean    2819.918819             0.0             0.0       0.0   \n",
      "std     3135.210940             0.0             0.0       0.0   \n",
      "min      209.000000             0.0             0.0       0.0   \n",
      "25%      990.000000             0.0             0.0       0.0   \n",
      "50%     1890.000000             0.0             0.0       0.0   \n",
      "75%     3290.000000             0.0             0.0       0.0   \n",
      "max    19788.000000             0.0             0.0       0.0   \n",
      "\n",
      "       Preco_Normal_R$    Unidades  Preço_Unitario    Preco_R$  Preco_Unitario  \n",
      "count       813.000000  813.000000      813.000000  813.000000      813.000000  \n",
      "mean         28.199188    1.706027       21.572302   28.199188       21.572302  \n",
      "std          31.352109    2.395794       19.663586   31.352109       19.663586  \n",
      "min           2.090000    1.000000        2.090000    2.090000        2.090000  \n",
      "25%           9.900000    1.000000        8.490000    9.900000        8.490000  \n",
      "50%          18.900000    1.000000       15.890000   18.900000       15.890000  \n",
      "75%          32.900000    1.000000       29.990000   32.900000       29.990000  \n",
      "max         197.880000   12.000000      167.990000  197.880000      167.990000  \n"
     ]
    }
   ],
   "source": [
    "# Tipo de dados unicos e Estatistica\n",
    "print('Análise de Dados Únicos: \\n', df.nunique())\n",
    "print('Estatísticas: \\n', df.describe())"
   ]
  },
  {
   "cell_type": "code",
   "execution_count": 161,
   "metadata": {
    "id": "E7B7FolOzVcJ",
    "scrolled": true
   },
   "outputs": [
    {
     "name": "stdout",
     "output_type": "stream",
     "text": [
      "categorias_unicas ['lacteos' 'belleza-y-cuidado-personal' 'congelados' 'frutas'\n",
      " 'comidas-preparadas' 'verduras' 'instantaneos-y-sopas']\n"
     ]
    }
   ],
   "source": [
    "# Descobrindo todas as Categorias para fazer a media por produto\n",
    "categorias_unicas = df['Categoria'].unique()\n",
    "print('categorias_unicas', categorias_unicas)\n",
    "\n",
    "#['lacteos' 'belleza-y-cuidado-personal' 'congelados' 'frutas'\n",
    "# 'comidas-preparadas' 'verduras' 'instantaneos-y-sopas']\n",
    "\n"
   ]
  },
  {
   "cell_type": "code",
   "execution_count": 162,
   "metadata": {},
   "outputs": [
    {
     "data": {
      "text/html": [
       "<div>\n",
       "<style scoped>\n",
       "    .dataframe tbody tr th:only-of-type {\n",
       "        vertical-align: middle;\n",
       "    }\n",
       "\n",
       "    .dataframe tbody tr th {\n",
       "        vertical-align: top;\n",
       "    }\n",
       "\n",
       "    .dataframe thead th {\n",
       "        text-align: right;\n",
       "    }\n",
       "</style>\n",
       "<table border=\"1\" class=\"dataframe\">\n",
       "  <thead>\n",
       "    <tr style=\"text-align: right;\">\n",
       "      <th></th>\n",
       "      <th>Categoria</th>\n",
       "      <th>title</th>\n",
       "    </tr>\n",
       "  </thead>\n",
       "  <tbody>\n",
       "    <tr>\n",
       "      <th>5</th>\n",
       "      <td>lacteos</td>\n",
       "      <td>352</td>\n",
       "    </tr>\n",
       "    <tr>\n",
       "      <th>2</th>\n",
       "      <td>congelados</td>\n",
       "      <td>164</td>\n",
       "    </tr>\n",
       "    <tr>\n",
       "      <th>0</th>\n",
       "      <td>belleza-y-cuidado-personal</td>\n",
       "      <td>146</td>\n",
       "    </tr>\n",
       "    <tr>\n",
       "      <th>6</th>\n",
       "      <td>verduras</td>\n",
       "      <td>59</td>\n",
       "    </tr>\n",
       "    <tr>\n",
       "      <th>4</th>\n",
       "      <td>instantaneos-y-sopas</td>\n",
       "      <td>37</td>\n",
       "    </tr>\n",
       "    <tr>\n",
       "      <th>1</th>\n",
       "      <td>comidas-preparadas</td>\n",
       "      <td>36</td>\n",
       "    </tr>\n",
       "    <tr>\n",
       "      <th>3</th>\n",
       "      <td>frutas</td>\n",
       "      <td>19</td>\n",
       "    </tr>\n",
       "  </tbody>\n",
       "</table>\n",
       "</div>"
      ],
      "text/plain": [
       "                    Categoria  title\n",
       "5                     lacteos    352\n",
       "2                  congelados    164\n",
       "0  belleza-y-cuidado-personal    146\n",
       "6                    verduras     59\n",
       "4        instantaneos-y-sopas     37\n",
       "1          comidas-preparadas     36\n",
       "3                      frutas     19"
      ]
     },
     "execution_count": 162,
     "metadata": {},
     "output_type": "execute_result"
    }
   ],
   "source": [
    "#Seu código aqui para a média\n",
    "# Descobrindo quantos produtos temos por categoria\n",
    "df.groupby('Categoria')['title'].count().reset_index().sort_values(by='title', ascending=False)"
   ]
  },
  {
   "cell_type": "code",
   "execution_count": 164,
   "metadata": {},
   "outputs": [
    {
     "name": "stdout",
     "output_type": "stream",
     "text": [
      "Análise de Dados Únicos: \n",
      " title             781\n",
      "Marca             127\n",
      "Preco_Normal      360\n",
      "Preco_Desconto      1\n",
      "Preco_Anterior      1\n",
      "Desconto            1\n",
      "Categoria           7\n",
      "Preco_R$          360\n",
      "Unidades            7\n",
      "Preco_Unitario    349\n",
      "dtype: int64\n"
     ]
    },
    {
     "data": {
      "text/html": [
       "<div>\n",
       "<style scoped>\n",
       "    .dataframe tbody tr th:only-of-type {\n",
       "        vertical-align: middle;\n",
       "    }\n",
       "\n",
       "    .dataframe tbody tr th {\n",
       "        vertical-align: top;\n",
       "    }\n",
       "\n",
       "    .dataframe thead th {\n",
       "        text-align: right;\n",
       "    }\n",
       "</style>\n",
       "<table border=\"1\" class=\"dataframe\">\n",
       "  <thead>\n",
       "    <tr style=\"text-align: right;\">\n",
       "      <th></th>\n",
       "      <th>Preco_Unitario</th>\n",
       "      <th>Preco_R$</th>\n",
       "    </tr>\n",
       "    <tr>\n",
       "      <th>Categoria</th>\n",
       "      <th></th>\n",
       "      <th></th>\n",
       "    </tr>\n",
       "  </thead>\n",
       "  <tbody>\n",
       "    <tr>\n",
       "      <th>belleza-y-cuidado-personal</th>\n",
       "      <td>28.84</td>\n",
       "      <td>29.20</td>\n",
       "    </tr>\n",
       "    <tr>\n",
       "      <th>comidas-preparadas</th>\n",
       "      <td>39.55</td>\n",
       "      <td>39.55</td>\n",
       "    </tr>\n",
       "    <tr>\n",
       "      <th>congelados</th>\n",
       "      <td>30.21</td>\n",
       "      <td>30.21</td>\n",
       "    </tr>\n",
       "    <tr>\n",
       "      <th>frutas</th>\n",
       "      <td>17.24</td>\n",
       "      <td>17.24</td>\n",
       "    </tr>\n",
       "    <tr>\n",
       "      <th>instantaneos-y-sopas</th>\n",
       "      <td>11.79</td>\n",
       "      <td>11.79</td>\n",
       "    </tr>\n",
       "    <tr>\n",
       "      <th>lacteos</th>\n",
       "      <td>15.13</td>\n",
       "      <td>30.29</td>\n",
       "    </tr>\n",
       "    <tr>\n",
       "      <th>verduras</th>\n",
       "      <td>14.57</td>\n",
       "      <td>14.57</td>\n",
       "    </tr>\n",
       "  </tbody>\n",
       "</table>\n",
       "</div>"
      ],
      "text/plain": [
       "                            Preco_Unitario  Preco_R$\n",
       "Categoria                                           \n",
       "belleza-y-cuidado-personal           28.84     29.20\n",
       "comidas-preparadas                   39.55     39.55\n",
       "congelados                           30.21     30.21\n",
       "frutas                               17.24     17.24\n",
       "instantaneos-y-sopas                 11.79     11.79\n",
       "lacteos                              15.13     30.29\n",
       "verduras                             14.57     14.57"
      ]
     },
     "execution_count": 164,
     "metadata": {},
     "output_type": "execute_result"
    }
   ],
   "source": [
    "# Média\n",
    "print('Análise de Dados Únicos: \\n', df.nunique())\n",
    "df.columns = df.columns.str.strip()\n",
    "df.groupby('Categoria').agg({'Preco_Unitario': 'mean','Preco_R$': 'mean', }).round(2)\n",
    "\n"
   ]
  },
  {
   "cell_type": "markdown",
   "metadata": {},
   "source": [
    "Média comparando Produtos por Categoria. Observe que a comparação entre valores acima mostra que não tem muitos Packs que agrupavam o valor dos produtos. \n",
    "Apenas em Lacteos e belleza-y-cuidado-personal\t "
   ]
  },
  {
   "cell_type": "code",
   "execution_count": 165,
   "metadata": {
    "id": "Rwf4V3hnzZwh"
   },
   "outputs": [
    {
     "data": {
      "text/html": [
       "<div>\n",
       "<style scoped>\n",
       "    .dataframe tbody tr th:only-of-type {\n",
       "        vertical-align: middle;\n",
       "    }\n",
       "\n",
       "    .dataframe tbody tr th {\n",
       "        vertical-align: top;\n",
       "    }\n",
       "\n",
       "    .dataframe thead th {\n",
       "        text-align: right;\n",
       "    }\n",
       "</style>\n",
       "<table border=\"1\" class=\"dataframe\">\n",
       "  <thead>\n",
       "    <tr style=\"text-align: right;\">\n",
       "      <th></th>\n",
       "      <th>Preco_Unitario</th>\n",
       "      <th>Preco_R$</th>\n",
       "    </tr>\n",
       "    <tr>\n",
       "      <th>Categoria</th>\n",
       "      <th></th>\n",
       "      <th></th>\n",
       "    </tr>\n",
       "  </thead>\n",
       "  <tbody>\n",
       "    <tr>\n",
       "      <th>belleza-y-cuidado-personal</th>\n",
       "      <td>20.99</td>\n",
       "      <td>21.79</td>\n",
       "    </tr>\n",
       "    <tr>\n",
       "      <th>comidas-preparadas</th>\n",
       "      <td>37.40</td>\n",
       "      <td>37.40</td>\n",
       "    </tr>\n",
       "    <tr>\n",
       "      <th>congelados</th>\n",
       "      <td>29.54</td>\n",
       "      <td>29.54</td>\n",
       "    </tr>\n",
       "    <tr>\n",
       "      <th>frutas</th>\n",
       "      <td>11.95</td>\n",
       "      <td>11.95</td>\n",
       "    </tr>\n",
       "    <tr>\n",
       "      <th>instantaneos-y-sopas</th>\n",
       "      <td>6.89</td>\n",
       "      <td>6.89</td>\n",
       "    </tr>\n",
       "    <tr>\n",
       "      <th>lacteos</th>\n",
       "      <td>9.89</td>\n",
       "      <td>17.20</td>\n",
       "    </tr>\n",
       "    <tr>\n",
       "      <th>verduras</th>\n",
       "      <td>12.50</td>\n",
       "      <td>12.50</td>\n",
       "    </tr>\n",
       "  </tbody>\n",
       "</table>\n",
       "</div>"
      ],
      "text/plain": [
       "                            Preco_Unitario  Preco_R$\n",
       "Categoria                                           \n",
       "belleza-y-cuidado-personal           20.99     21.79\n",
       "comidas-preparadas                   37.40     37.40\n",
       "congelados                           29.54     29.54\n",
       "frutas                               11.95     11.95\n",
       "instantaneos-y-sopas                  6.89      6.89\n",
       "lacteos                               9.89     17.20\n",
       "verduras                             12.50     12.50"
      ]
     },
     "execution_count": 165,
     "metadata": {},
     "output_type": "execute_result"
    }
   ],
   "source": [
    "#Mediana\n",
    "df.groupby('Categoria').agg({'Preco_Unitario': 'median','Preco_R$': 'median', }).round(2)"
   ]
  },
  {
   "cell_type": "markdown",
   "metadata": {
    "id": "nKBFOh-mzyWX"
   },
   "source": [
    "Digite aqui as categorias:"
   ]
  },
  {
   "cell_type": "markdown",
   "metadata": {
    "id": "jdHZurzDzca0"
   },
   "source": [
    "# 2 - Traga o desvio padrão por categoria de produto.\n",
    "# Qual o comportamento da média e mediana nas categorias com maior desvio?"
   ]
  },
  {
   "cell_type": "code",
   "execution_count": 166,
   "metadata": {
    "id": "xEXT1gtoz135"
   },
   "outputs": [
    {
     "data": {
      "text/html": [
       "<div>\n",
       "<style scoped>\n",
       "    .dataframe tbody tr th:only-of-type {\n",
       "        vertical-align: middle;\n",
       "    }\n",
       "\n",
       "    .dataframe tbody tr th {\n",
       "        vertical-align: top;\n",
       "    }\n",
       "\n",
       "    .dataframe thead th {\n",
       "        text-align: right;\n",
       "    }\n",
       "</style>\n",
       "<table border=\"1\" class=\"dataframe\">\n",
       "  <thead>\n",
       "    <tr style=\"text-align: right;\">\n",
       "      <th></th>\n",
       "      <th>Preco_Unitario</th>\n",
       "      <th>Preco_R$</th>\n",
       "    </tr>\n",
       "    <tr>\n",
       "      <th>Categoria</th>\n",
       "      <th></th>\n",
       "      <th></th>\n",
       "    </tr>\n",
       "  </thead>\n",
       "  <tbody>\n",
       "    <tr>\n",
       "      <th>belleza-y-cuidado-personal</th>\n",
       "      <td>21.67</td>\n",
       "      <td>21.63</td>\n",
       "    </tr>\n",
       "    <tr>\n",
       "      <th>comidas-preparadas</th>\n",
       "      <td>13.22</td>\n",
       "      <td>13.22</td>\n",
       "    </tr>\n",
       "    <tr>\n",
       "      <th>congelados</th>\n",
       "      <td>19.04</td>\n",
       "      <td>19.04</td>\n",
       "    </tr>\n",
       "    <tr>\n",
       "      <th>frutas</th>\n",
       "      <td>16.39</td>\n",
       "      <td>16.39</td>\n",
       "    </tr>\n",
       "    <tr>\n",
       "      <th>instantaneos-y-sopas</th>\n",
       "      <td>12.76</td>\n",
       "      <td>12.76</td>\n",
       "    </tr>\n",
       "    <tr>\n",
       "      <th>lacteos</th>\n",
       "      <td>17.82</td>\n",
       "      <td>41.99</td>\n",
       "    </tr>\n",
       "    <tr>\n",
       "      <th>verduras</th>\n",
       "      <td>9.72</td>\n",
       "      <td>9.72</td>\n",
       "    </tr>\n",
       "  </tbody>\n",
       "</table>\n",
       "</div>"
      ],
      "text/plain": [
       "                            Preco_Unitario  Preco_R$\n",
       "Categoria                                           \n",
       "belleza-y-cuidado-personal           21.67     21.63\n",
       "comidas-preparadas                   13.22     13.22\n",
       "congelados                           19.04     19.04\n",
       "frutas                               16.39     16.39\n",
       "instantaneos-y-sopas                 12.76     12.76\n",
       "lacteos                              17.82     41.99\n",
       "verduras                              9.72      9.72"
      ]
     },
     "execution_count": 166,
     "metadata": {},
     "output_type": "execute_result"
    }
   ],
   "source": [
    "# Desvio Padrão\n",
    "df.groupby('Categoria').agg({'Preco_Unitario': 'std','Preco_R$': 'std', }).round(2)"
   ]
  },
  {
   "cell_type": "markdown",
   "metadata": {
    "id": "HzsLO4nOz3yJ"
   },
   "source": [
    "Observações:\n",
    "Comparativo Preco_ Normal_R$ e Preço_Unitario\n",
    "\n",
    "Impactos considerável em Produtos Lacteos seguido de leve alteração em  belleza-y-cuidado-personal\n",
    "\n",
    "**Média:** \n",
    "Estão naturalmente altas pois diluiram valores maiores (Packs) com menores.\n",
    "\n",
    "**Mediana:** \n",
    "A categoria belleza-y-cuidado-personal paresentam uma mediana e desvio padrão próximos(mediana: 21.79, std: 21.63).\n",
    "Isso que dizer que os valores estão bem distribuidos e tem pouco ou nenhum outiliers.\n",
    "\n",
    "**Desvio Padrão:** Os numeros que se aproximam da mediana representam dados bem distribuidos proximos da mediana.\n",
    "Já os dados que estão relativamente longe da mediana estão dispersos. Isso quer dizer que os preços variam bastante\n",
    "ou seja, não estão todos próximos do valor central.\n",
    "\n",
    "  \n",
    "Contagem após a limpeza: 813.000000\n",
    "\n",
    "Média de todos os Produtos: \n",
    "\n",
    "Preco_ Normal_R$ : 28.199188 \n",
    "\n",
    "Preço_Unitario:    21.572302  \n",
    "\n",
    "Desvio Padrão:\n",
    "\n",
    "Preco_ Normal_R$ todos : 31.352109   \n",
    "\n",
    "Preço_Unitario todos:    21.572302\n",
    "\n",
    "\n",
    "Por Categorias-Preço_Unitario\n",
    "\n",
    "belleza-y-cuidado-personal  Media:\t28.84, Mediana: 20.99, std: 21.67\n",
    "\n",
    "comidas-preparadas\t        Média:  39.55, Mediana: 37.40, std: 13.22\n",
    "\n",
    "congelados\t                Média:  30.21, Mediana: 29.54, std: 19.04\n",
    "\n",
    "frutas\t                    Média:  17.24, Mediana: 11.95, std: 16.39\n",
    "\n",
    "instantaneos-y-sopas\t    Média:  11.79, Mediana: 6.89,  std: 12.76\n",
    "\n",
    "lacteos\t                    Média:**15.13, Mediana: 9.89,  std: 17.82**\n",
    "\n",
    "verduras\t                Média:  14.57, Mediana: 12.50, std: 9.72\n",
    "\n",
    "Por Categorias-Preco_ Normal_R$\n",
    "\n",
    "belleza-y-cuidado-personal  Media:\t29.20, Mediana: 21.79, std: 21.63\n",
    "\n",
    "comidas-preparadas\t        Média:  39.55, Mediana: 37.40, std: 13.22\n",
    "\n",
    "congelados\t                Média:  30.21, Mediana: 29.54, std: 19.04\n",
    "\n",
    "frutas\t                    Média:  17.24, Mediana: 11.95, std: 16.39\n",
    "\n",
    "instantaneos-y-sopas\t    Média:  11.79, Mediana: 6.89,  std: 12.76\n",
    "\n",
    "lacteos\t                    Média:**30.29, Mediana: 17.20, std: 41.99**\n",
    "\n",
    "verduras\t                Média:  14.57, Mediana: 12.50, std: 9.72\n",
    "\n",
    "\n"
   ]
  },
  {
   "cell_type": "markdown",
   "metadata": {
    "id": "4aW51rCHBr2w"
   },
   "source": [
    "# 3 - Plot um boxplot da distribuição do Preco_Normal para a categoria que você identificou que tem o maior desvio padrão. Como é a distribuição desses dados segundo o boxplot? Você identifica muitos outliers?"
   ]
  },
  {
   "cell_type": "markdown",
   "metadata": {
    "id": "kwPKkUZnEUSb"
   },
   "source": [
    "Dica: Para trazer apenas os dados da categoria que você deseja você pode usar o df.loc[df['Categoria'] == 'CATEGORIA ESCOLHIDA'"
   ]
  },
  {
   "cell_type": "code",
   "execution_count": 1,
   "metadata": {},
   "outputs": [
    {
     "ename": "NameError",
     "evalue": "name 'df' is not defined",
     "output_type": "error",
     "traceback": [
      "\u001b[1;31m---------------------------------------------------------------------------\u001b[0m",
      "\u001b[1;31mNameError\u001b[0m                                 Traceback (most recent call last)",
      "Cell \u001b[1;32mIn[1], line 3\u001b[0m\n\u001b[0;32m      1\u001b[0m \u001b[38;5;66;03m# Filtrar apenas os produtos da categoria 'Lacteos'\u001b[39;00m\n\u001b[1;32m----> 3\u001b[0m df\u001b[38;5;241m.\u001b[39mloc[df[\u001b[38;5;124m'\u001b[39m\u001b[38;5;124mCategoria\u001b[39m\u001b[38;5;124m'\u001b[39m] \u001b[38;5;241m==\u001b[39m \u001b[38;5;124m'\u001b[39m\u001b[38;5;124mlacteos\u001b[39m\u001b[38;5;124m'\u001b[39m]\n\u001b[0;32m      5\u001b[0m \u001b[38;5;66;03m# Criar o boxplot com os preços normais dos produtos lácteos\u001b[39;00m\n\u001b[0;32m      6\u001b[0m plt\u001b[38;5;241m.\u001b[39mfigure(figsize\u001b[38;5;241m=\u001b[39m(\u001b[38;5;241m8\u001b[39m, \u001b[38;5;241m6\u001b[39m))\n",
      "\u001b[1;31mNameError\u001b[0m: name 'df' is not defined"
     ]
    }
   ],
   "source": [
    "# Filtrar apenas os produtos da categoria 'Lacteos'\n",
    "\n",
    "df.loc[df['Categoria'] == 'lacteos']\n",
    "\n",
    "# Criar o boxplot com os preços normais dos produtos lácteos\n",
    "plt.figure(figsize=(8, 6))\n",
    "plt.boxplot(lacteos_df['Preco_R$'])\n",
    "plt.title('Boxplot - Categoria Lácteos', fontsize=16)\n",
    "plt.ylabel('Preço (R$)', fontsize=12)\n",
    "plt.grid(True, linestyle='--', alpha=0.7)\n",
    "plt.show()"
   ]
  },
  {
   "cell_type": "code",
   "execution_count": 177,
   "metadata": {},
   "outputs": [
    {
     "data": {
      "image/png": "[encoded data removed]",
      "text/plain": [
       "<Figure size 800x600 with 1 Axes>"
      ]
     },
     "metadata": {},
     "output_type": "display_data"
    }
   ],
   "source": [
    "# Limpar nomes de colunas\n",
    "df.columns = df.columns.str.strip()\n",
    "\n",
    "# Filtrar apenas produtos da categoria 'Lacteos'\n",
    "lacteos_df = df[df['Categoria'].str.lower().str.strip() == 'lacteos']\n",
    "\n",
    "# Criar o boxplot com Preço Normal e Preço Unitário\n",
    "plt.figure(figsize=(8, 6))\n",
    "plt.boxplot([\n",
    "    lacteos_df['Preco_R$'].dropna(),\n",
    "    lacteos_df['Preco_Unitario'].dropna()\n",
    "])\n",
    "\n",
    "# Rótulos e título\n",
    "plt.xticks([1, 2], ['Preço_R$)', 'Preço Unitário (R$)'])\n",
    "plt.title('Boxplot - Categoria Lácteos', fontsize=16)\n",
    "plt.ylabel('Preço (R$)', fontsize=12)\n",
    "plt.grid(True, linestyle='--', alpha=0.7)\n",
    "plt.show()\n"
   ]
  },
  {
   "cell_type": "markdown",
   "metadata": {
    "id": "w5xgQBC_0Hg-"
   },
   "source": [
    "# 4 - Plote um gráfico de barras onde temos a média de descontos por categoria."
   ]
  },
  {
   "cell_type": "code",
   "execution_count": 188,
   "metadata": {
    "id": "DBj5zAdI0QfI"
   },
   "outputs": [
    {
     "name": "stdout",
     "output_type": "stream",
     "text": [
      "Análise de Dados Únicos: \n",
      " title             781\n",
      "Marca             127\n",
      "Preco_Normal      360\n",
      "Preco_Desconto    731\n",
      "Preco_Anterior      1\n",
      "Desconto            1\n",
      "Categoria           7\n",
      "Preco_R$          360\n",
      "Unidades            7\n",
      "Preco_Unitario    349\n",
      "Desconto_%        546\n",
      "dtype: int64\n"
     ]
    },
    {
     "data": {
      "image/png": "[encoded data removed]",
      "text/plain": [
       "<Figure size 640x480 with 1 Axes>"
      ]
     },
     "metadata": {},
     "output_type": "display_data"
    },
    {
     "data": {
      "image/png": "[encoded data removed]",
      "text/plain": [
       "<Figure size 640x480 with 1 Axes>"
      ]
     },
     "metadata": {},
     "output_type": "display_data"
    }
   ],
   "source": [
    "#import numpy as np\n",
    "# Criar coluna com descontos aleatórios entre 5% e 15%\n",
    "df['Desconto_%'] = np.random.uniform(5, 15, size=len(df)).round(2)\n",
    "\n",
    "# Aplicar o desconto sobre o Preço Normal\n",
    "df['Preco_Desconto'] = (df['Preco_R$'] * (1 - df['Desconto_%'] / 100)).round(2)\n",
    "\n",
    "print('Análise de Dados Únicos: \\n', df.nunique())\n",
    "df.groupby('Categoria')['Preco_Desconto'].mean().round(2)\n",
    "\n",
    "\n",
    "media = df['Desconto_%'].mean()\n",
    "\n",
    "sns.kdeplot(df['Desconto_%'], fill=True, color='purple')\n",
    "plt.title('Distribuição de Descontos (%)')\n",
    "plt.xlabel('Desconto (%)')\n",
    "plt.ylabel('Densidade')\n",
    "plt.grid(True, linestyle='--', alpha=0.6)\n",
    "plt.show()\n",
    "\n",
    "# Gráfico de barras com média de desconto por categoria\n",
    "sns.barplot(data=df, x='Categoria', y='Desconto_%', estimator='mean', errorbar=None, hue='Categoria', legend=False, palette='viridis')\n",
    "plt.title('Média de Desconto por Categoria')\n",
    "plt.ylabel('Desconto Médio (%)')\n",
    "plt.xticks(rotation=45)\n",
    "plt.grid(True, linestyle='--', alpha=0.6)\n",
    "plt.show()"
   ]
  },
  {
   "cell_type": "markdown",
   "metadata": {
    "id": "vqlx0w7E07uC"
   },
   "source": [
    "# 5 - Plote um gráfico de mapa interativo agrupando os dados por categoria, marca e trazendo a média de desconto."
   ]
  },
  {
   "cell_type": "code",
   "execution_count": 197,
   "metadata": {
    "id": "D-JWM64Q1NzB"
   },
   "outputs": [
    {
     "data": {
      "application/vnd.plotly.v1+json": {
       "config": {
        "plotlyServerURL": "https://plot.ly"
       },
       "data": [
        {
         "branchvalues": "total",
         "customdata": [
          [
           10.547999999999998
          ],
          [
           8.18
          ],
          [
           6.305
          ],
          [
           10.24
          ],
          [
           10.426666666666668
          ],
          [
           11.25
          ],
          [
           12.419999999999998
          ],
          [
           13.93
          ],
          [
           9.08
          ],
          [
           7.81
          ],
          [
           7.655
          ],
          [
           7.56
          ],
          [
           14.04
          ],
          [
           10.688333333333333
          ],
          [
           9.418333333333333
          ],
          [
           7.24
          ],
          [
           11.612222222222222
          ],
          [
           11.685714285714285
          ],
          [
           10.145
          ],
          [
           13.57
          ],
          [
           10.113333333333335
          ],
          [
           8.37
          ],
          [
           13.5
          ],
          [
           10.17
          ],
          [
           6.970000000000001
          ],
          [
           10.524225352112676
          ],
          [
           5.45
          ],
          [
           8.955
          ],
          [
           5.990000000000001
          ],
          [
           7.09
          ],
          [
           9.864285714285714
          ],
          [
           9.8204
          ],
          [
           10.03
          ],
          [
           9.962857142857143
          ],
          [
           11.115
          ],
          [
           13.189999999999998
          ],
          [
           10.716666666666667
          ],
          [
           9.99
          ],
          [
           7.34
          ],
          [
           7.165
          ],
          [
           8.814
          ],
          [
           10.7425
          ],
          [
           10.2125
          ],
          [
           11.26
          ],
          [
           8.275
          ],
          [
           11.65764705882353
          ],
          [
           9.621666666666668
          ],
          [
           12.88
          ],
          [
           10.812222222222223
          ],
          [
           10.25
          ],
          [
           10.115
          ],
          [
           6.53
          ],
          [
           10.7
          ],
          [
           9.935714285714285
          ],
          [
           10.2825
          ],
          [
           11.395
          ],
          [
           6.6
          ],
          [
           10.72
          ],
          [
           8.936666666666667
          ],
          [
           13.155000000000001
          ],
          [
           8.793333333333335
          ],
          [
           8.71
          ],
          [
           8.31
          ],
          [
           9.664782608695651
          ],
          [
           10.1
          ],
          [
           9.219999999999999
          ],
          [
           11.3475
          ],
          [
           7.835
          ],
          [
           10.31
          ],
          [
           8.65
          ],
          [
           12.260000000000002
          ],
          [
           10.090714285714286
          ],
          [
           11.81
          ],
          [
           9.542857142857143
          ],
          [
           14.05
          ],
          [
           9.698235294117648
          ],
          [
           10.723333333333334
          ],
          [
           7.22
          ],
          [
           8.15
          ],
          [
           9.783333333333333
          ],
          [
           10.345714285714285
          ],
          [
           6.26
          ],
          [
           9.942962962962962
          ],
          [
           9.31
          ],
          [
           8.115
          ],
          [
           8.558571428571428
          ],
          [
           9.488888888888889
          ],
          [
           11
          ],
          [
           10.466666666666667
          ],
          [
           14.23
          ],
          [
           12.81
          ],
          [
           11.43625
          ],
          [
           11.526666666666667
          ],
          [
           9.25
          ],
          [
           11.76
          ],
          [
           9.65
          ],
          [
           7.32
          ],
          [
           6.86
          ],
          [
           7.54
          ],
          [
           11.120000000000001
          ],
          [
           10.652222222222223
          ],
          [
           12.07
          ],
          [
           10.154166666666667
          ],
          [
           10.364999999999998
          ],
          [
           7.816666666666666
          ],
          [
           5.95
          ],
          [
           12.34
          ],
          [
           11.409999999999998
          ],
          [
           9.83
          ],
          [
           5.41
          ],
          [
           8.665
          ],
          [
           11.94
          ],
          [
           13.27
          ],
          [
           14.22
          ],
          [
           9.025
          ],
          [
           10.01
          ],
          [
           13.25
          ],
          [
           9.97090909090909
          ],
          [
           7.04
          ],
          [
           8.785
          ],
          [
           9.41
          ],
          [
           10.67375
          ],
          [
           14.73
          ],
          [
           7.49
          ],
          [
           9.821388888888889
          ],
          [
           5.91
          ],
          [
           13.18
          ],
          [
           10.2225
          ],
          [
           10.29
          ],
          [
           11.075384615384614
          ],
          [
           9.966666666666667
          ],
          [
           12.009999999999998
          ],
          [
           9.13
          ],
          [
           8.83
          ],
          [
           8.333333333333334
          ],
          [
           10.18375
          ],
          [
           9.057500000000001
          ],
          [
           11.76
          ],
          [
           9.838050194426092
          ],
          [
           10.998100113421101
          ],
          [
           10.635742453357185
          ],
          [
           13.211080209898356
          ],
          [
           10.217602520061734
          ],
          [
           10.337394185517248
          ],
          [
           8.95167539321407
          ]
         ],
         "domain": {
          "x": [
           0,
           1
          ],
          "y": [
           0,
           1
          ]
         },
         "hovertemplate": "labels=%{label}<br>Desconto_%_sum=%{value}<br>parent=%{parent}<br>id=%{id}<br>Desconto_%=%{color}<extra></extra>",
         "ids": [
          "lacteos/Activia",
          "verduras/Agrosano",
          "instantaneos-y-sopas/Alcafood",
          "congelados/Alimentos Shen",
          "belleza-y-cuidado-personal/Always",
          "belleza-y-cuidado-personal/Aquafresh",
          "lacteos/Astra",
          "belleza-y-cuidado-personal/Babyland",
          "belleza-y-cuidado-personal/Ballerina",
          "lacteos/Base Culinar",
          "belleza-y-cuidado-personal/Bellekiss",
          "lacteos/Bonella",
          "congelados/Bravissimo",
          "comidas-preparadas/Bredenmaster",
          "congelados/Bresler",
          "belleza-y-cuidado-personal/Brooks",
          "lacteos/Calan",
          "lacteos/Calo",
          "belleza-y-cuidado-personal/Carefree",
          "instantaneos-y-sopas/Carozzi",
          "lacteos/Chamyto",
          "lacteos/Chiquitín",
          "lacteos/Cintazul",
          "belleza-y-cuidado-personal/Colgate",
          "lacteos/Collico",
          "lacteos/Colun",
          "lacteos/Copacabana",
          "comidas-preparadas/Corbac",
          "belleza-y-cuidado-personal/Cotosan",
          "lacteos/Crucina",
          "comidas-preparadas/Cuisine & Co",
          "congelados/Cuisine & Co",
          "instantaneos-y-sopas/Cuisine & Co",
          "lacteos/Cuisine & Co",
          "lacteos/Danone",
          "lacteos/Deline",
          "belleza-y-cuidado-personal/Dento",
          "belleza-y-cuidado-personal/Dove",
          "belleza-y-cuidado-personal/Dove Men",
          "belleza-y-cuidado-personal/Duralón",
          "belleza-y-cuidado-personal/Elvive",
          "belleza-y-cuidado-personal/Familand",
          "belleza-y-cuidado-personal/Family Care",
          "congelados/Fiesta",
          "belleza-y-cuidado-personal/Fructis",
          "frutas/Frutas Y Verduras Propias",
          "verduras/Frutas Y Verduras Propias",
          "frutas/Frutas Y Verduras Santa Isabel",
          "congelados/Frutos Del Maipo",
          "belleza-y-cuidado-personal/Garnier",
          "belleza-y-cuidado-personal/Gillette",
          "belleza-y-cuidado-personal/Giselle",
          "instantaneos-y-sopas/Gourmet",
          "congelados/Guallarauco",
          "belleza-y-cuidado-personal/Head & Shoulders",
          "instantaneos-y-sopas/Hoffmann",
          "lacteos/Ideal",
          "belleza-y-cuidado-personal/Ilicit",
          "verduras/Jumbo",
          "congelados/King",
          "belleza-y-cuidado-personal/Kotex",
          "lacteos/Kumey",
          "comidas-preparadas/La Crianza",
          "congelados/La Crianza",
          "belleza-y-cuidado-personal/Lady Speed Stick",
          "belleza-y-cuidado-personal/Ladysoft",
          "belleza-y-cuidado-personal/Le Sancy",
          "lacteos/Lefersa",
          "lacteos/Light & Free",
          "belleza-y-cuidado-personal/Linic",
          "belleza-y-cuidado-personal/Listerine",
          "lacteos/Loncoleche",
          "lacteos/Los Alerces",
          "instantaneos-y-sopas/Maggi",
          "lacteos/Marco Polo",
          "congelados/Minuto Verde",
          "congelados/Mister Veggie",
          "instantaneos-y-sopas/Máxima MP",
          "lacteos/Máxima MP",
          "belleza-y-cuidado-personal/Naturella",
          "instantaneos-y-sopas/Naturezza",
          "lacteos/Nesquik",
          "lacteos/Nestlé",
          "lacteos/Next",
          "lacteos/Nido",
          "belleza-y-cuidado-personal/Nivea",
          "belleza-y-cuidado-personal/Nosotras",
          "congelados/Not Chicken",
          "lacteos/Oikos",
          "belleza-y-cuidado-personal/Old Spice",
          "lacteos/Omega 3",
          "belleza-y-cuidado-personal/Oral-B",
          "comidas-preparadas/PF",
          "congelados/PF",
          "lacteos/Pamperita",
          "belleza-y-cuidado-personal/Pantene",
          "belleza-y-cuidado-personal/Pepsodent",
          "belleza-y-cuidado-personal/Plenitud",
          "belleza-y-cuidado-personal/Protex",
          "lacteos/Qualy",
          "lacteos/Quillayes",
          "comidas-preparadas/Rana",
          "congelados/Receta Del Abuelo",
          "lacteos/Regimel",
          "congelados/Rikü",
          "congelados/Rock",
          "comidas-preparadas/Sadia",
          "congelados/Sadia",
          "congelados/Sahne Nuss",
          "lacteos/Sahne Nuss",
          "congelados/San Francisco De Loncomilla",
          "lacteos/San Ignacio",
          "congelados/San Jorge",
          "comidas-preparadas/Santa Isabel",
          "instantaneos-y-sopas/Santa Isabel",
          "lacteos/Santa Isabel",
          "lacteos/Santa Marta",
          "congelados/Savory",
          "belleza-y-cuidado-personal/Schick",
          "lacteos/Shake A Shake Lonco Leche",
          "lacteos/Signore Mario",
          "belleza-y-cuidado-personal/Simond'S",
          "frutas/Sofruco",
          "comidas-preparadas/Solo Italia",
          "lacteos/Soprole",
          "belleza-y-cuidado-personal/Speed Stick",
          "congelados/Super Cerdo",
          "congelados/Super Pollo",
          "lacteos/Sureña",
          "lacteos/Surlat",
          "lacteos/Svelty",
          "belleza-y-cuidado-personal/Tena",
          "congelados/Tivoni",
          "belleza-y-cuidado-personal/Trianon",
          "congelados/Turkey Hill",
          "lacteos/Yogu - Yogu",
          "lacteos/Zerolacto",
          "congelados/Zole",
          "belleza-y-cuidado-personal",
          "comidas-preparadas",
          "congelados",
          "frutas",
          "instantaneos-y-sopas",
          "lacteos",
          "verduras"
         ],
         "labels": [
          "Activia",
          "Agrosano",
          "Alcafood",
          "Alimentos Shen",
          "Always",
          "Aquafresh",
          "Astra",
          "Babyland",
          "Ballerina",
          "Base Culinar",
          "Bellekiss",
          "Bonella",
          "Bravissimo",
          "Bredenmaster",
          "Bresler",
          "Brooks",
          "Calan",
          "Calo",
          "Carefree",
          "Carozzi",
          "Chamyto",
          "Chiquitín",
          "Cintazul",
          "Colgate",
          "Collico",
          "Colun",
          "Copacabana",
          "Corbac",
          "Cotosan",
          "Crucina",
          "Cuisine & Co",
          "Cuisine & Co",
          "Cuisine & Co",
          "Cuisine & Co",
          "Danone",
          "Deline",
          "Dento",
          "Dove",
          "Dove Men",
          "Duralón",
          "Elvive",
          "Familand",
          "Family Care",
          "Fiesta",
          "Fructis",
          "Frutas Y Verduras Propias",
          "Frutas Y Verduras Propias",
          "Frutas Y Verduras Santa Isabel",
          "Frutos Del Maipo",
          "Garnier",
          "Gillette",
          "Giselle",
          "Gourmet",
          "Guallarauco",
          "Head & Shoulders",
          "Hoffmann",
          "Ideal",
          "Ilicit",
          "Jumbo",
          "King",
          "Kotex",
          "Kumey",
          "La Crianza",
          "La Crianza",
          "Lady Speed Stick",
          "Ladysoft",
          "Le Sancy",
          "Lefersa",
          "Light & Free",
          "Linic",
          "Listerine",
          "Loncoleche",
          "Los Alerces",
          "Maggi",
          "Marco Polo",
          "Minuto Verde",
          "Mister Veggie",
          "Máxima MP",
          "Máxima MP",
          "Naturella",
          "Naturezza",
          "Nesquik",
          "Nestlé",
          "Next",
          "Nido",
          "Nivea",
          "Nosotras",
          "Not Chicken",
          "Oikos",
          "Old Spice",
          "Omega 3",
          "Oral-B",
          "PF",
          "PF",
          "Pamperita",
          "Pantene",
          "Pepsodent",
          "Plenitud",
          "Protex",
          "Qualy",
          "Quillayes",
          "Rana",
          "Receta Del Abuelo",
          "Regimel",
          "Rikü",
          "Rock",
          "Sadia",
          "Sadia",
          "Sahne Nuss",
          "Sahne Nuss",
          "San Francisco De Loncomilla",
          "San Ignacio",
          "San Jorge",
          "Santa Isabel",
          "Santa Isabel",
          "Santa Isabel",
          "Santa Marta",
          "Savory",
          "Schick",
          "Shake A Shake Lonco Leche",
          "Signore Mario",
          "Simond'S",
          "Sofruco",
          "Solo Italia",
          "Soprole",
          "Speed Stick",
          "Super Cerdo",
          "Super Pollo",
          "Sureña",
          "Surlat",
          "Svelty",
          "Tena",
          "Tivoni",
          "Trianon",
          "Turkey Hill",
          "Yogu - Yogu",
          "Zerolacto",
          "Zole",
          "belleza-y-cuidado-personal",
          "comidas-preparadas",
          "congelados",
          "frutas",
          "instantaneos-y-sopas",
          "lacteos",
          "verduras"
         ],
         "marker": {
          "coloraxis": "coloraxis",
          "colors": [
           10.547999999999998,
           8.18,
           6.305,
           10.24,
           10.426666666666668,
           11.25,
           12.419999999999998,
           13.93,
           9.08,
           7.81,
           7.655,
           7.56,
           14.04,
           10.688333333333333,
           9.418333333333333,
           7.24,
           11.612222222222222,
           11.685714285714285,
           10.145,
           13.57,
           10.113333333333335,
           8.37,
           13.5,
           10.17,
           6.970000000000001,
           10.524225352112676,
           5.45,
           8.955,
           5.990000000000001,
           7.09,
           9.864285714285714,
           9.8204,
           10.03,
           9.962857142857143,
           11.115,
           13.189999999999998,
           10.716666666666667,
           9.99,
           7.34,
           7.165,
           8.814,
           10.7425,
           10.2125,
           11.26,
           8.275,
           11.65764705882353,
           9.621666666666668,
           12.88,
           10.812222222222223,
           10.25,
           10.115,
           6.53,
           10.7,
           9.935714285714285,
           10.2825,
           11.395,
           6.6,
           10.72,
           8.936666666666667,
           13.155000000000001,
           8.793333333333335,
           8.71,
           8.31,
           9.664782608695651,
           10.1,
           9.219999999999999,
           11.3475,
           7.835,
           10.31,
           8.65,
           12.260000000000002,
           10.090714285714286,
           11.81,
           9.542857142857143,
           14.05,
           9.698235294117648,
           10.723333333333334,
           7.22,
           8.15,
           9.783333333333333,
           10.345714285714285,
           6.26,
           9.942962962962962,
           9.31,
           8.115,
           8.558571428571428,
           9.488888888888889,
           11,
           10.466666666666667,
           14.23,
           12.81,
           11.43625,
           11.526666666666667,
           9.25,
           11.76,
           9.65,
           7.32,
           6.86,
           7.54,
           11.120000000000001,
           10.652222222222223,
           12.07,
           10.154166666666667,
           10.364999999999998,
           7.816666666666666,
           5.95,
           12.34,
           11.409999999999998,
           9.83,
           5.41,
           8.665,
           11.94,
           13.27,
           14.22,
           9.025,
           10.01,
           13.25,
           9.97090909090909,
           7.04,
           8.785,
           9.41,
           10.67375,
           14.73,
           7.49,
           9.821388888888889,
           5.91,
           13.18,
           10.2225,
           10.29,
           11.075384615384614,
           9.966666666666667,
           12.009999999999998,
           9.13,
           8.83,
           8.333333333333334,
           10.18375,
           9.057500000000001,
           11.76,
           9.838050194426092,
           10.998100113421101,
           10.635742453357185,
           13.211080209898356,
           10.217602520061734,
           10.337394185517248,
           8.95167539321407
          ]
         },
         "name": "",
         "parents": [
          "lacteos",
          "verduras",
          "instantaneos-y-sopas",
          "congelados",
          "belleza-y-cuidado-personal",
          "belleza-y-cuidado-personal",
          "lacteos",
          "belleza-y-cuidado-personal",
          "belleza-y-cuidado-personal",
          "lacteos",
          "belleza-y-cuidado-personal",
          "lacteos",
          "congelados",
          "comidas-preparadas",
          "congelados",
          "belleza-y-cuidado-personal",
          "lacteos",
          "lacteos",
          "belleza-y-cuidado-personal",
          "instantaneos-y-sopas",
          "lacteos",
          "lacteos",
          "lacteos",
          "belleza-y-cuidado-personal",
          "lacteos",
          "lacteos",
          "lacteos",
          "comidas-preparadas",
          "belleza-y-cuidado-personal",
          "lacteos",
          "comidas-preparadas",
          "congelados",
          "instantaneos-y-sopas",
          "lacteos",
          "lacteos",
          "lacteos",
          "belleza-y-cuidado-personal",
          "belleza-y-cuidado-personal",
          "belleza-y-cuidado-personal",
          "belleza-y-cuidado-personal",
          "belleza-y-cuidado-personal",
          "belleza-y-cuidado-personal",
          "belleza-y-cuidado-personal",
          "congelados",
          "belleza-y-cuidado-personal",
          "frutas",
          "verduras",
          "frutas",
          "congelados",
          "belleza-y-cuidado-personal",
          "belleza-y-cuidado-personal",
          "belleza-y-cuidado-personal",
          "instantaneos-y-sopas",
          "congelados",
          "belleza-y-cuidado-personal",
          "instantaneos-y-sopas",
          "lacteos",
          "belleza-y-cuidado-personal",
          "verduras",
          "congelados",
          "belleza-y-cuidado-personal",
          "lacteos",
          "comidas-preparadas",
          "congelados",
          "belleza-y-cuidado-personal",
          "belleza-y-cuidado-personal",
          "belleza-y-cuidado-personal",
          "lacteos",
          "lacteos",
          "belleza-y-cuidado-personal",
          "belleza-y-cuidado-personal",
          "lacteos",
          "lacteos",
          "instantaneos-y-sopas",
          "lacteos",
          "congelados",
          "congelados",
          "instantaneos-y-sopas",
          "lacteos",
          "belleza-y-cuidado-personal",
          "instantaneos-y-sopas",
          "lacteos",
          "lacteos",
          "lacteos",
          "lacteos",
          "belleza-y-cuidado-personal",
          "belleza-y-cuidado-personal",
          "congelados",
          "lacteos",
          "belleza-y-cuidado-personal",
          "lacteos",
          "belleza-y-cuidado-personal",
          "comidas-preparadas",
          "congelados",
          "lacteos",
          "belleza-y-cuidado-personal",
          "belleza-y-cuidado-personal",
          "belleza-y-cuidado-personal",
          "belleza-y-cuidado-personal",
          "lacteos",
          "lacteos",
          "comidas-preparadas",
          "congelados",
          "lacteos",
          "congelados",
          "congelados",
          "comidas-preparadas",
          "congelados",
          "congelados",
          "lacteos",
          "congelados",
          "lacteos",
          "congelados",
          "comidas-preparadas",
          "instantaneos-y-sopas",
          "lacteos",
          "lacteos",
          "congelados",
          "belleza-y-cuidado-personal",
          "lacteos",
          "lacteos",
          "belleza-y-cuidado-personal",
          "frutas",
          "comidas-preparadas",
          "lacteos",
          "belleza-y-cuidado-personal",
          "congelados",
          "congelados",
          "lacteos",
          "lacteos",
          "lacteos",
          "belleza-y-cuidado-personal",
          "congelados",
          "belleza-y-cuidado-personal",
          "congelados",
          "lacteos",
          "lacteos",
          "congelados",
          "",
          "",
          "",
          "",
          "",
          "",
          ""
         ],
         "type": "treemap",
         "values": [
          10.547999999999998,
          8.18,
          6.305,
          10.24,
          10.426666666666668,
          11.25,
          12.42,
          13.93,
          9.08,
          7.81,
          7.655,
          7.56,
          14.04,
          10.688333333333333,
          9.418333333333333,
          7.24,
          11.612222222222222,
          11.685714285714285,
          10.145,
          13.57,
          10.113333333333335,
          8.37,
          13.5,
          10.17,
          6.97,
          10.524225352112676,
          5.45,
          8.955,
          5.99,
          7.09,
          9.864285714285714,
          9.8204,
          10.03,
          9.962857142857143,
          11.115,
          13.19,
          10.716666666666667,
          9.99,
          7.34,
          7.165,
          8.814,
          10.7425,
          10.2125,
          11.26,
          8.275,
          11.65764705882353,
          9.621666666666668,
          12.88,
          10.812222222222223,
          10.25,
          10.115,
          6.53,
          10.7,
          9.935714285714285,
          10.2825,
          11.395,
          6.6,
          10.72,
          8.936666666666667,
          13.155000000000001,
          8.793333333333335,
          8.71,
          8.31,
          9.664782608695651,
          10.1,
          9.219999999999999,
          11.3475,
          7.835,
          10.31,
          8.65,
          12.26,
          10.090714285714286,
          11.81,
          9.542857142857143,
          14.05,
          9.698235294117648,
          10.723333333333334,
          7.22,
          8.15,
          9.783333333333333,
          10.345714285714285,
          6.26,
          9.942962962962962,
          9.31,
          8.115,
          8.558571428571428,
          9.488888888888889,
          11,
          10.466666666666667,
          14.23,
          12.81,
          11.43625,
          11.526666666666666,
          9.25,
          11.76,
          9.65,
          7.32,
          6.86,
          7.54,
          11.120000000000001,
          10.652222222222223,
          12.07,
          10.154166666666667,
          10.364999999999998,
          7.816666666666666,
          5.95,
          12.34,
          11.409999999999998,
          9.83,
          5.41,
          8.665,
          11.94,
          13.27,
          14.22,
          9.025,
          10.01,
          13.25,
          9.97090909090909,
          7.04,
          8.785,
          9.41,
          10.67375,
          14.73,
          7.49,
          9.821388888888889,
          5.91,
          13.18,
          10.2225,
          10.29,
          11.075384615384614,
          9.966666666666667,
          12.01,
          9.13,
          8.83,
          8.333333333333334,
          10.18375,
          9.057500000000001,
          11.76,
          396.74146031746034,
          95.46428571428571,
          268.7105968349922,
          39.26764705882353,
          88.13357142857143,
          455.478608644746,
          26.738333333333337
         ]
        }
       ],
       "layout": {
        "coloraxis": {
         "colorbar": {
          "title": {
           "text": "Desconto_%"
          }
         },
         "colorscale": [
          [
           0,
           "#d3d3d3"
          ],
          [
           0.5,
           "#ffffff"
          ],
          [
           1,
           "#1f77b4"
          ]
         ]
        },
        "height": 800,
        "legend": {
         "tracegroupgap": 0
        },
        "template": {
         "data": {
          "bar": [
           {
            "error_x": {
             "color": "#2a3f5f"
            },
            "error_y": {
             "color": "#2a3f5f"
            },
            "marker": {
             "line": {
              "color": "#E5ECF6",
              "width": 0.5
             },
             "pattern": {
              "fillmode": "overlay",
              "size": 10,
              "solidity": 0.2
             }
            },
            "type": "bar"
           }
          ],
          "barpolar": [
           {
            "marker": {
             "line": {
              "color": "#E5ECF6",
              "width": 0.5
             },
             "pattern": {
              "fillmode": "overlay",
              "size": 10,
              "solidity": 0.2
             }
            },
            "type": "barpolar"
           }
          ],
          "carpet": [
           {
            "aaxis": {
             "endlinecolor": "#2a3f5f",
             "gridcolor": "white",
             "linecolor": "white",
             "minorgridcolor": "white",
             "startlinecolor": "#2a3f5f"
            },
            "baxis": {
             "endlinecolor": "#2a3f5f",
             "gridcolor": "white",
             "linecolor": "white",
             "minorgridcolor": "white",
             "startlinecolor": "#2a3f5f"
            },
            "type": "carpet"
           }
          ],
          "choropleth": [
           {
            "colorbar": {
             "outlinewidth": 0,
             "ticks": ""
            },
            "type": "choropleth"
           }
          ],
          "contour": [
           {
            "colorbar": {
             "outlinewidth": 0,
             "ticks": ""
            },
            "colorscale": [
             [
              0,
              "#0d0887"
             ],
             [
              0.1111111111111111,
              "#46039f"
             ],
             [
              0.2222222222222222,
              "#7201a8"
             ],
             [
              0.3333333333333333,
              "#9c179e"
             ],
             [
              0.4444444444444444,
              "#bd3786"
             ],
             [
              0.5555555555555556,
              "#d8576b"
             ],
             [
              0.6666666666666666,
              "#ed7953"
             ],
             [
              0.7777777777777778,
              "#fb9f3a"
             ],
             [
              0.8888888888888888,
              "#fdca26"
             ],
             [
              1,
              "#f0f921"
             ]
            ],
            "type": "contour"
           }
          ],
          "contourcarpet": [
           {
            "colorbar": {
             "outlinewidth": 0,
             "ticks": ""
            },
            "type": "contourcarpet"
           }
          ],
          "heatmap": [
           {
            "colorbar": {
             "outlinewidth": 0,
             "ticks": ""
            },
            "colorscale": [
             [
              0,
              "#0d0887"
             ],
             [
              0.1111111111111111,
              "#46039f"
             ],
             [
              0.2222222222222222,
              "#7201a8"
             ],
             [
              0.3333333333333333,
              "#9c179e"
             ],
             [
              0.4444444444444444,
              "#bd3786"
             ],
             [
              0.5555555555555556,
              "#d8576b"
             ],
             [
              0.6666666666666666,
              "#ed7953"
             ],
             [
              0.7777777777777778,
              "#fb9f3a"
             ],
             [
              0.8888888888888888,
              "#fdca26"
             ],
             [
              1,
              "#f0f921"
             ]
            ],
            "type": "heatmap"
           }
          ],
          "heatmapgl": [
           {
            "colorbar": {
             "outlinewidth": 0,
             "ticks": ""
            },
            "colorscale": [
             [
              0,
              "#0d0887"
             ],
             [
              0.1111111111111111,
              "#46039f"
             ],
             [
              0.2222222222222222,
              "#7201a8"
             ],
             [
              0.3333333333333333,
              "#9c179e"
             ],
             [
              0.4444444444444444,
              "#bd3786"
             ],
             [
              0.5555555555555556,
              "#d8576b"
             ],
             [
              0.6666666666666666,
              "#ed7953"
             ],
             [
              0.7777777777777778,
              "#fb9f3a"
             ],
             [
              0.8888888888888888,
              "#fdca26"
             ],
             [
              1,
              "#f0f921"
             ]
            ],
            "type": "heatmapgl"
           }
          ],
          "histogram": [
           {
            "marker": {
             "pattern": {
              "fillmode": "overlay",
              "size": 10,
              "solidity": 0.2
             }
            },
            "type": "histogram"
           }
          ],
          "histogram2d": [
           {
            "colorbar": {
             "outlinewidth": 0,
             "ticks": ""
            },
            "colorscale": [
             [
              0,
              "#0d0887"
             ],
             [
              0.1111111111111111,
              "#46039f"
             ],
             [
              0.2222222222222222,
              "#7201a8"
             ],
             [
              0.3333333333333333,
              "#9c179e"
             ],
             [
              0.4444444444444444,
              "#bd3786"
             ],
             [
              0.5555555555555556,
              "#d8576b"
             ],
             [
              0.6666666666666666,
              "#ed7953"
             ],
             [
              0.7777777777777778,
              "#fb9f3a"
             ],
             [
              0.8888888888888888,
              "#fdca26"
             ],
             [
              1,
              "#f0f921"
             ]
            ],
            "type": "histogram2d"
           }
          ],
          "histogram2dcontour": [
           {
            "colorbar": {
             "outlinewidth": 0,
             "ticks": ""
            },
            "colorscale": [
             [
              0,
              "#0d0887"
             ],
             [
              0.1111111111111111,
              "#46039f"
             ],
             [
              0.2222222222222222,
              "#7201a8"
             ],
             [
              0.3333333333333333,
              "#9c179e"
             ],
             [
              0.4444444444444444,
              "#bd3786"
             ],
             [
              0.5555555555555556,
              "#d8576b"
             ],
             [
              0.6666666666666666,
              "#ed7953"
             ],
             [
              0.7777777777777778,
              "#fb9f3a"
             ],
             [
              0.8888888888888888,
              "#fdca26"
             ],
             [
              1,
              "#f0f921"
             ]
            ],
            "type": "histogram2dcontour"
           }
          ],
          "mesh3d": [
           {
            "colorbar": {
             "outlinewidth": 0,
             "ticks": ""
            },
            "type": "mesh3d"
           }
          ],
          "parcoords": [
           {
            "line": {
             "colorbar": {
              "outlinewidth": 0,
              "ticks": ""
             }
            },
            "type": "parcoords"
           }
          ],
          "pie": [
           {
            "automargin": true,
            "type": "pie"
           }
          ],
          "scatter": [
           {
            "fillpattern": {
             "fillmode": "overlay",
             "size": 10,
             "solidity": 0.2
            },
            "type": "scatter"
           }
          ],
          "scatter3d": [
           {
            "line": {
             "colorbar": {
              "outlinewidth": 0,
              "ticks": ""
             }
            },
            "marker": {
             "colorbar": {
              "outlinewidth": 0,
              "ticks": ""
             }
            },
            "type": "scatter3d"
           }
          ],
          "scattercarpet": [
           {
            "marker": {
             "colorbar": {
              "outlinewidth": 0,
              "ticks": ""
             }
            },
            "type": "scattercarpet"
           }
          ],
          "scattergeo": [
           {
            "marker": {
             "colorbar": {
              "outlinewidth": 0,
              "ticks": ""
             }
            },
            "type": "scattergeo"
           }
          ],
          "scattergl": [
           {
            "marker": {
             "colorbar": {
              "outlinewidth": 0,
              "ticks": ""
             }
            },
            "type": "scattergl"
           }
          ],
          "scattermapbox": [
           {
            "marker": {
             "colorbar": {
              "outlinewidth": 0,
              "ticks": ""
             }
            },
            "type": "scattermapbox"
           }
          ],
          "scatterpolar": [
           {
            "marker": {
             "colorbar": {
              "outlinewidth": 0,
              "ticks": ""
             }
            },
            "type": "scatterpolar"
           }
          ],
          "scatterpolargl": [
           {
            "marker": {
             "colorbar": {
              "outlinewidth": 0,
              "ticks": ""
             }
            },
            "type": "scatterpolargl"
           }
          ],
          "scatterternary": [
           {
            "marker": {
             "colorbar": {
              "outlinewidth": 0,
              "ticks": ""
             }
            },
            "type": "scatterternary"
           }
          ],
          "surface": [
           {
            "colorbar": {
             "outlinewidth": 0,
             "ticks": ""
            },
            "colorscale": [
             [
              0,
              "#0d0887"
             ],
             [
              0.1111111111111111,
              "#46039f"
             ],
             [
              0.2222222222222222,
              "#7201a8"
             ],
             [
              0.3333333333333333,
              "#9c179e"
             ],
             [
              0.4444444444444444,
              "#bd3786"
             ],
             [
              0.5555555555555556,
              "#d8576b"
             ],
             [
              0.6666666666666666,
              "#ed7953"
             ],
             [
              0.7777777777777778,
              "#fb9f3a"
             ],
             [
              0.8888888888888888,
              "#fdca26"
             ],
             [
              1,
              "#f0f921"
             ]
            ],
            "type": "surface"
           }
          ],
          "table": [
           {
            "cells": {
             "fill": {
              "color": "#EBF0F8"
             },
             "line": {
              "color": "white"
             }
            },
            "header": {
             "fill": {
              "color": "#C8D4E3"
             },
             "line": {
              "color": "white"
             }
            },
            "type": "table"
           }
          ]
         },
         "layout": {
          "annotationdefaults": {
           "arrowcolor": "#2a3f5f",
           "arrowhead": 0,
           "arrowwidth": 1
          },
          "autotypenumbers": "strict",
          "coloraxis": {
           "colorbar": {
            "outlinewidth": 0,
            "ticks": ""
           }
          },
          "colorscale": {
           "diverging": [
            [
             0,
             "#8e0152"
            ],
            [
             0.1,
             "#c51b7d"
            ],
            [
             0.2,
             "#de77ae"
            ],
            [
             0.3,
             "#f1b6da"
            ],
            [
             0.4,
             "#fde0ef"
            ],
            [
             0.5,
             "#f7f7f7"
            ],
            [
             0.6,
             "#e6f5d0"
            ],
            [
             0.7,
             "#b8e186"
            ],
            [
             0.8,
             "#7fbc41"
            ],
            [
             0.9,
             "#4d9221"
            ],
            [
             1,
             "#276419"
            ]
           ],
           "sequential": [
            [
             0,
             "#0d0887"
            ],
            [
             0.1111111111111111,
             "#46039f"
            ],
            [
             0.2222222222222222,
             "#7201a8"
            ],
            [
             0.3333333333333333,
             "#9c179e"
            ],
            [
             0.4444444444444444,
             "#bd3786"
            ],
            [
             0.5555555555555556,
             "#d8576b"
            ],
            [
             0.6666666666666666,
             "#ed7953"
            ],
            [
             0.7777777777777778,
             "#fb9f3a"
            ],
            [
             0.8888888888888888,
             "#fdca26"
            ],
            [
             1,
             "#f0f921"
            ]
           ],
           "sequentialminus": [
            [
             0,
             "#0d0887"
            ],
            [
             0.1111111111111111,
             "#46039f"
            ],
            [
             0.2222222222222222,
             "#7201a8"
            ],
            [
             0.3333333333333333,
             "#9c179e"
            ],
            [
             0.4444444444444444,
             "#bd3786"
            ],
            [
             0.5555555555555556,
             "#d8576b"
            ],
            [
             0.6666666666666666,
             "#ed7953"
            ],
            [
             0.7777777777777778,
             "#fb9f3a"
            ],
            [
             0.8888888888888888,
             "#fdca26"
            ],
            [
             1,
             "#f0f921"
            ]
           ]
          },
          "colorway": [
           "#636efa",
           "#EF553B",
           "#00cc96",
           "#ab63fa",
           "#FFA15A",
           "#19d3f3",
           "#FF6692",
           "#B6E880",
           "#FF97FF",
           "#FECB52"
          ],
          "font": {
           "color": "#2a3f5f"
          },
          "geo": {
           "bgcolor": "white",
           "lakecolor": "white",
           "landcolor": "#E5ECF6",
           "showlakes": true,
           "showland": true,
           "subunitcolor": "white"
          },
          "hoverlabel": {
           "align": "left"
          },
          "hovermode": "closest",
          "mapbox": {
           "style": "light"
          },
          "paper_bgcolor": "white",
          "plot_bgcolor": "#E5ECF6",
          "polar": {
           "angularaxis": {
            "gridcolor": "white",
            "linecolor": "white",
            "ticks": ""
           },
           "bgcolor": "#E5ECF6",
           "radialaxis": {
            "gridcolor": "white",
            "linecolor": "white",
            "ticks": ""
           }
          },
          "scene": {
           "xaxis": {
            "backgroundcolor": "#E5ECF6",
            "gridcolor": "white",
            "gridwidth": 2,
            "linecolor": "white",
            "showbackground": true,
            "ticks": "",
            "zerolinecolor": "white"
           },
           "yaxis": {
            "backgroundcolor": "#E5ECF6",
            "gridcolor": "white",
            "gridwidth": 2,
            "linecolor": "white",
            "showbackground": true,
            "ticks": "",
            "zerolinecolor": "white"
           },
           "zaxis": {
            "backgroundcolor": "#E5ECF6",
            "gridcolor": "white",
            "gridwidth": 2,
            "linecolor": "white",
            "showbackground": true,
            "ticks": "",
            "zerolinecolor": "white"
           }
          },
          "shapedefaults": {
           "line": {
            "color": "#2a3f5f"
           }
          },
          "ternary": {
           "aaxis": {
            "gridcolor": "white",
            "linecolor": "white",
            "ticks": ""
           },
           "baxis": {
            "gridcolor": "white",
            "linecolor": "white",
            "ticks": ""
           },
           "bgcolor": "#E5ECF6",
           "caxis": {
            "gridcolor": "white",
            "linecolor": "white",
            "ticks": ""
           }
          },
          "title": {
           "x": 0.05
          },
          "xaxis": {
           "automargin": true,
           "gridcolor": "white",
           "linecolor": "white",
           "ticks": "",
           "title": {
            "standoff": 15
           },
           "zerolinecolor": "white",
           "zerolinewidth": 2
          },
          "yaxis": {
           "automargin": true,
           "gridcolor": "white",
           "linecolor": "white",
           "ticks": "",
           "title": {
            "standoff": 15
           },
           "zerolinecolor": "white",
           "zerolinewidth": 2
          }
         }
        },
        "title": {
         "text": "Desconto Médio por Categoria e Marca"
        }
       }
      },
      "image/png": "[encoded data removed]",
      "text/html": [
       "<div>                            <div id=\"7b29fbf0-2ccb-4261-a6c2-25656d027170\" class=\"plotly-graph-div\" style=\"height:800px; width:100%;\"></div>            <script type=\"text/javascript\">                require([\"plotly\"], function(Plotly) {                    window.PLOTLYENV=window.PLOTLYENV || {};                                    if (document.getElementById(\"7b29fbf0-2ccb-4261-a6c2-25656d027170\")) {                    Plotly.newPlot(                        \"7b29fbf0-2ccb-4261-a6c2-25656d027170\",                        [{\"branchvalues\":\"total\",\"customdata\":[[10.547999999999998],[8.18],[6.305],[10.24],[10.426666666666668],[11.25],[12.419999999999998],[13.93],[9.08],[7.81],[7.655],[7.56],[14.04],[10.688333333333333],[9.418333333333333],[7.24],[11.612222222222222],[11.685714285714285],[10.145],[13.57],[10.113333333333335],[8.37],[13.5],[10.17],[6.970000000000001],[10.524225352112676],[5.45],[8.955],[5.990000000000001],[7.09],[9.864285714285714],[9.8204],[10.03],[9.962857142857143],[11.115],[13.189999999999998],[10.716666666666667],[9.99],[7.34],[7.165],[8.814],[10.7425],[10.2125],[11.26],[8.275],[11.65764705882353],[9.621666666666668],[12.88],[10.812222222222223],[10.25],[10.115],[6.53],[10.7],[9.935714285714285],[10.2825],[11.395],[6.6],[10.72],[8.936666666666667],[13.155000000000001],[8.793333333333335],[8.71],[8.31],[9.664782608695651],[10.1],[9.219999999999999],[11.3475],[7.835],[10.31],[8.65],[12.260000000000002],[10.090714285714286],[11.81],[9.542857142857143],[14.05],[9.698235294117648],[10.723333333333334],[7.22],[8.15],[9.783333333333333],[10.345714285714285],[6.26],[9.942962962962962],[9.31],[8.115],[8.558571428571428],[9.488888888888889],[11.0],[10.466666666666667],[14.23],[12.81],[11.43625],[11.526666666666667],[9.25],[11.76],[9.65],[7.32],[6.86],[7.54],[11.120000000000001],[10.652222222222223],[12.07],[10.154166666666667],[10.364999999999998],[7.816666666666666],[5.95],[12.34],[11.409999999999998],[9.83],[5.41],[8.665],[11.94],[13.27],[14.22],[9.025],[10.01],[13.25],[9.97090909090909],[7.04],[8.785],[9.41],[10.67375],[14.73],[7.49],[9.821388888888889],[5.91],[13.18],[10.2225],[10.29],[11.075384615384614],[9.966666666666667],[12.009999999999998],[9.13],[8.83],[8.333333333333334],[10.18375],[9.057500000000001],[11.76],[9.838050194426092],[10.998100113421101],[10.635742453357185],[13.211080209898356],[10.217602520061734],[10.337394185517248],[8.95167539321407]],\"domain\":{\"x\":[0.0,1.0],\"y\":[0.0,1.0]},\"hovertemplate\":\"labels=%{label}\\u003cbr\\u003eDesconto_%_sum=%{value}\\u003cbr\\u003eparent=%{parent}\\u003cbr\\u003eid=%{id}\\u003cbr\\u003eDesconto_%=%{color}\\u003cextra\\u003e\\u003c\\u002fextra\\u003e\",\"ids\":[\"lacteos\\u002fActivia\",\"verduras\\u002fAgrosano\",\"instantaneos-y-sopas\\u002fAlcafood\",\"congelados\\u002fAlimentos Shen\",\"belleza-y-cuidado-personal\\u002fAlways\",\"belleza-y-cuidado-personal\\u002fAquafresh\",\"lacteos\\u002fAstra\",\"belleza-y-cuidado-personal\\u002fBabyland\",\"belleza-y-cuidado-personal\\u002fBallerina\",\"lacteos\\u002fBase Culinar\",\"belleza-y-cuidado-personal\\u002fBellekiss\",\"lacteos\\u002fBonella\",\"congelados\\u002fBravissimo\",\"comidas-preparadas\\u002fBredenmaster\",\"congelados\\u002fBresler\",\"belleza-y-cuidado-personal\\u002fBrooks\",\"lacteos\\u002fCalan\",\"lacteos\\u002fCalo\",\"belleza-y-cuidado-personal\\u002fCarefree\",\"instantaneos-y-sopas\\u002fCarozzi\",\"lacteos\\u002fChamyto\",\"lacteos\\u002fChiquitín\",\"lacteos\\u002fCintazul\",\"belleza-y-cuidado-personal\\u002fColgate\",\"lacteos\\u002fCollico\",\"lacteos\\u002fColun\",\"lacteos\\u002fCopacabana\",\"comidas-preparadas\\u002fCorbac\",\"belleza-y-cuidado-personal\\u002fCotosan\",\"lacteos\\u002fCrucina\",\"comidas-preparadas\\u002fCuisine & Co\",\"congelados\\u002fCuisine & Co\",\"instantaneos-y-sopas\\u002fCuisine & Co\",\"lacteos\\u002fCuisine & Co\",\"lacteos\\u002fDanone\",\"lacteos\\u002fDeline\",\"belleza-y-cuidado-personal\\u002fDento\",\"belleza-y-cuidado-personal\\u002fDove\",\"belleza-y-cuidado-personal\\u002fDove Men\",\"belleza-y-cuidado-personal\\u002fDuralón\",\"belleza-y-cuidado-personal\\u002fElvive\",\"belleza-y-cuidado-personal\\u002fFamiland\",\"belleza-y-cuidado-personal\\u002fFamily Care\",\"congelados\\u002fFiesta\",\"belleza-y-cuidado-personal\\u002fFructis\",\"frutas\\u002fFrutas Y Verduras Propias\",\"verduras\\u002fFrutas Y Verduras Propias\",\"frutas\\u002fFrutas Y Verduras Santa Isabel\",\"congelados\\u002fFrutos Del Maipo\",\"belleza-y-cuidado-personal\\u002fGarnier\",\"belleza-y-cuidado-personal\\u002fGillette\",\"belleza-y-cuidado-personal\\u002fGiselle\",\"instantaneos-y-sopas\\u002fGourmet\",\"congelados\\u002fGuallarauco\",\"belleza-y-cuidado-personal\\u002fHead & Shoulders\",\"instantaneos-y-sopas\\u002fHoffmann\",\"lacteos\\u002fIdeal\",\"belleza-y-cuidado-personal\\u002fIlicit\",\"verduras\\u002fJumbo\",\"congelados\\u002fKing\",\"belleza-y-cuidado-personal\\u002fKotex\",\"lacteos\\u002fKumey\",\"comidas-preparadas\\u002fLa Crianza\",\"congelados\\u002fLa Crianza\",\"belleza-y-cuidado-personal\\u002fLady Speed Stick\",\"belleza-y-cuidado-personal\\u002fLadysoft\",\"belleza-y-cuidado-personal\\u002fLe Sancy\",\"lacteos\\u002fLefersa\",\"lacteos\\u002fLight & Free\",\"belleza-y-cuidado-personal\\u002fLinic\",\"belleza-y-cuidado-personal\\u002fListerine\",\"lacteos\\u002fLoncoleche\",\"lacteos\\u002fLos Alerces\",\"instantaneos-y-sopas\\u002fMaggi\",\"lacteos\\u002fMarco Polo\",\"congelados\\u002fMinuto Verde\",\"congelados\\u002fMister Veggie\",\"instantaneos-y-sopas\\u002fMáxima MP\",\"lacteos\\u002fMáxima MP\",\"belleza-y-cuidado-personal\\u002fNaturella\",\"instantaneos-y-sopas\\u002fNaturezza\",\"lacteos\\u002fNesquik\",\"lacteos\\u002fNestlé\",\"lacteos\\u002fNext\",\"lacteos\\u002fNido\",\"belleza-y-cuidado-personal\\u002fNivea\",\"belleza-y-cuidado-personal\\u002fNosotras\",\"congelados\\u002fNot Chicken\",\"lacteos\\u002fOikos\",\"belleza-y-cuidado-personal\\u002fOld Spice\",\"lacteos\\u002fOmega 3\",\"belleza-y-cuidado-personal\\u002fOral-B\",\"comidas-preparadas\\u002fPF\",\"congelados\\u002fPF\",\"lacteos\\u002fPamperita\",\"belleza-y-cuidado-personal\\u002fPantene\",\"belleza-y-cuidado-personal\\u002fPepsodent\",\"belleza-y-cuidado-personal\\u002fPlenitud\",\"belleza-y-cuidado-personal\\u002fProtex\",\"lacteos\\u002fQualy\",\"lacteos\\u002fQuillayes\",\"comidas-preparadas\\u002fRana\",\"congelados\\u002fReceta Del Abuelo\",\"lacteos\\u002fRegimel\",\"congelados\\u002fRikü\",\"congelados\\u002fRock\",\"comidas-preparadas\\u002fSadia\",\"congelados\\u002fSadia\",\"congelados\\u002fSahne Nuss\",\"lacteos\\u002fSahne Nuss\",\"congelados\\u002fSan Francisco De Loncomilla\",\"lacteos\\u002fSan Ignacio\",\"congelados\\u002fSan Jorge\",\"comidas-preparadas\\u002fSanta Isabel\",\"instantaneos-y-sopas\\u002fSanta Isabel\",\"lacteos\\u002fSanta Isabel\",\"lacteos\\u002fSanta Marta\",\"congelados\\u002fSavory\",\"belleza-y-cuidado-personal\\u002fSchick\",\"lacteos\\u002fShake A Shake Lonco Leche\",\"lacteos\\u002fSignore Mario\",\"belleza-y-cuidado-personal\\u002fSimond'S\",\"frutas\\u002fSofruco\",\"comidas-preparadas\\u002fSolo Italia\",\"lacteos\\u002fSoprole\",\"belleza-y-cuidado-personal\\u002fSpeed Stick\",\"congelados\\u002fSuper Cerdo\",\"congelados\\u002fSuper Pollo\",\"lacteos\\u002fSureña\",\"lacteos\\u002fSurlat\",\"lacteos\\u002fSvelty\",\"belleza-y-cuidado-personal\\u002fTena\",\"congelados\\u002fTivoni\",\"belleza-y-cuidado-personal\\u002fTrianon\",\"congelados\\u002fTurkey Hill\",\"lacteos\\u002fYogu - Yogu\",\"lacteos\\u002fZerolacto\",\"congelados\\u002fZole\",\"belleza-y-cuidado-personal\",\"comidas-preparadas\",\"congelados\",\"frutas\",\"instantaneos-y-sopas\",\"lacteos\",\"verduras\"],\"labels\":[\"Activia\",\"Agrosano\",\"Alcafood\",\"Alimentos Shen\",\"Always\",\"Aquafresh\",\"Astra\",\"Babyland\",\"Ballerina\",\"Base Culinar\",\"Bellekiss\",\"Bonella\",\"Bravissimo\",\"Bredenmaster\",\"Bresler\",\"Brooks\",\"Calan\",\"Calo\",\"Carefree\",\"Carozzi\",\"Chamyto\",\"Chiquitín\",\"Cintazul\",\"Colgate\",\"Collico\",\"Colun\",\"Copacabana\",\"Corbac\",\"Cotosan\",\"Crucina\",\"Cuisine & Co\",\"Cuisine & Co\",\"Cuisine & Co\",\"Cuisine & Co\",\"Danone\",\"Deline\",\"Dento\",\"Dove\",\"Dove Men\",\"Duralón\",\"Elvive\",\"Familand\",\"Family Care\",\"Fiesta\",\"Fructis\",\"Frutas Y Verduras Propias\",\"Frutas Y Verduras Propias\",\"Frutas Y Verduras Santa Isabel\",\"Frutos Del Maipo\",\"Garnier\",\"Gillette\",\"Giselle\",\"Gourmet\",\"Guallarauco\",\"Head & Shoulders\",\"Hoffmann\",\"Ideal\",\"Ilicit\",\"Jumbo\",\"King\",\"Kotex\",\"Kumey\",\"La Crianza\",\"La Crianza\",\"Lady Speed Stick\",\"Ladysoft\",\"Le Sancy\",\"Lefersa\",\"Light & Free\",\"Linic\",\"Listerine\",\"Loncoleche\",\"Los Alerces\",\"Maggi\",\"Marco Polo\",\"Minuto Verde\",\"Mister Veggie\",\"Máxima MP\",\"Máxima MP\",\"Naturella\",\"Naturezza\",\"Nesquik\",\"Nestlé\",\"Next\",\"Nido\",\"Nivea\",\"Nosotras\",\"Not Chicken\",\"Oikos\",\"Old Spice\",\"Omega 3\",\"Oral-B\",\"PF\",\"PF\",\"Pamperita\",\"Pantene\",\"Pepsodent\",\"Plenitud\",\"Protex\",\"Qualy\",\"Quillayes\",\"Rana\",\"Receta Del Abuelo\",\"Regimel\",\"Rikü\",\"Rock\",\"Sadia\",\"Sadia\",\"Sahne Nuss\",\"Sahne Nuss\",\"San Francisco De Loncomilla\",\"San Ignacio\",\"San Jorge\",\"Santa Isabel\",\"Santa Isabel\",\"Santa Isabel\",\"Santa Marta\",\"Savory\",\"Schick\",\"Shake A Shake Lonco Leche\",\"Signore Mario\",\"Simond'S\",\"Sofruco\",\"Solo Italia\",\"Soprole\",\"Speed Stick\",\"Super Cerdo\",\"Super Pollo\",\"Sureña\",\"Surlat\",\"Svelty\",\"Tena\",\"Tivoni\",\"Trianon\",\"Turkey Hill\",\"Yogu - Yogu\",\"Zerolacto\",\"Zole\",\"belleza-y-cuidado-personal\",\"comidas-preparadas\",\"congelados\",\"frutas\",\"instantaneos-y-sopas\",\"lacteos\",\"verduras\"],\"marker\":{\"coloraxis\":\"coloraxis\",\"colors\":[10.547999999999998,8.18,6.305,10.24,10.426666666666668,11.25,12.419999999999998,13.93,9.08,7.81,7.655,7.56,14.04,10.688333333333333,9.418333333333333,7.24,11.612222222222222,11.685714285714285,10.145,13.57,10.113333333333335,8.37,13.5,10.17,6.970000000000001,10.524225352112676,5.45,8.955,5.990000000000001,7.09,9.864285714285714,9.8204,10.03,9.962857142857143,11.115,13.189999999999998,10.716666666666667,9.99,7.34,7.165,8.814,10.7425,10.2125,11.26,8.275,11.65764705882353,9.621666666666668,12.88,10.812222222222223,10.25,10.115,6.53,10.7,9.935714285714285,10.2825,11.395,6.6,10.72,8.936666666666667,13.155000000000001,8.793333333333335,8.71,8.31,9.664782608695651,10.1,9.219999999999999,11.3475,7.835,10.31,8.65,12.260000000000002,10.090714285714286,11.81,9.542857142857143,14.05,9.698235294117648,10.723333333333334,7.22,8.15,9.783333333333333,10.345714285714285,6.26,9.942962962962962,9.31,8.115,8.558571428571428,9.488888888888889,11.0,10.466666666666667,14.23,12.81,11.43625,11.526666666666667,9.25,11.76,9.65,7.32,6.86,7.54,11.120000000000001,10.652222222222223,12.07,10.154166666666667,10.364999999999998,7.816666666666666,5.95,12.34,11.409999999999998,9.83,5.41,8.665,11.94,13.27,14.22,9.025,10.01,13.25,9.97090909090909,7.04,8.785,9.41,10.67375,14.73,7.49,9.821388888888889,5.91,13.18,10.2225,10.29,11.075384615384614,9.966666666666667,12.009999999999998,9.13,8.83,8.333333333333334,10.18375,9.057500000000001,11.76,9.838050194426092,10.998100113421101,10.635742453357185,13.211080209898356,10.217602520061734,10.337394185517248,8.95167539321407]},\"name\":\"\",\"parents\":[\"lacteos\",\"verduras\",\"instantaneos-y-sopas\",\"congelados\",\"belleza-y-cuidado-personal\",\"belleza-y-cuidado-personal\",\"lacteos\",\"belleza-y-cuidado-personal\",\"belleza-y-cuidado-personal\",\"lacteos\",\"belleza-y-cuidado-personal\",\"lacteos\",\"congelados\",\"comidas-preparadas\",\"congelados\",\"belleza-y-cuidado-personal\",\"lacteos\",\"lacteos\",\"belleza-y-cuidado-personal\",\"instantaneos-y-sopas\",\"lacteos\",\"lacteos\",\"lacteos\",\"belleza-y-cuidado-personal\",\"lacteos\",\"lacteos\",\"lacteos\",\"comidas-preparadas\",\"belleza-y-cuidado-personal\",\"lacteos\",\"comidas-preparadas\",\"congelados\",\"instantaneos-y-sopas\",\"lacteos\",\"lacteos\",\"lacteos\",\"belleza-y-cuidado-personal\",\"belleza-y-cuidado-personal\",\"belleza-y-cuidado-personal\",\"belleza-y-cuidado-personal\",\"belleza-y-cuidado-personal\",\"belleza-y-cuidado-personal\",\"belleza-y-cuidado-personal\",\"congelados\",\"belleza-y-cuidado-personal\",\"frutas\",\"verduras\",\"frutas\",\"congelados\",\"belleza-y-cuidado-personal\",\"belleza-y-cuidado-personal\",\"belleza-y-cuidado-personal\",\"instantaneos-y-sopas\",\"congelados\",\"belleza-y-cuidado-personal\",\"instantaneos-y-sopas\",\"lacteos\",\"belleza-y-cuidado-personal\",\"verduras\",\"congelados\",\"belleza-y-cuidado-personal\",\"lacteos\",\"comidas-preparadas\",\"congelados\",\"belleza-y-cuidado-personal\",\"belleza-y-cuidado-personal\",\"belleza-y-cuidado-personal\",\"lacteos\",\"lacteos\",\"belleza-y-cuidado-personal\",\"belleza-y-cuidado-personal\",\"lacteos\",\"lacteos\",\"instantaneos-y-sopas\",\"lacteos\",\"congelados\",\"congelados\",\"instantaneos-y-sopas\",\"lacteos\",\"belleza-y-cuidado-personal\",\"instantaneos-y-sopas\",\"lacteos\",\"lacteos\",\"lacteos\",\"lacteos\",\"belleza-y-cuidado-personal\",\"belleza-y-cuidado-personal\",\"congelados\",\"lacteos\",\"belleza-y-cuidado-personal\",\"lacteos\",\"belleza-y-cuidado-personal\",\"comidas-preparadas\",\"congelados\",\"lacteos\",\"belleza-y-cuidado-personal\",\"belleza-y-cuidado-personal\",\"belleza-y-cuidado-personal\",\"belleza-y-cuidado-personal\",\"lacteos\",\"lacteos\",\"comidas-preparadas\",\"congelados\",\"lacteos\",\"congelados\",\"congelados\",\"comidas-preparadas\",\"congelados\",\"congelados\",\"lacteos\",\"congelados\",\"lacteos\",\"congelados\",\"comidas-preparadas\",\"instantaneos-y-sopas\",\"lacteos\",\"lacteos\",\"congelados\",\"belleza-y-cuidado-personal\",\"lacteos\",\"lacteos\",\"belleza-y-cuidado-personal\",\"frutas\",\"comidas-preparadas\",\"lacteos\",\"belleza-y-cuidado-personal\",\"congelados\",\"congelados\",\"lacteos\",\"lacteos\",\"lacteos\",\"belleza-y-cuidado-personal\",\"congelados\",\"belleza-y-cuidado-personal\",\"congelados\",\"lacteos\",\"lacteos\",\"congelados\",\"\",\"\",\"\",\"\",\"\",\"\",\"\"],\"values\":[10.547999999999998,8.18,6.305,10.24,10.426666666666668,11.25,12.42,13.93,9.08,7.81,7.655,7.56,14.04,10.688333333333333,9.418333333333333,7.24,11.612222222222222,11.685714285714285,10.145,13.57,10.113333333333335,8.37,13.5,10.17,6.97,10.524225352112676,5.45,8.955,5.99,7.09,9.864285714285714,9.8204,10.03,9.962857142857143,11.115,13.19,10.716666666666667,9.99,7.34,7.165,8.814,10.7425,10.2125,11.26,8.275,11.65764705882353,9.621666666666668,12.88,10.812222222222223,10.25,10.115,6.53,10.7,9.935714285714285,10.2825,11.395,6.6,10.72,8.936666666666667,13.155000000000001,8.793333333333335,8.71,8.31,9.664782608695651,10.1,9.219999999999999,11.3475,7.835,10.31,8.65,12.26,10.090714285714286,11.81,9.542857142857143,14.05,9.698235294117648,10.723333333333334,7.22,8.15,9.783333333333333,10.345714285714285,6.26,9.942962962962962,9.31,8.115,8.558571428571428,9.488888888888889,11.0,10.466666666666667,14.23,12.81,11.43625,11.526666666666666,9.25,11.76,9.65,7.32,6.86,7.54,11.120000000000001,10.652222222222223,12.07,10.154166666666667,10.364999999999998,7.816666666666666,5.95,12.34,11.409999999999998,9.83,5.41,8.665,11.94,13.27,14.22,9.025,10.01,13.25,9.97090909090909,7.04,8.785,9.41,10.67375,14.73,7.49,9.821388888888889,5.91,13.18,10.2225,10.29,11.075384615384614,9.966666666666667,12.01,9.13,8.83,8.333333333333334,10.18375,9.057500000000001,11.76,396.74146031746034,95.46428571428571,268.7105968349922,39.26764705882353,88.13357142857143,455.478608644746,26.738333333333337],\"type\":\"treemap\"}],                        {\"template\":{\"data\":{\"histogram2dcontour\":[{\"type\":\"histogram2dcontour\",\"colorbar\":{\"outlinewidth\":0,\"ticks\":\"\"},\"colorscale\":[[0.0,\"#0d0887\"],[0.1111111111111111,\"#46039f\"],[0.2222222222222222,\"#7201a8\"],[0.3333333333333333,\"#9c179e\"],[0.4444444444444444,\"#bd3786\"],[0.5555555555555556,\"#d8576b\"],[0.6666666666666666,\"#ed7953\"],[0.7777777777777778,\"#fb9f3a\"],[0.8888888888888888,\"#fdca26\"],[1.0,\"#f0f921\"]]}],\"choropleth\":[{\"type\":\"choropleth\",\"colorbar\":{\"outlinewidth\":0,\"ticks\":\"\"}}],\"histogram2d\":[{\"type\":\"histogram2d\",\"colorbar\":{\"outlinewidth\":0,\"ticks\":\"\"},\"colorscale\":[[0.0,\"#0d0887\"],[0.1111111111111111,\"#46039f\"],[0.2222222222222222,\"#7201a8\"],[0.3333333333333333,\"#9c179e\"],[0.4444444444444444,\"#bd3786\"],[0.5555555555555556,\"#d8576b\"],[0.6666666666666666,\"#ed7953\"],[0.7777777777777778,\"#fb9f3a\"],[0.8888888888888888,\"#fdca26\"],[1.0,\"#f0f921\"]]}],\"heatmap\":[{\"type\":\"heatmap\",\"colorbar\":{\"outlinewidth\":0,\"ticks\":\"\"},\"colorscale\":[[0.0,\"#0d0887\"],[0.1111111111111111,\"#46039f\"],[0.2222222222222222,\"#7201a8\"],[0.3333333333333333,\"#9c179e\"],[0.4444444444444444,\"#bd3786\"],[0.5555555555555556,\"#d8576b\"],[0.6666666666666666,\"#ed7953\"],[0.7777777777777778,\"#fb9f3a\"],[0.8888888888888888,\"#fdca26\"],[1.0,\"#f0f921\"]]}],\"heatmapgl\":[{\"type\":\"heatmapgl\",\"colorbar\":{\"outlinewidth\":0,\"ticks\":\"\"},\"colorscale\":[[0.0,\"#0d0887\"],[0.1111111111111111,\"#46039f\"],[0.2222222222222222,\"#7201a8\"],[0.3333333333333333,\"#9c179e\"],[0.4444444444444444,\"#bd3786\"],[0.5555555555555556,\"#d8576b\"],[0.6666666666666666,\"#ed7953\"],[0.7777777777777778,\"#fb9f3a\"],[0.8888888888888888,\"#fdca26\"],[1.0,\"#f0f921\"]]}],\"contourcarpet\":[{\"type\":\"contourcarpet\",\"colorbar\":{\"outlinewidth\":0,\"ticks\":\"\"}}],\"contour\":[{\"type\":\"contour\",\"colorbar\":{\"outlinewidth\":0,\"ticks\":\"\"},\"colorscale\":[[0.0,\"#0d0887\"],[0.1111111111111111,\"#46039f\"],[0.2222222222222222,\"#7201a8\"],[0.3333333333333333,\"#9c179e\"],[0.4444444444444444,\"#bd3786\"],[0.5555555555555556,\"#d8576b\"],[0.6666666666666666,\"#ed7953\"],[0.7777777777777778,\"#fb9f3a\"],[0.8888888888888888,\"#fdca26\"],[1.0,\"#f0f921\"]]}],\"surface\":[{\"type\":\"surface\",\"colorbar\":{\"outlinewidth\":0,\"ticks\":\"\"},\"colorscale\":[[0.0,\"#0d0887\"],[0.1111111111111111,\"#46039f\"],[0.2222222222222222,\"#7201a8\"],[0.3333333333333333,\"#9c179e\"],[0.4444444444444444,\"#bd3786\"],[0.5555555555555556,\"#d8576b\"],[0.6666666666666666,\"#ed7953\"],[0.7777777777777778,\"#fb9f3a\"],[0.8888888888888888,\"#fdca26\"],[1.0,\"#f0f921\"]]}],\"mesh3d\":[{\"type\":\"mesh3d\",\"colorbar\":{\"outlinewidth\":0,\"ticks\":\"\"}}],\"scatter\":[{\"fillpattern\":{\"fillmode\":\"overlay\",\"size\":10,\"solidity\":0.2},\"type\":\"scatter\"}],\"parcoords\":[{\"type\":\"parcoords\",\"line\":{\"colorbar\":{\"outlinewidth\":0,\"ticks\":\"\"}}}],\"scatterpolargl\":[{\"type\":\"scatterpolargl\",\"marker\":{\"colorbar\":{\"outlinewidth\":0,\"ticks\":\"\"}}}],\"bar\":[{\"error_x\":{\"color\":\"#2a3f5f\"},\"error_y\":{\"color\":\"#2a3f5f\"},\"marker\":{\"line\":{\"color\":\"#E5ECF6\",\"width\":0.5},\"pattern\":{\"fillmode\":\"overlay\",\"size\":10,\"solidity\":0.2}},\"type\":\"bar\"}],\"scattergeo\":[{\"type\":\"scattergeo\",\"marker\":{\"colorbar\":{\"outlinewidth\":0,\"ticks\":\"\"}}}],\"scatterpolar\":[{\"type\":\"scatterpolar\",\"marker\":{\"colorbar\":{\"outlinewidth\":0,\"ticks\":\"\"}}}],\"histogram\":[{\"marker\":{\"pattern\":{\"fillmode\":\"overlay\",\"size\":10,\"solidity\":0.2}},\"type\":\"histogram\"}],\"scattergl\":[{\"type\":\"scattergl\",\"marker\":{\"colorbar\":{\"outlinewidth\":0,\"ticks\":\"\"}}}],\"scatter3d\":[{\"type\":\"scatter3d\",\"line\":{\"colorbar\":{\"outlinewidth\":0,\"ticks\":\"\"}},\"marker\":{\"colorbar\":{\"outlinewidth\":0,\"ticks\":\"\"}}}],\"scattermapbox\":[{\"type\":\"scattermapbox\",\"marker\":{\"colorbar\":{\"outlinewidth\":0,\"ticks\":\"\"}}}],\"scatterternary\":[{\"type\":\"scatterternary\",\"marker\":{\"colorbar\":{\"outlinewidth\":0,\"ticks\":\"\"}}}],\"scattercarpet\":[{\"type\":\"scattercarpet\",\"marker\":{\"colorbar\":{\"outlinewidth\":0,\"ticks\":\"\"}}}],\"carpet\":[{\"aaxis\":{\"endlinecolor\":\"#2a3f5f\",\"gridcolor\":\"white\",\"linecolor\":\"white\",\"minorgridcolor\":\"white\",\"startlinecolor\":\"#2a3f5f\"},\"baxis\":{\"endlinecolor\":\"#2a3f5f\",\"gridcolor\":\"white\",\"linecolor\":\"white\",\"minorgridcolor\":\"white\",\"startlinecolor\":\"#2a3f5f\"},\"type\":\"carpet\"}],\"table\":[{\"cells\":{\"fill\":{\"color\":\"#EBF0F8\"},\"line\":{\"color\":\"white\"}},\"header\":{\"fill\":{\"color\":\"#C8D4E3\"},\"line\":{\"color\":\"white\"}},\"type\":\"table\"}],\"barpolar\":[{\"marker\":{\"line\":{\"color\":\"#E5ECF6\",\"width\":0.5},\"pattern\":{\"fillmode\":\"overlay\",\"size\":10,\"solidity\":0.2}},\"type\":\"barpolar\"}],\"pie\":[{\"automargin\":true,\"type\":\"pie\"}]},\"layout\":{\"autotypenumbers\":\"strict\",\"colorway\":[\"#636efa\",\"#EF553B\",\"#00cc96\",\"#ab63fa\",\"#FFA15A\",\"#19d3f3\",\"#FF6692\",\"#B6E880\",\"#FF97FF\",\"#FECB52\"],\"font\":{\"color\":\"#2a3f5f\"},\"hovermode\":\"closest\",\"hoverlabel\":{\"align\":\"left\"},\"paper_bgcolor\":\"white\",\"plot_bgcolor\":\"#E5ECF6\",\"polar\":{\"bgcolor\":\"#E5ECF6\",\"angularaxis\":{\"gridcolor\":\"white\",\"linecolor\":\"white\",\"ticks\":\"\"},\"radialaxis\":{\"gridcolor\":\"white\",\"linecolor\":\"white\",\"ticks\":\"\"}},\"ternary\":{\"bgcolor\":\"#E5ECF6\",\"aaxis\":{\"gridcolor\":\"white\",\"linecolor\":\"white\",\"ticks\":\"\"},\"baxis\":{\"gridcolor\":\"white\",\"linecolor\":\"white\",\"ticks\":\"\"},\"caxis\":{\"gridcolor\":\"white\",\"linecolor\":\"white\",\"ticks\":\"\"}},\"coloraxis\":{\"colorbar\":{\"outlinewidth\":0,\"ticks\":\"\"}},\"colorscale\":{\"sequential\":[[0.0,\"#0d0887\"],[0.1111111111111111,\"#46039f\"],[0.2222222222222222,\"#7201a8\"],[0.3333333333333333,\"#9c179e\"],[0.4444444444444444,\"#bd3786\"],[0.5555555555555556,\"#d8576b\"],[0.6666666666666666,\"#ed7953\"],[0.7777777777777778,\"#fb9f3a\"],[0.8888888888888888,\"#fdca26\"],[1.0,\"#f0f921\"]],\"sequentialminus\":[[0.0,\"#0d0887\"],[0.1111111111111111,\"#46039f\"],[0.2222222222222222,\"#7201a8\"],[0.3333333333333333,\"#9c179e\"],[0.4444444444444444,\"#bd3786\"],[0.5555555555555556,\"#d8576b\"],[0.6666666666666666,\"#ed7953\"],[0.7777777777777778,\"#fb9f3a\"],[0.8888888888888888,\"#fdca26\"],[1.0,\"#f0f921\"]],\"diverging\":[[0,\"#8e0152\"],[0.1,\"#c51b7d\"],[0.2,\"#de77ae\"],[0.3,\"#f1b6da\"],[0.4,\"#fde0ef\"],[0.5,\"#f7f7f7\"],[0.6,\"#e6f5d0\"],[0.7,\"#b8e186\"],[0.8,\"#7fbc41\"],[0.9,\"#4d9221\"],[1,\"#276419\"]]},\"xaxis\":{\"gridcolor\":\"white\",\"linecolor\":\"white\",\"ticks\":\"\",\"title\":{\"standoff\":15},\"zerolinecolor\":\"white\",\"automargin\":true,\"zerolinewidth\":2},\"yaxis\":{\"gridcolor\":\"white\",\"linecolor\":\"white\",\"ticks\":\"\",\"title\":{\"standoff\":15},\"zerolinecolor\":\"white\",\"automargin\":true,\"zerolinewidth\":2},\"scene\":{\"xaxis\":{\"backgroundcolor\":\"#E5ECF6\",\"gridcolor\":\"white\",\"linecolor\":\"white\",\"showbackground\":true,\"ticks\":\"\",\"zerolinecolor\":\"white\",\"gridwidth\":2},\"yaxis\":{\"backgroundcolor\":\"#E5ECF6\",\"gridcolor\":\"white\",\"linecolor\":\"white\",\"showbackground\":true,\"ticks\":\"\",\"zerolinecolor\":\"white\",\"gridwidth\":2},\"zaxis\":{\"backgroundcolor\":\"#E5ECF6\",\"gridcolor\":\"white\",\"linecolor\":\"white\",\"showbackground\":true,\"ticks\":\"\",\"zerolinecolor\":\"white\",\"gridwidth\":2}},\"shapedefaults\":{\"line\":{\"color\":\"#2a3f5f\"}},\"annotationdefaults\":{\"arrowcolor\":\"#2a3f5f\",\"arrowhead\":0,\"arrowwidth\":1},\"geo\":{\"bgcolor\":\"white\",\"landcolor\":\"#E5ECF6\",\"subunitcolor\":\"white\",\"showland\":true,\"showlakes\":true,\"lakecolor\":\"white\"},\"title\":{\"x\":0.05},\"mapbox\":{\"style\":\"light\"}}},\"coloraxis\":{\"colorbar\":{\"title\":{\"text\":\"Desconto_%\"}},\"colorscale\":[[0.0,\"#d3d3d3\"],[0.5,\"#ffffff\"],[1.0,\"#1f77b4\"]]},\"legend\":{\"tracegroupgap\":0},\"title\":{\"text\":\"Desconto Médio por Categoria e Marca\"},\"height\":800},                        {\"responsive\": true}                    ).then(function(){\n",
       "                            \n",
       "var gd = document.getElementById('7b29fbf0-2ccb-4261-a6c2-25656d027170');\n",
       "var x = new MutationObserver(function (mutations, observer) {{\n",
       "        var display = window.getComputedStyle(gd).display;\n",
       "        if (!display || display === 'none') {{\n",
       "            console.log([gd, 'removed!']);\n",
       "            Plotly.purge(gd);\n",
       "            observer.disconnect();\n",
       "        }}\n",
       "}});\n",
       "\n",
       "// Listen for the removal of the full notebook cells\n",
       "var notebookContainer = gd.closest('#notebook-container');\n",
       "if (notebookContainer) {{\n",
       "    x.observe(notebookContainer, {childList: true});\n",
       "}}\n",
       "\n",
       "// Listen for the clearing of the current output cell\n",
       "var outputEl = gd.closest('.output');\n",
       "if (outputEl) {{\n",
       "    x.observe(outputEl, {childList: true});\n",
       "}}\n",
       "\n",
       "                        })                };                });            </script>        </div>"
      ]
     },
     "metadata": {},
     "output_type": "display_data"
    }
   ],
   "source": [
    "# Agrupando os dados\n",
    "desconto_por_categoria_marca = df.groupby(['Categoria', 'Marca'])['Desconto_%'].mean().reset_index()\n",
    "\n",
    "# Criando o treemap com escala de cor personalizada\n",
    "fig = px.treemap(\n",
    "    desconto_por_categoria_marca,\n",
    "    path=['Categoria', 'Marca'],\n",
    "    values='Desconto_%',\n",
    "    color='Desconto_%',\n",
    "    title='Desconto Médio por Categoria e Marca',\n",
    "    color_continuous_scale=[\n",
    "        '#d3d3d3',  # Cinza claro (pouco desconto)\n",
    "        '#ffffff',  # Branco (desconto médio)\n",
    "        '#1f77b4'   # Azul escuro (muito desconto)\n",
    "    ],\n",
    "    height=800  # Aumenta a altura do gráfico (pode ajustar para 600, 1000, etc.)\n",
    ")\n",
    "\n",
    "\n",
    "fig.show()\n",
    "\n",
    "# fig.write_html(\"treemap_interativo.html\")\n",
    "# fig.write_image(\"treemap_desconto.pdf\")\n",
    "# fig.write_image(\"treemap_desconto.png\")\n",
    "\n"
   ]
  },
  {
   "cell_type": "code",
   "execution_count": null,
   "metadata": {},
   "outputs": [],
   "source": []
  }
 ],
 "metadata": {
  "colab": {
   "provenance": []
  },
  "kernelspec": {
   "display_name": "Python [conda env:base] *",
   "language": "python",
   "name": "conda-base-py"
  },
  "language_info": {
   "codemirror_mode": {
    "name": "ipython",
    "version": 3
   },
   "file_extension": ".py",
   "mimetype": "text/x-python",
   "name": "python",
   "nbconvert_exporter": "python",
   "pygments_lexer": "ipython3",
   "version": "3.13.5"
  }
 },
 "nbformat": 4,
 "nbformat_minor": 4
}
