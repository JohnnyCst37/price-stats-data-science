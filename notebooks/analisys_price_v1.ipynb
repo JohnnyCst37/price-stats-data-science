{
 "cells": [
  {
   "cell_type": "code",
   "execution_count": 12,
   "id": "d07c1660-e2ff-41e7-97fd-9d664a2d4f99",
   "metadata": {},
   "outputs": [],
   "source": [
    "from pathlib import Path\n",
    "import seaborn as sns\n",
    "import pandas as pd\n",
    "import numpy as np\n",
    "import plotly.express as px\n",
    "import matplotlib.pyplot as plt\n",
    "import re\n",
    "import os\n",
    "\n",
    "\n",
    "def load_and_clean_data(filepath):\n",
    "    # Usa Path para garantir compatibilidade multiplataforma\n",
    "    filepath = Path(filepath)\n",
    "\n",
    "    # Verifica se o arquivo existe\n",
    "    if not filepath.exists():\n",
    "        raise FileNotFoundError(f\"Arquivo não encontrado: {filepath}\")\n",
    "\n",
    "    # Carrega o dataset\n",
    "    df = pd.read_csv(filepath)\n",
    "    print('Dataset loaded successfully.')\n",
    "    print('First 10 rows:\\n', df.head(10).to_string())\n",
    "\n",
    "    # Inspeção inicial\n",
    "    print('Initial Check:')\n",
    "    print(df.head().to_string())\n",
    "    print(df.tail().to_string())\n",
    "    df.info()\n",
    "    print(df.dtypes)\n",
    "\n",
    "    # Converte preço de centavos para reais\n",
    "    if 'Preco_Normal' in df.columns:\n",
    "        df['Preco_R$'] = df['Preco_Normal'] / 100\n",
    "    else:\n",
    "        raise KeyError(\"Coluna 'Preco_Normal' não encontrada no CSV.\")\n",
    "\n",
    "    # Extrai quantidade de unidades da coluna título pois existe produtos packs descritos no título.\n",
    "    # A verificação é apenas comparativa para verificar diferenças entre o preço original e o tratado como unidades.\n",
    "    # Apesar da atividade não cobrar tratamentos essa foi uma prática mínima de veirifcação.\n",
    "    # Contudo estamos cientes que num arquivo desconhecido devemos elaborar um set de limpeza que cubra todas as situações.\n",
    "    \n",
    "    if 'title' in df.columns:\n",
    "        df['Unidades'] = df['title'].str.extract(r'Pack (\\d+) un').astype(float)\n",
    "    else:\n",
    "        raise KeyError(\"Coluna 'title' não encontrada no CSV.\")\n",
    "\n",
    "    # Preenche valores ausentes com 1\n",
    "    df['Unidades'] = df['Unidades'].fillna(1).astype(int)\n",
    "\n",
    "    # Remove linhas com preço zero ou nulo\n",
    "    df = df[(df['Preco_R$'] != 0) & (df['Preco_R$'].notna())]\n",
    "\n",
    "    # Calcula preço unitário\n",
    "    df['Preco_Unitario'] = df['Preco_R$'] / df['Unidades']\n",
    "\n",
    "    # Análise de valores nulos\n",
    "    print('Null Value Analysis:')\n",
    "    print(df.isnull().sum())\n",
    "    print((df.isnull().mean() * 100).round(2))\n",
    "\n",
    "    # Checagem final\n",
    "    print(df.head().to_string())\n",
    "    print(df.tail().to_string())\n",
    "    df.info()\n",
    "\n",
    "    # Valores únicos e estatísticas\n",
    "    print('Unique Values:\\n', df.nunique())\n",
    "    print('Descriptive Statistics:\\n', df.describe())\n",
    "\n",
    "    return df\n"
   ]
  },
  {
   "cell_type": "code",
   "execution_count": 5,
   "id": "9ffd54c5-79d1-4864-b984-251638bfbe80",
   "metadata": {},
   "outputs": [
    {
     "name": "stdout",
     "output_type": "stream",
     "text": [
      "Dataset loaded successfully.\n",
      "First 10 rows:\n",
      "                                               title       Marca  Preco_Normal  Preco_Desconto  Preco_Anterior  Desconto Categoria\n",
      "0              Pack 12 un, Leche extra proteína 1 L  Loncoleche         19788               0               0         0   lacteos\n",
      "1   Pack 12 un, Leche chocolate receta original 1 L     Soprole         18228               0               0         0   lacteos\n",
      "2    Pack 12 un, Leche semidescremada chocolate 1 L     Soprole         18228               0               0         0   lacteos\n",
      "3     Pack 12 un, Leche semidescremada frutilla 1 L     Soprole         18228               0               0         0   lacteos\n",
      "4       Pack 12 un, Leche sin lactosa chocolate 1 L  Loncoleche         17988               0               0         0   lacteos\n",
      "5        Pack 12 un, Leche sin lactosa frutilla 1 L  Loncoleche         17988               0               0         0   lacteos\n",
      "6  Pack 12 un, Leche saborizada light chocolate 1 L  Loncoleche         17988               0               0         0   lacteos\n",
      "7         Pack 12 un, Leche saborizada frutilla 1 L       Colun         17388               0               0         0   lacteos\n",
      "8         Pack 12 un, Leche saborizada vainilla 1 L       Colun         17388               0               0         0   lacteos\n",
      "9           Pack 12 un, Leche saborizada manjar 1 L       Colun         17388               0               0         0   lacteos\n",
      "Initial Check:\n",
      "                                             title       Marca  Preco_Normal  Preco_Desconto  Preco_Anterior  Desconto Categoria\n",
      "0             Pack 12 un, Leche extra proteína 1 L  Loncoleche         19788               0               0         0   lacteos\n",
      "1  Pack 12 un, Leche chocolate receta original 1 L     Soprole         18228               0               0         0   lacteos\n",
      "2   Pack 12 un, Leche semidescremada chocolate 1 L     Soprole         18228               0               0         0   lacteos\n",
      "3    Pack 12 un, Leche semidescremada frutilla 1 L     Soprole         18228               0               0         0   lacteos\n",
      "4      Pack 12 un, Leche sin lactosa chocolate 1 L  Loncoleche         17988               0               0         0   lacteos\n",
      "                                                 title    Marca  Preco_Normal  Preco_Desconto  Preco_Anterior  Desconto                   Categoria\n",
      "1102                  Helado bresler pote cassata 2,4l  Bresler             0            4359            5449      1090                  congelados\n",
      "1103   Helado Trisabor chocolate lúcuma y manjar 2,4 L  Bresler             0            4359            5449      1090                  congelados\n",
      "1104            Shampoo Reconstrucción Completa 400 ml     Dove             0            2690            3849      1159  belleza-y-cuidado-personal\n",
      "1105         Acondicionador Hidratación Intensa 400 ml     Dove             0            2690            3849      1159  belleza-y-cuidado-personal\n",
      "1106  Leche en Polvo Nido Forticrece Sin lactosa 1440g     Nido             0           14550           18899      4349                     lacteos\n",
      "<class 'pandas.core.frame.DataFrame'>\n",
      "RangeIndex: 1107 entries, 0 to 1106\n",
      "Data columns (total 7 columns):\n",
      " #   Column          Non-Null Count  Dtype \n",
      "---  ------          --------------  ----- \n",
      " 0   title           1107 non-null   object\n",
      " 1   Marca           1107 non-null   object\n",
      " 2   Preco_Normal    1107 non-null   int64 \n",
      " 3   Preco_Desconto  1107 non-null   int64 \n",
      " 4   Preco_Anterior  1107 non-null   int64 \n",
      " 5   Desconto        1107 non-null   int64 \n",
      " 6   Categoria       1107 non-null   object\n",
      "dtypes: int64(4), object(3)\n",
      "memory usage: 60.7+ KB\n",
      "title             object\n",
      "Marca             object\n",
      "Preco_Normal       int64\n",
      "Preco_Desconto     int64\n",
      "Preco_Anterior     int64\n",
      "Desconto           int64\n",
      "Categoria         object\n",
      "dtype: object\n",
      "Null Value Analysis:\n",
      "title             0\n",
      "Marca             0\n",
      "Preco_Normal      0\n",
      "Preco_Desconto    0\n",
      "Preco_Anterior    0\n",
      "Desconto          0\n",
      "Categoria         0\n",
      "Preco_R$          0\n",
      "Unidades          0\n",
      "Preco_Unitario    0\n",
      "dtype: int64\n",
      "title             0.0\n",
      "Marca             0.0\n",
      "Preco_Normal      0.0\n",
      "Preco_Desconto    0.0\n",
      "Preco_Anterior    0.0\n",
      "Desconto          0.0\n",
      "Categoria         0.0\n",
      "Preco_R$          0.0\n",
      "Unidades          0.0\n",
      "Preco_Unitario    0.0\n",
      "dtype: float64\n",
      "                                             title       Marca  Preco_Normal  Preco_Desconto  Preco_Anterior  Desconto Categoria  Preco_R$  Unidades  Preco_Unitario\n",
      "0             Pack 12 un, Leche extra proteína 1 L  Loncoleche         19788               0               0         0   lacteos    197.88        12           16.49\n",
      "1  Pack 12 un, Leche chocolate receta original 1 L     Soprole         18228               0               0         0   lacteos    182.28        12           15.19\n",
      "2   Pack 12 un, Leche semidescremada chocolate 1 L     Soprole         18228               0               0         0   lacteos    182.28        12           15.19\n",
      "3    Pack 12 un, Leche semidescremada frutilla 1 L     Soprole         18228               0               0         0   lacteos    182.28        12           15.19\n",
      "4      Pack 12 un, Leche sin lactosa chocolate 1 L  Loncoleche         17988               0               0         0   lacteos    179.88        12           14.99\n",
      "                                             title    Marca  Preco_Normal  Preco_Desconto  Preco_Anterior  Desconto Categoria  Preco_R$  Unidades  Preco_Unitario\n",
      "808             Yoghurt batido sabor damasco 120 g  Soprole           229               0               0         0   lacteos      2.29         1            2.29\n",
      "809           Yoghurt batido sabor frambuesa 120 g  Soprole           229               0               0         0   lacteos      2.29         1            2.29\n",
      "810   Yoghurt batido semidescremado vainilla 120 g    Calan           209               0               0         0   lacteos      2.09         1            2.09\n",
      "811   Yoghurt batido semidescremado frutilla 120 g    Calan           209               0               0         0   lacteos      2.09         1            2.09\n",
      "812  Yoghurt batido semidescremado chirimoya 120 g    Calan           209               0               0         0   lacteos      2.09         1            2.09\n",
      "<class 'pandas.core.frame.DataFrame'>\n",
      "Index: 813 entries, 0 to 812\n",
      "Data columns (total 10 columns):\n",
      " #   Column          Non-Null Count  Dtype  \n",
      "---  ------          --------------  -----  \n",
      " 0   title           813 non-null    object \n",
      " 1   Marca           813 non-null    object \n",
      " 2   Preco_Normal    813 non-null    int64  \n",
      " 3   Preco_Desconto  813 non-null    int64  \n",
      " 4   Preco_Anterior  813 non-null    int64  \n",
      " 5   Desconto        813 non-null    int64  \n",
      " 6   Categoria       813 non-null    object \n",
      " 7   Preco_R$        813 non-null    float64\n",
      " 8   Unidades        813 non-null    int64  \n",
      " 9   Preco_Unitario  813 non-null    float64\n",
      "dtypes: float64(2), int64(5), object(3)\n",
      "memory usage: 69.9+ KB\n",
      "Unique Values:\n",
      " title             781\n",
      "Marca             127\n",
      "Preco_Normal      360\n",
      "Preco_Desconto      1\n",
      "Preco_Anterior      1\n",
      "Desconto            1\n",
      "Categoria           7\n",
      "Preco_R$          360\n",
      "Unidades            7\n",
      "Preco_Unitario    349\n",
      "dtype: int64\n",
      "Descriptive Statistics:\n",
      "        Preco_Normal  Preco_Desconto  Preco_Anterior  Desconto    Preco_R$  \\\n",
      "count    813.000000           813.0           813.0     813.0  813.000000   \n",
      "mean    2819.918819             0.0             0.0       0.0   28.199188   \n",
      "std     3135.210940             0.0             0.0       0.0   31.352109   \n",
      "min      209.000000             0.0             0.0       0.0    2.090000   \n",
      "25%      990.000000             0.0             0.0       0.0    9.900000   \n",
      "50%     1890.000000             0.0             0.0       0.0   18.900000   \n",
      "75%     3290.000000             0.0             0.0       0.0   32.900000   \n",
      "max    19788.000000             0.0             0.0       0.0  197.880000   \n",
      "\n",
      "         Unidades  Preco_Unitario  \n",
      "count  813.000000      813.000000  \n",
      "mean     1.706027       21.572302  \n",
      "std      2.395794       19.663586  \n",
      "min      1.000000        2.090000  \n",
      "25%      1.000000        8.490000  \n",
      "50%      1.000000       15.890000  \n",
      "75%      1.000000       29.990000  \n",
      "max     12.000000      167.990000  \n"
     ]
    }
   ],
   "source": [
    "# Uitlizando a Função acima\n",
    "os.chdir(r\"C:/Users/ferna/price-analysis-chile\") # Granti encontrar o arquivo\n",
    "df = load_and_clean_data(r\"C:\\Users\\ferna\\price-analysis-chile\\data\\raw\\MODULO7_PROJETOFINAL_BASE_SUPERMERCADO.csv\")\n"
   ]
  },
  {
   "cell_type": "markdown",
   "id": "91f4734f-a095-4da6-a56f-2741ab7df6f9",
   "metadata": {},
   "source": [
    "# Análise Estatística por Categoria"
   ]
  },
  {
   "cell_type": "code",
   "execution_count": 6,
   "id": "db365a65-ca4b-4b86-b3f5-98f4d4b1c0b9",
   "metadata": {},
   "outputs": [
    {
     "name": "stdout",
     "output_type": "stream",
     "text": [
      "Categorias únicas: ['lacteos' 'belleza-y-cuidado-personal' 'congelados' 'frutas'\n",
      " 'comidas-preparadas' 'verduras' 'instantaneos-y-sopas']\n"
     ]
    }
   ],
   "source": [
    "categorias_unicas = df['Categoria'].unique()\n",
    "print('Categorias únicas:', categorias_unicas)"
   ]
  },
  {
   "cell_type": "code",
   "execution_count": 14,
   "id": "86ec107d-a140-4b0c-a5a1-a9927efee154",
   "metadata": {},
   "outputs": [
    {
     "data": {
      "text/html": [
       "<div>\n",
       "<style scoped>\n",
       "    .dataframe tbody tr th:only-of-type {\n",
       "        vertical-align: middle;\n",
       "    }\n",
       "\n",
       "    .dataframe tbody tr th {\n",
       "        vertical-align: top;\n",
       "    }\n",
       "\n",
       "    .dataframe thead th {\n",
       "        text-align: right;\n",
       "    }\n",
       "</style>\n",
       "<table border=\"1\" class=\"dataframe\">\n",
       "  <thead>\n",
       "    <tr style=\"text-align: right;\">\n",
       "      <th></th>\n",
       "      <th>Categoria</th>\n",
       "      <th>title</th>\n",
       "    </tr>\n",
       "  </thead>\n",
       "  <tbody>\n",
       "    <tr>\n",
       "      <th>5</th>\n",
       "      <td>lacteos</td>\n",
       "      <td>352</td>\n",
       "    </tr>\n",
       "    <tr>\n",
       "      <th>2</th>\n",
       "      <td>congelados</td>\n",
       "      <td>164</td>\n",
       "    </tr>\n",
       "    <tr>\n",
       "      <th>0</th>\n",
       "      <td>belleza-y-cuidado-personal</td>\n",
       "      <td>146</td>\n",
       "    </tr>\n",
       "    <tr>\n",
       "      <th>6</th>\n",
       "      <td>verduras</td>\n",
       "      <td>59</td>\n",
       "    </tr>\n",
       "    <tr>\n",
       "      <th>4</th>\n",
       "      <td>instantaneos-y-sopas</td>\n",
       "      <td>37</td>\n",
       "    </tr>\n",
       "    <tr>\n",
       "      <th>1</th>\n",
       "      <td>comidas-preparadas</td>\n",
       "      <td>36</td>\n",
       "    </tr>\n",
       "    <tr>\n",
       "      <th>3</th>\n",
       "      <td>frutas</td>\n",
       "      <td>19</td>\n",
       "    </tr>\n",
       "  </tbody>\n",
       "</table>\n",
       "</div>"
      ],
      "text/plain": [
       "                    Categoria  title\n",
       "5                     lacteos    352\n",
       "2                  congelados    164\n",
       "0  belleza-y-cuidado-personal    146\n",
       "6                    verduras     59\n",
       "4        instantaneos-y-sopas     37\n",
       "1          comidas-preparadas     36\n",
       "3                      frutas     19"
      ]
     },
     "execution_count": 14,
     "metadata": {},
     "output_type": "execute_result"
    }
   ],
   "source": [
    "df.groupby('Categoria')['title'].count().reset_index().sort_values(by='title', ascending=False)"
   ]
  },
  {
   "cell_type": "markdown",
   "id": "70489aec-aa8c-499d-b902-a081db7dd96f",
   "metadata": {},
   "source": [
    "# Estatística Básica"
   ]
  },
  {
   "cell_type": "code",
   "execution_count": 15,
   "id": "fb32f1dc-b402-4ae4-b63a-ea7dccb938e4",
   "metadata": {},
   "outputs": [
    {
     "name": "stdout",
     "output_type": "stream",
     "text": [
      "Análise de Dados Únicos: \n",
      " title             781\n",
      "Marca             127\n",
      "Preco_Normal      360\n",
      "Preco_Desconto      1\n",
      "Preco_Anterior      1\n",
      "Desconto            1\n",
      "Categoria           7\n",
      "Preco_R$          360\n",
      "Unidades            7\n",
      "Preco_Unitario    349\n",
      "dtype: int64\n"
     ]
    }
   ],
   "source": [
    "print('Análise de Dados Únicos: \\n', df.nunique())\n",
    "df.columns = df.columns.str.strip()"
   ]
  },
  {
   "cell_type": "markdown",
   "id": "b7d65109-8b0b-4582-97d5-bc26c1f955ed",
   "metadata": {},
   "source": [
    "# Média Pro Categoria"
   ]
  },
  {
   "cell_type": "code",
   "execution_count": 16,
   "id": "5fea995c-8da7-45d1-8ca8-1d19d967f8fd",
   "metadata": {},
   "outputs": [
    {
     "data": {
      "text/html": [
       "<div>\n",
       "<style scoped>\n",
       "    .dataframe tbody tr th:only-of-type {\n",
       "        vertical-align: middle;\n",
       "    }\n",
       "\n",
       "    .dataframe tbody tr th {\n",
       "        vertical-align: top;\n",
       "    }\n",
       "\n",
       "    .dataframe thead th {\n",
       "        text-align: right;\n",
       "    }\n",
       "</style>\n",
       "<table border=\"1\" class=\"dataframe\">\n",
       "  <thead>\n",
       "    <tr style=\"text-align: right;\">\n",
       "      <th></th>\n",
       "      <th>Preco_Unitario</th>\n",
       "      <th>Preco_R$</th>\n",
       "    </tr>\n",
       "    <tr>\n",
       "      <th>Categoria</th>\n",
       "      <th></th>\n",
       "      <th></th>\n",
       "    </tr>\n",
       "  </thead>\n",
       "  <tbody>\n",
       "    <tr>\n",
       "      <th>belleza-y-cuidado-personal</th>\n",
       "      <td>28.84</td>\n",
       "      <td>29.20</td>\n",
       "    </tr>\n",
       "    <tr>\n",
       "      <th>comidas-preparadas</th>\n",
       "      <td>39.55</td>\n",
       "      <td>39.55</td>\n",
       "    </tr>\n",
       "    <tr>\n",
       "      <th>congelados</th>\n",
       "      <td>30.21</td>\n",
       "      <td>30.21</td>\n",
       "    </tr>\n",
       "    <tr>\n",
       "      <th>frutas</th>\n",
       "      <td>17.24</td>\n",
       "      <td>17.24</td>\n",
       "    </tr>\n",
       "    <tr>\n",
       "      <th>instantaneos-y-sopas</th>\n",
       "      <td>11.79</td>\n",
       "      <td>11.79</td>\n",
       "    </tr>\n",
       "    <tr>\n",
       "      <th>lacteos</th>\n",
       "      <td>15.13</td>\n",
       "      <td>30.29</td>\n",
       "    </tr>\n",
       "    <tr>\n",
       "      <th>verduras</th>\n",
       "      <td>14.57</td>\n",
       "      <td>14.57</td>\n",
       "    </tr>\n",
       "  </tbody>\n",
       "</table>\n",
       "</div>"
      ],
      "text/plain": [
       "                            Preco_Unitario  Preco_R$\n",
       "Categoria                                           \n",
       "belleza-y-cuidado-personal           28.84     29.20\n",
       "comidas-preparadas                   39.55     39.55\n",
       "congelados                           30.21     30.21\n",
       "frutas                               17.24     17.24\n",
       "instantaneos-y-sopas                 11.79     11.79\n",
       "lacteos                              15.13     30.29\n",
       "verduras                             14.57     14.57"
      ]
     },
     "execution_count": 16,
     "metadata": {},
     "output_type": "execute_result"
    }
   ],
   "source": [
    "df.groupby('Categoria').agg({'Preco_Unitario': 'mean','Preco_R$': 'mean'}).round(2)"
   ]
  },
  {
   "cell_type": "markdown",
   "id": "28b3956a-d6a1-4d33-a3fe-f54db13a5ba1",
   "metadata": {},
   "source": [
    "# Mediana Por Categoria"
   ]
  },
  {
   "cell_type": "code",
   "execution_count": 18,
   "id": "037a4cf0-798a-4c28-85bd-5c2349c4e30c",
   "metadata": {},
   "outputs": [
    {
     "data": {
      "text/html": [
       "<div>\n",
       "<style scoped>\n",
       "    .dataframe tbody tr th:only-of-type {\n",
       "        vertical-align: middle;\n",
       "    }\n",
       "\n",
       "    .dataframe tbody tr th {\n",
       "        vertical-align: top;\n",
       "    }\n",
       "\n",
       "    .dataframe thead th {\n",
       "        text-align: right;\n",
       "    }\n",
       "</style>\n",
       "<table border=\"1\" class=\"dataframe\">\n",
       "  <thead>\n",
       "    <tr style=\"text-align: right;\">\n",
       "      <th></th>\n",
       "      <th>Preco_Unitario</th>\n",
       "      <th>Preco_R$</th>\n",
       "    </tr>\n",
       "    <tr>\n",
       "      <th>Categoria</th>\n",
       "      <th></th>\n",
       "      <th></th>\n",
       "    </tr>\n",
       "  </thead>\n",
       "  <tbody>\n",
       "    <tr>\n",
       "      <th>belleza-y-cuidado-personal</th>\n",
       "      <td>20.99</td>\n",
       "      <td>21.79</td>\n",
       "    </tr>\n",
       "    <tr>\n",
       "      <th>comidas-preparadas</th>\n",
       "      <td>37.40</td>\n",
       "      <td>37.40</td>\n",
       "    </tr>\n",
       "    <tr>\n",
       "      <th>congelados</th>\n",
       "      <td>29.54</td>\n",
       "      <td>29.54</td>\n",
       "    </tr>\n",
       "    <tr>\n",
       "      <th>frutas</th>\n",
       "      <td>11.95</td>\n",
       "      <td>11.95</td>\n",
       "    </tr>\n",
       "    <tr>\n",
       "      <th>instantaneos-y-sopas</th>\n",
       "      <td>6.89</td>\n",
       "      <td>6.89</td>\n",
       "    </tr>\n",
       "    <tr>\n",
       "      <th>lacteos</th>\n",
       "      <td>9.89</td>\n",
       "      <td>17.20</td>\n",
       "    </tr>\n",
       "    <tr>\n",
       "      <th>verduras</th>\n",
       "      <td>12.50</td>\n",
       "      <td>12.50</td>\n",
       "    </tr>\n",
       "  </tbody>\n",
       "</table>\n",
       "</div>"
      ],
      "text/plain": [
       "                            Preco_Unitario  Preco_R$\n",
       "Categoria                                           \n",
       "belleza-y-cuidado-personal           20.99     21.79\n",
       "comidas-preparadas                   37.40     37.40\n",
       "congelados                           29.54     29.54\n",
       "frutas                               11.95     11.95\n",
       "instantaneos-y-sopas                  6.89      6.89\n",
       "lacteos                               9.89     17.20\n",
       "verduras                             12.50     12.50"
      ]
     },
     "execution_count": 18,
     "metadata": {},
     "output_type": "execute_result"
    }
   ],
   "source": [
    "df.groupby('Categoria').agg({'Preco_Unitario': 'median','Preco_R$': 'median'}).round(2)"
   ]
  },
  {
   "cell_type": "markdown",
   "id": "08b3afb2-f4c3-4f97-9050-98bfed3410ac",
   "metadata": {},
   "source": [
    "# Desvio padrão por categoria"
   ]
  },
  {
   "cell_type": "code",
   "execution_count": 19,
   "id": "72e958e5-4cf9-4016-87a0-9ea8f888fada",
   "metadata": {},
   "outputs": [
    {
     "data": {
      "text/html": [
       "<div>\n",
       "<style scoped>\n",
       "    .dataframe tbody tr th:only-of-type {\n",
       "        vertical-align: middle;\n",
       "    }\n",
       "\n",
       "    .dataframe tbody tr th {\n",
       "        vertical-align: top;\n",
       "    }\n",
       "\n",
       "    .dataframe thead th {\n",
       "        text-align: right;\n",
       "    }\n",
       "</style>\n",
       "<table border=\"1\" class=\"dataframe\">\n",
       "  <thead>\n",
       "    <tr style=\"text-align: right;\">\n",
       "      <th></th>\n",
       "      <th>Preco_Unitario</th>\n",
       "      <th>Preco_R$</th>\n",
       "    </tr>\n",
       "    <tr>\n",
       "      <th>Categoria</th>\n",
       "      <th></th>\n",
       "      <th></th>\n",
       "    </tr>\n",
       "  </thead>\n",
       "  <tbody>\n",
       "    <tr>\n",
       "      <th>belleza-y-cuidado-personal</th>\n",
       "      <td>21.67</td>\n",
       "      <td>21.63</td>\n",
       "    </tr>\n",
       "    <tr>\n",
       "      <th>comidas-preparadas</th>\n",
       "      <td>13.22</td>\n",
       "      <td>13.22</td>\n",
       "    </tr>\n",
       "    <tr>\n",
       "      <th>congelados</th>\n",
       "      <td>19.04</td>\n",
       "      <td>19.04</td>\n",
       "    </tr>\n",
       "    <tr>\n",
       "      <th>frutas</th>\n",
       "      <td>16.39</td>\n",
       "      <td>16.39</td>\n",
       "    </tr>\n",
       "    <tr>\n",
       "      <th>instantaneos-y-sopas</th>\n",
       "      <td>12.76</td>\n",
       "      <td>12.76</td>\n",
       "    </tr>\n",
       "    <tr>\n",
       "      <th>lacteos</th>\n",
       "      <td>17.82</td>\n",
       "      <td>41.99</td>\n",
       "    </tr>\n",
       "    <tr>\n",
       "      <th>verduras</th>\n",
       "      <td>9.72</td>\n",
       "      <td>9.72</td>\n",
       "    </tr>\n",
       "  </tbody>\n",
       "</table>\n",
       "</div>"
      ],
      "text/plain": [
       "                            Preco_Unitario  Preco_R$\n",
       "Categoria                                           \n",
       "belleza-y-cuidado-personal           21.67     21.63\n",
       "comidas-preparadas                   13.22     13.22\n",
       "congelados                           19.04     19.04\n",
       "frutas                               16.39     16.39\n",
       "instantaneos-y-sopas                 12.76     12.76\n",
       "lacteos                              17.82     41.99\n",
       "verduras                              9.72      9.72"
      ]
     },
     "execution_count": 19,
     "metadata": {},
     "output_type": "execute_result"
    }
   ],
   "source": [
    "df.groupby('Categoria').agg({'Preco_Unitario': 'std','Preco_R$': 'std'}).round(2)"
   ]
  },
  {
   "cell_type": "markdown",
   "id": "cfca203e-90d3-4b81-a461-7d1890b6a1dc",
   "metadata": {},
   "source": [
    "# Boxplot de preços da categoria \"lacteos\""
   ]
  },
  {
   "cell_type": "code",
   "execution_count": 22,
   "id": "f227bc96-314a-4617-9bf7-1643fea6d32d",
   "metadata": {},
   "outputs": [
    {
     "data": {
      "image/png": "[encoded data removed]",
      "text/plain": [
       "<Figure size 800x600 with 1 Axes>"
      ]
     },
     "metadata": {},
     "output_type": "display_data"
    }
   ],
   "source": [
    "plt.figure(figsize=(8, 6))\n",
    "plt.boxplot(df[df['Categoria'] == 'lacteos']['Preco_R$'])\n",
    "plt.title('Boxplot - Categoria Lácteos', fontsize=16)\n",
    "plt.ylabel('Preço (R$)', fontsize=12)\n",
    "plt.grid(True, linestyle='--', alpha=0.7)\n",
    "plt.savefig(r\"C:\\Users\\ferna\\price-analysis-chile\\img\\blox01.png\", dpi=300)\n",
    "plt.show()"
   ]
  },
  {
   "cell_type": "markdown",
   "id": "6e773780-9871-45ff-a99a-7c3f53579721",
   "metadata": {},
   "source": [
    "# Boxplot comparativo (Preço Normal vs Unitário)"
   ]
  },
  {
   "cell_type": "code",
   "execution_count": 24,
   "id": "eaf9596d-e5e2-4f6a-9d67-ecedb94eaa84",
   "metadata": {},
   "outputs": [
    {
     "data": {
      "image/png": "[encoded data removed]",
      "text/plain": [
       "<Figure size 800x600 with 1 Axes>"
      ]
     },
     "metadata": {},
     "output_type": "display_data"
    }
   ],
   "source": [
    "lacteos_df = df[df['Categoria'].str.lower().str.strip() == 'lacteos']\n",
    "\n",
    "plt.figure(figsize=(8, 6))\n",
    "plt.boxplot([\n",
    "    lacteos_df['Preco_R$'].dropna(),\n",
    "    lacteos_df['Preco_Unitario'].dropna()\n",
    "])\n",
    "plt.xticks([1, 2], ['Preço (R$)', 'Preço Unitário (R$)'])\n",
    "plt.title('Boxplot - Categoria Lácteos', fontsize=16)\n",
    "plt.ylabel('Preço (R$)', fontsize=12)\n",
    "plt.grid(True, linestyle='--', alpha=0.7)\n",
    "plt.savefig(r\"C:\\Users\\ferna\\price-analysis-chile\\img\\blox02.png\", dpi=300)\n",
    "plt.show()"
   ]
  },
  {
   "cell_type": "markdown",
   "id": "481cda47-7b18-486f-b0e7-b13d1226b2f8",
   "metadata": {},
   "source": [
    "# Criar coluna de desconto*"
   ]
  },
  {
   "cell_type": "markdown",
   "id": "dc540b6d-c8e4-413d-ab29-b11c03826d22",
   "metadata": {},
   "source": [
    "* A coluna Desconto estava em branco no arquivo original. Então para fins didáticos adicionamos valores fictícios."
   ]
  },
  {
   "cell_type": "code",
   "execution_count": 7,
   "id": "d4f9e70b-24d1-4af2-8d2e-48e0d852e8b6",
   "metadata": {},
   "outputs": [
    {
     "name": "stdout",
     "output_type": "stream",
     "text": [
      "Análise de Dados Únicos: \n",
      " title             781\n",
      "Marca             127\n",
      "Preco_Normal      360\n",
      "Preco_Desconto    741\n",
      "Preco_Anterior      1\n",
      "Desconto            1\n",
      "Categoria           7\n",
      "Preco_R$          360\n",
      "Unidades            7\n",
      "Preco_Unitario    349\n",
      "Desconto_%        571\n",
      "dtype: int64\n"
     ]
    }
   ],
   "source": [
    "# Criar coluna com descontos aleatórios entre 5% e 15%\n",
    "df['Desconto_%'] = np.random.uniform(5, 15, size=len(df)).round(2)\n",
    "\n",
    "# Aplicar o desconto sobre o Preço Normal\n",
    "df['Preco_Desconto'] = (df['Preco_R$'] * (1 - df['Desconto_%'] / 100)).round(2)\n",
    "\n",
    "print('Análise de Dados Únicos: \\n', df.nunique())\n",
    "df.groupby('Categoria')['Preco_Desconto'].mean().round(2)\n",
    "\n",
    "\n",
    "media = df['Desconto_%'].mean()"
   ]
  },
  {
   "cell_type": "code",
   "execution_count": 8,
   "id": "182367d7-b4ce-44ed-8acd-3e4b40009c61",
   "metadata": {},
   "outputs": [
    {
     "ename": "NameError",
     "evalue": "name 'plt' is not defined",
     "output_type": "error",
     "traceback": [
      "\u001b[1;31m---------------------------------------------------------------------------\u001b[0m",
      "\u001b[1;31mNameError\u001b[0m                                 Traceback (most recent call last)",
      "Cell \u001b[1;32mIn[8], line 2\u001b[0m\n\u001b[0;32m      1\u001b[0m sns\u001b[38;5;241m.\u001b[39mkdeplot(df[\u001b[38;5;124m'\u001b[39m\u001b[38;5;124mDesconto_\u001b[39m\u001b[38;5;124m%\u001b[39m\u001b[38;5;124m'\u001b[39m], fill\u001b[38;5;241m=\u001b[39m\u001b[38;5;28;01mTrue\u001b[39;00m, color\u001b[38;5;241m=\u001b[39m\u001b[38;5;124m'\u001b[39m\u001b[38;5;124mpurple\u001b[39m\u001b[38;5;124m'\u001b[39m)\n\u001b[1;32m----> 2\u001b[0m plt\u001b[38;5;241m.\u001b[39mtitle(\u001b[38;5;124m'\u001b[39m\u001b[38;5;124mDistribuição de Descontos (\u001b[39m\u001b[38;5;124m%\u001b[39m\u001b[38;5;124m)\u001b[39m\u001b[38;5;124m'\u001b[39m)\n\u001b[0;32m      3\u001b[0m plt\u001b[38;5;241m.\u001b[39mxlabel(\u001b[38;5;124m'\u001b[39m\u001b[38;5;124mDesconto (\u001b[39m\u001b[38;5;124m%\u001b[39m\u001b[38;5;124m)\u001b[39m\u001b[38;5;124m'\u001b[39m)\n\u001b[0;32m      4\u001b[0m plt\u001b[38;5;241m.\u001b[39mylabel(\u001b[38;5;124m'\u001b[39m\u001b[38;5;124mDensidade\u001b[39m\u001b[38;5;124m'\u001b[39m)\n",
      "\u001b[1;31mNameError\u001b[0m: name 'plt' is not defined"
     ]
    },
    {
     "data": {
      "image/png": "[encoded data removed]",
      "text/plain": [
       "<Figure size 640x480 with 1 Axes>"
      ]
     },
     "metadata": {},
     "output_type": "display_data"
    }
   ],
   "source": [
    "sns.kdeplot(df['Desconto_%'], fill=True, color='purple')\n",
    "plt.title('Distribuição de Descontos (%)')\n",
    "plt.xlabel('Desconto (%)')\n",
    "plt.ylabel('Densidade')\n",
    "plt.grid(True, linestyle='--', alpha=0.6)\n",
    "plt.savefig(r\"C:\\Users\\ferna\\price-analysis-chile\\img\\dens01.png\", dpi=300)\n",
    "plt.show()"
   ]
  },
  {
   "cell_type": "code",
   "execution_count": 13,
   "id": "274e28da-e874-493b-a9ad-a91407a24220",
   "metadata": {},
   "outputs": [
    {
     "data": {
      "image/png": "[encoded data removed]",
      "text/plain": [
       "<Figure size 640x480 with 1 Axes>"
      ]
     },
     "metadata": {},
     "output_type": "display_data"
    }
   ],
   "source": [
    "sns.barplot(data=df, x='Categoria', y='Desconto_%', estimator='mean', errorbar=None,\n",
    "            hue='Categoria', legend=False, palette='viridis')\n",
    "plt.title('Média de Desconto por Categoria')\n",
    "plt.ylabel('Desconto Médio (%)')\n",
    "plt.xticks(rotation=45)\n",
    "plt.grid(True, linestyle='--', alpha=0.6)\n",
    "plt.savefig(r\"C:\\Users\\ferna\\price-analysis-chile\\img\\dens.png\", dpi=300)\n",
    "plt.show()"
   ]
  },
  {
   "cell_type": "markdown",
   "id": "24ca34e7-bbee-4d1f-a609-ab87967dd14b",
   "metadata": {},
   "source": [
    "# Gráfico de barras por categoria"
   ]
  },
  {
   "cell_type": "code",
   "execution_count": 14,
   "id": "47e6f031-34f1-4562-8514-378fa1bd8b02",
   "metadata": {},
   "outputs": [
    {
     "data": {
      "application/vnd.plotly.v1+json": {
       "config": {
        "plotlyServerURL": "https://plot.ly"
       },
       "data": [
        {
         "branchvalues": "total",
         "customdata": {
          "bdata": "7+7u7u7uIUAK16NwPQojQOxRuB6F6ydAZ2ZmZmZmJUBcj8L1KDwhQB+F61G4HhZAUrgehevRKEAfhetRuF4jQBSuR+F6FBRAZ2ZmZmZmG0BwPQrXo7AhQBSuR+F6FBpAj8L1KFyPIkCiRbbz/VQkQDCW/GLJzyRArkfhehTOIEDD9Shcj8IkQDMzMzMzMylAcT0K16OwJUDWo3A9CtcoQML1KFyPIitACtejcD0KKkD8YskvlvwhQK5H4XoULh1AcD0K16NwIkAzMzMzM/MmQLkehetRuBhA7FG4HoVrIEDotIFOG2gqQNAuIDaVhiNA6ZM+6ZM+JUCamZmZmRksQLgehetRCCVA4XoUrkfhHkDMzMzMzMwpQFK4HoXrUSNAcT0K16PwKkCkcD0K16MpQD4K16NwjSJA9yhcj8L1J0DC9Shcj6IhQB+F61G4XiNAG+i0gU7bIkB7FK5H4XohQKiDOqiDuiVArkfhehSuGEB/seQXS/4gQD0K16NwPSVAUrgehetRJUDYo3A9CtcmQJDC9Shczy1ArkfhehSuGkCkcD0K16MaQJ020GkDnSRAKssQx7o4IUBwPQrXo/AmQKKyw9Tl9iFAK77iK75iJEC4HoXrUTggQJMLmtqrAiVA1KBtOgfUIUBpA5020GklQHoUrkfh+idAw/UoXI/CG0B7FK5H4fohQKcNdNpAJyNA4XoUrkfhFUDbQKcNdNoiQG2g0wY6bSVAavqhph/qI0Bcj8L1KNwpQDbiXyP+NSRAMzMzMzMzHEBcj8L1KLwhQI/C9ShcjyhAk18s+cUSJEB7FK5H4forQDoH1KBtuiRAAAAAAAAAF0ApXI/C9agpQM3MzMzMTCVAexSuR+F6K0B2vp8aL10kQGZmZmZm5ixAXI/C9SicJkCRc59dQOwjQPcoXI/C9RdAeWMEE/0dJ0CPwvUoXM8mQN9PjZdukiVAhetRuB4FJEAzMzMzMzMbQCW/WPKLJRtARERERETEI0CerJY3RjAiQN3d3d3d3SVAMzMzMzMzGEATrkfhelQoQDMzMzMzMxtAaMFtaStdI0AyMzMzM7MoQHE9CtejcBZACpzACZxAIkC1gU4b6DQlQLgehetRuBxApHA9CtcjKkDNzMzMzMwtQFyPwvUonCFAZmZmZmbmJkBpyLnPLmAjQDMzMzMzcyBA9ihcj8L1KEDD9Shcj8IsQFyPwvUoHCRAF2zBFmzBI0BSuB6F61EkQPcoXI/C1SdA5DiO4zgOI0CF61G4HgUrQFyPwvUoXCJAj8L1KFyPGUACvnk18SwiQAAAAAAAACJAPQrXo3A9GkBI4XoUrscqQGZmZmZmZipAKVyPwvUoIkAUrkfhepQqQHsUrkfheh5AY8kvlvzSJEBI4XoUrockQIdEFSHeriVA7+7u7u7uJEDXo3A9ChcjQEjhehSupyBAfBSuR+F6J0A/0xH7js0jQG2g0wY6bSVAe01LGocZJUBHtQ1Z0E0lQIG2/fpjBiRANZBtUsAUJUAmNzt28/8mQL25yQ2z+yRALUPiN8GsJUA=",
          "dtype": "f8",
          "shape": "145, 1"
         },
         "domain": {
          "x": [
           0,
           1
          ],
          "y": [
           0,
           1
          ]
         },
         "hovertemplate": "labels=%{label}<br>Desconto_%_sum=%{value}<br>parent=%{parent}<br>id=%{id}<br>Desconto_%=%{color}<extra></extra>",
         "ids": [
          "belleza-y-cuidado-personal/Always",
          "belleza-y-cuidado-personal/Aquafresh",
          "belleza-y-cuidado-personal/Babyland",
          "belleza-y-cuidado-personal/Ballerina",
          "belleza-y-cuidado-personal/Bellekiss",
          "belleza-y-cuidado-personal/Brooks",
          "belleza-y-cuidado-personal/Carefree",
          "belleza-y-cuidado-personal/Colgate",
          "belleza-y-cuidado-personal/Cotosan",
          "belleza-y-cuidado-personal/Dento",
          "belleza-y-cuidado-personal/Dove",
          "belleza-y-cuidado-personal/Dove Men",
          "belleza-y-cuidado-personal/Duralón",
          "belleza-y-cuidado-personal/Elvive",
          "belleza-y-cuidado-personal/Familand",
          "belleza-y-cuidado-personal/Family Care",
          "belleza-y-cuidado-personal/Fructis",
          "belleza-y-cuidado-personal/Garnier",
          "belleza-y-cuidado-personal/Gillette",
          "belleza-y-cuidado-personal/Giselle",
          "belleza-y-cuidado-personal/Head & Shoulders",
          "belleza-y-cuidado-personal/Ilicit",
          "belleza-y-cuidado-personal/Kotex",
          "belleza-y-cuidado-personal/Lady Speed Stick",
          "belleza-y-cuidado-personal/Ladysoft",
          "belleza-y-cuidado-personal/Le Sancy",
          "belleza-y-cuidado-personal/Linic",
          "belleza-y-cuidado-personal/Listerine",
          "belleza-y-cuidado-personal/Naturella",
          "belleza-y-cuidado-personal/Nivea",
          "belleza-y-cuidado-personal/Nosotras",
          "belleza-y-cuidado-personal/Old Spice",
          "belleza-y-cuidado-personal/Oral-B",
          "belleza-y-cuidado-personal/Pantene",
          "belleza-y-cuidado-personal/Pepsodent",
          "belleza-y-cuidado-personal/Plenitud",
          "belleza-y-cuidado-personal/Protex",
          "belleza-y-cuidado-personal/Schick",
          "belleza-y-cuidado-personal/Simond'S",
          "belleza-y-cuidado-personal/Speed Stick",
          "belleza-y-cuidado-personal/Tena",
          "belleza-y-cuidado-personal/Trianon",
          "comidas-preparadas/Bredenmaster",
          "comidas-preparadas/Corbac",
          "comidas-preparadas/Cuisine & Co",
          "comidas-preparadas/La Crianza",
          "comidas-preparadas/PF",
          "comidas-preparadas/Rana",
          "comidas-preparadas/Sadia",
          "comidas-preparadas/Santa Isabel",
          "comidas-preparadas/Solo Italia",
          "congelados/Alimentos Shen",
          "congelados/Bravissimo",
          "congelados/Bresler",
          "congelados/Cuisine & Co",
          "congelados/Fiesta",
          "congelados/Frutos Del Maipo",
          "congelados/Guallarauco",
          "congelados/King",
          "congelados/La Crianza",
          "congelados/Minuto Verde",
          "congelados/Mister Veggie",
          "congelados/Not Chicken",
          "congelados/PF",
          "congelados/Receta Del Abuelo",
          "congelados/Rikü",
          "congelados/Rock",
          "congelados/Sadia",
          "congelados/Sahne Nuss",
          "congelados/San Francisco De Loncomilla",
          "congelados/San Jorge",
          "congelados/Savory",
          "congelados/Super Cerdo",
          "congelados/Super Pollo",
          "congelados/Tivoni",
          "congelados/Turkey Hill",
          "congelados/Zole",
          "frutas/Frutas Y Verduras Propias",
          "frutas/Frutas Y Verduras Santa Isabel",
          "frutas/Sofruco",
          "instantaneos-y-sopas/Alcafood",
          "instantaneos-y-sopas/Carozzi",
          "instantaneos-y-sopas/Cuisine & Co",
          "instantaneos-y-sopas/Gourmet",
          "instantaneos-y-sopas/Hoffmann",
          "instantaneos-y-sopas/Maggi",
          "instantaneos-y-sopas/Máxima MP",
          "instantaneos-y-sopas/Naturezza",
          "instantaneos-y-sopas/Santa Isabel",
          "lacteos/Activia",
          "lacteos/Astra",
          "lacteos/Base Culinar",
          "lacteos/Bonella",
          "lacteos/Calan",
          "lacteos/Calo",
          "lacteos/Chamyto",
          "lacteos/Chiquitín",
          "lacteos/Cintazul",
          "lacteos/Collico",
          "lacteos/Colun",
          "lacteos/Copacabana",
          "lacteos/Crucina",
          "lacteos/Cuisine & Co",
          "lacteos/Danone",
          "lacteos/Deline",
          "lacteos/Ideal",
          "lacteos/Kumey",
          "lacteos/Lefersa",
          "lacteos/Light & Free",
          "lacteos/Loncoleche",
          "lacteos/Los Alerces",
          "lacteos/Marco Polo",
          "lacteos/Máxima MP",
          "lacteos/Nesquik",
          "lacteos/Nestlé",
          "lacteos/Next",
          "lacteos/Nido",
          "lacteos/Oikos",
          "lacteos/Omega 3",
          "lacteos/Pamperita",
          "lacteos/Qualy",
          "lacteos/Quillayes",
          "lacteos/Regimel",
          "lacteos/Sahne Nuss",
          "lacteos/San Ignacio",
          "lacteos/Santa Isabel",
          "lacteos/Santa Marta",
          "lacteos/Shake A Shake Lonco Leche",
          "lacteos/Signore Mario",
          "lacteos/Soprole",
          "lacteos/Sureña",
          "lacteos/Surlat",
          "lacteos/Svelty",
          "lacteos/Yogu - Yogu",
          "lacteos/Zerolacto",
          "verduras/Agrosano",
          "verduras/Frutas Y Verduras Propias",
          "verduras/Jumbo",
          "belleza-y-cuidado-personal",
          "comidas-preparadas",
          "congelados",
          "frutas",
          "instantaneos-y-sopas",
          "lacteos",
          "verduras"
         ],
         "labels": [
          "Always",
          "Aquafresh",
          "Babyland",
          "Ballerina",
          "Bellekiss",
          "Brooks",
          "Carefree",
          "Colgate",
          "Cotosan",
          "Dento",
          "Dove",
          "Dove Men",
          "Duralón",
          "Elvive",
          "Familand",
          "Family Care",
          "Fructis",
          "Garnier",
          "Gillette",
          "Giselle",
          "Head & Shoulders",
          "Ilicit",
          "Kotex",
          "Lady Speed Stick",
          "Ladysoft",
          "Le Sancy",
          "Linic",
          "Listerine",
          "Naturella",
          "Nivea",
          "Nosotras",
          "Old Spice",
          "Oral-B",
          "Pantene",
          "Pepsodent",
          "Plenitud",
          "Protex",
          "Schick",
          "Simond'S",
          "Speed Stick",
          "Tena",
          "Trianon",
          "Bredenmaster",
          "Corbac",
          "Cuisine & Co",
          "La Crianza",
          "PF",
          "Rana",
          "Sadia",
          "Santa Isabel",
          "Solo Italia",
          "Alimentos Shen",
          "Bravissimo",
          "Bresler",
          "Cuisine & Co",
          "Fiesta",
          "Frutos Del Maipo",
          "Guallarauco",
          "King",
          "La Crianza",
          "Minuto Verde",
          "Mister Veggie",
          "Not Chicken",
          "PF",
          "Receta Del Abuelo",
          "Rikü",
          "Rock",
          "Sadia",
          "Sahne Nuss",
          "San Francisco De Loncomilla",
          "San Jorge",
          "Savory",
          "Super Cerdo",
          "Super Pollo",
          "Tivoni",
          "Turkey Hill",
          "Zole",
          "Frutas Y Verduras Propias",
          "Frutas Y Verduras Santa Isabel",
          "Sofruco",
          "Alcafood",
          "Carozzi",
          "Cuisine & Co",
          "Gourmet",
          "Hoffmann",
          "Maggi",
          "Máxima MP",
          "Naturezza",
          "Santa Isabel",
          "Activia",
          "Astra",
          "Base Culinar",
          "Bonella",
          "Calan",
          "Calo",
          "Chamyto",
          "Chiquitín",
          "Cintazul",
          "Collico",
          "Colun",
          "Copacabana",
          "Crucina",
          "Cuisine & Co",
          "Danone",
          "Deline",
          "Ideal",
          "Kumey",
          "Lefersa",
          "Light & Free",
          "Loncoleche",
          "Los Alerces",
          "Marco Polo",
          "Máxima MP",
          "Nesquik",
          "Nestlé",
          "Next",
          "Nido",
          "Oikos",
          "Omega 3",
          "Pamperita",
          "Qualy",
          "Quillayes",
          "Regimel",
          "Sahne Nuss",
          "San Ignacio",
          "Santa Isabel",
          "Santa Marta",
          "Shake A Shake Lonco Leche",
          "Signore Mario",
          "Soprole",
          "Sureña",
          "Surlat",
          "Svelty",
          "Yogu - Yogu",
          "Zerolacto",
          "Agrosano",
          "Frutas Y Verduras Propias",
          "Jumbo",
          "belleza-y-cuidado-personal",
          "comidas-preparadas",
          "congelados",
          "frutas",
          "instantaneos-y-sopas",
          "lacteos",
          "verduras"
         ],
         "marker": {
          "coloraxis": "coloraxis",
          "colors": {
           "bdata": "7+7u7u7uIUAK16NwPQojQOxRuB6F6ydAZ2ZmZmZmJUBcj8L1KDwhQB+F61G4HhZAUrgehevRKEAfhetRuF4jQBSuR+F6FBRAZ2ZmZmZmG0BwPQrXo7AhQBSuR+F6FBpAj8L1KFyPIkCiRbbz/VQkQDCW/GLJzyRArkfhehTOIEDD9Shcj8IkQDMzMzMzMylAcT0K16OwJUDWo3A9CtcoQML1KFyPIitACtejcD0KKkD8YskvlvwhQK5H4XoULh1AcD0K16NwIkAzMzMzM/MmQLkehetRuBhA7FG4HoVrIEDotIFOG2gqQNAuIDaVhiNA6ZM+6ZM+JUCamZmZmRksQLgehetRCCVA4XoUrkfhHkDMzMzMzMwpQFK4HoXrUSNAcT0K16PwKkCkcD0K16MpQD4K16NwjSJA9yhcj8L1J0DC9Shcj6IhQB+F61G4XiNAG+i0gU7bIkB7FK5H4XohQKiDOqiDuiVArkfhehSuGEB/seQXS/4gQD0K16NwPSVAUrgehetRJUDYo3A9CtcmQJDC9Shczy1ArkfhehSuGkCkcD0K16MaQJ020GkDnSRAKssQx7o4IUBwPQrXo/AmQKKyw9Tl9iFAK77iK75iJEC4HoXrUTggQJMLmtqrAiVA1KBtOgfUIUBpA5020GklQHoUrkfh+idAw/UoXI/CG0B7FK5H4fohQKcNdNpAJyNA4XoUrkfhFUDbQKcNdNoiQG2g0wY6bSVAavqhph/qI0Bcj8L1KNwpQDbiXyP+NSRAMzMzMzMzHEBcj8L1KLwhQI/C9ShcjyhAk18s+cUSJEB7FK5H4forQDoH1KBtuiRAAAAAAAAAF0ApXI/C9agpQM3MzMzMTCVAexSuR+F6K0B2vp8aL10kQGZmZmZm5ixAXI/C9SicJkCRc59dQOwjQPcoXI/C9RdAeWMEE/0dJ0CPwvUoXM8mQN9PjZdukiVAhetRuB4FJEAzMzMzMzMbQCW/WPKLJRtARERERETEI0CerJY3RjAiQN3d3d3d3SVAMzMzMzMzGEATrkfhelQoQDMzMzMzMxtAaMFtaStdI0AyMzMzM7MoQHE9CtejcBZACpzACZxAIkC1gU4b6DQlQLgehetRuBxApHA9CtcjKkDNzMzMzMwtQFyPwvUonCFAZmZmZmbmJkBpyLnPLmAjQDMzMzMzcyBA9ihcj8L1KEDD9Shcj8IsQFyPwvUoHCRAF2zBFmzBI0BSuB6F61EkQPcoXI/C1SdA5DiO4zgOI0CF61G4HgUrQFyPwvUoXCJAj8L1KFyPGUACvnk18SwiQAAAAAAAACJAPQrXo3A9GkBI4XoUrscqQGZmZmZmZipAKVyPwvUoIkAUrkfhepQqQHsUrkfheh5AY8kvlvzSJEBI4XoUrockQIdEFSHeriVA7+7u7u7uJEDXo3A9ChcjQEjhehSupyBAfBSuR+F6J0A/0xH7js0jQG2g0wY6bSVAe01LGocZJUBHtQ1Z0E0lQIG2/fpjBiRANZBtUsAUJUAmNzt28/8mQL25yQ2z+yRALUPiN8GsJUA=",
           "dtype": "f8"
          }
         },
         "name": "",
         "parents": [
          "belleza-y-cuidado-personal",
          "belleza-y-cuidado-personal",
          "belleza-y-cuidado-personal",
          "belleza-y-cuidado-personal",
          "belleza-y-cuidado-personal",
          "belleza-y-cuidado-personal",
          "belleza-y-cuidado-personal",
          "belleza-y-cuidado-personal",
          "belleza-y-cuidado-personal",
          "belleza-y-cuidado-personal",
          "belleza-y-cuidado-personal",
          "belleza-y-cuidado-personal",
          "belleza-y-cuidado-personal",
          "belleza-y-cuidado-personal",
          "belleza-y-cuidado-personal",
          "belleza-y-cuidado-personal",
          "belleza-y-cuidado-personal",
          "belleza-y-cuidado-personal",
          "belleza-y-cuidado-personal",
          "belleza-y-cuidado-personal",
          "belleza-y-cuidado-personal",
          "belleza-y-cuidado-personal",
          "belleza-y-cuidado-personal",
          "belleza-y-cuidado-personal",
          "belleza-y-cuidado-personal",
          "belleza-y-cuidado-personal",
          "belleza-y-cuidado-personal",
          "belleza-y-cuidado-personal",
          "belleza-y-cuidado-personal",
          "belleza-y-cuidado-personal",
          "belleza-y-cuidado-personal",
          "belleza-y-cuidado-personal",
          "belleza-y-cuidado-personal",
          "belleza-y-cuidado-personal",
          "belleza-y-cuidado-personal",
          "belleza-y-cuidado-personal",
          "belleza-y-cuidado-personal",
          "belleza-y-cuidado-personal",
          "belleza-y-cuidado-personal",
          "belleza-y-cuidado-personal",
          "belleza-y-cuidado-personal",
          "belleza-y-cuidado-personal",
          "comidas-preparadas",
          "comidas-preparadas",
          "comidas-preparadas",
          "comidas-preparadas",
          "comidas-preparadas",
          "comidas-preparadas",
          "comidas-preparadas",
          "comidas-preparadas",
          "comidas-preparadas",
          "congelados",
          "congelados",
          "congelados",
          "congelados",
          "congelados",
          "congelados",
          "congelados",
          "congelados",
          "congelados",
          "congelados",
          "congelados",
          "congelados",
          "congelados",
          "congelados",
          "congelados",
          "congelados",
          "congelados",
          "congelados",
          "congelados",
          "congelados",
          "congelados",
          "congelados",
          "congelados",
          "congelados",
          "congelados",
          "congelados",
          "frutas",
          "frutas",
          "frutas",
          "instantaneos-y-sopas",
          "instantaneos-y-sopas",
          "instantaneos-y-sopas",
          "instantaneos-y-sopas",
          "instantaneos-y-sopas",
          "instantaneos-y-sopas",
          "instantaneos-y-sopas",
          "instantaneos-y-sopas",
          "instantaneos-y-sopas",
          "lacteos",
          "lacteos",
          "lacteos",
          "lacteos",
          "lacteos",
          "lacteos",
          "lacteos",
          "lacteos",
          "lacteos",
          "lacteos",
          "lacteos",
          "lacteos",
          "lacteos",
          "lacteos",
          "lacteos",
          "lacteos",
          "lacteos",
          "lacteos",
          "lacteos",
          "lacteos",
          "lacteos",
          "lacteos",
          "lacteos",
          "lacteos",
          "lacteos",
          "lacteos",
          "lacteos",
          "lacteos",
          "lacteos",
          "lacteos",
          "lacteos",
          "lacteos",
          "lacteos",
          "lacteos",
          "lacteos",
          "lacteos",
          "lacteos",
          "lacteos",
          "lacteos",
          "lacteos",
          "lacteos",
          "lacteos",
          "lacteos",
          "lacteos",
          "lacteos",
          "lacteos",
          "verduras",
          "verduras",
          "verduras",
          "",
          "",
          "",
          "",
          "",
          "",
          ""
         ],
         "type": "treemap",
         "values": {
          "bdata": "7+7u7u7uIUAK16NwPQojQOxRuB6F6ydAZ2ZmZmZmJUBcj8L1KDwhQB+F61G4HhZAUrgehevRKEAfhetRuF4jQBSuR+F6FBRAZ2ZmZmZmG0BwPQrXo7AhQBSuR+F6FBpAj8L1KFyPIkCiRbbz/VQkQDCW/GLJzyRArkfhehTOIEDD9Shcj8IkQDMzMzMzMylAcT0K16OwJUDXo3A9CtcoQML1KFyPIitACtejcD0KKkD8YskvlvwhQK5H4XoULh1AcD0K16NwIkAzMzMzM/MmQLgehetRuBhA7FG4HoVrIEDotIFOG2gqQNAuIDaVhiNA6ZM+6ZM+JUCamZmZmRksQLgehetRCCVA4XoUrkfhHkDNzMzMzMwpQFK4HoXrUSNAcT0K16PwKkCkcD0K16MpQD4K16NwjSJA9ihcj8L1J0DC9Shcj6IhQB+F61G4XiNAG+i0gU7bIkB7FK5H4XohQKiDOqiDuiVArkfhehSuGEB/seQXS/4gQD0K16NwPSVAUrgehetRJUDXo3A9CtcmQJDC9Shczy1ArkfhehSuGkCkcD0K16MaQJ020GkDnSRAKssQx7o4IUBxPQrXo/AmQKKyw9Tl9iFAK77iK75iJEC4HoXrUTggQJMLmtqrAiVA1KBtOgfUIUBpA5020GklQHsUrkfh+idAw/UoXI/CG0B7FK5H4fohQKcNdNpAJyNA4XoUrkfhFUDbQKcNdNoiQG2g0wY6bSVAavqhph/qI0Bcj8L1KNwpQDbiXyP+NSRAMzMzMzMzHEBcj8L1KLwhQI/C9ShcjyhAk18s+cUSJEB7FK5H4forQDoH1KBtuiRAAAAAAAAAF0ApXI/C9agpQM3MzMzMTCVAexSuR+F6K0B2vp8aL10kQGZmZmZm5ixAXI/C9SicJkCRc59dQOwjQPYoXI/C9RdAeWMEE/0dJ0CPwvUoXM8mQN9PjZdukiVAhetRuB4FJEAzMzMzMzMbQCW/WPKLJRtARERERETEI0CerJY3RjAiQN3d3d3d3SVAMzMzMzMzGEAUrkfhelQoQDMzMzMzMxtAaMFtaStdI0AzMzMzM7MoQHE9CtejcBZACpzACZxAIkC1gU4b6DQlQLgehetRuBxApHA9CtcjKkDNzMzMzMwtQFyPwvUonCFAZmZmZmbmJkBpyLnPLmAjQDMzMzMzcyBA9ihcj8L1KEDD9Shcj8IsQFyPwvUoHCRAF2zBFmzBI0BSuB6F61EkQPYoXI/C1SdA5DiO4zgOI0CF61G4HgUrQFyPwvUoXCJAj8L1KFyPGUACvnk18SwiQAAAAAAAACJAPQrXo3A9GkBI4XoUrscqQGZmZmZmZipAKVyPwvUoIkAUrkfhepQqQHsUrkfheh5AY8kvlvzSJEBI4XoUrockQIdEFSHeriVA7+7u7u7uJEDXo3A9ChcjQEjhehSupyBAexSuR+F6J0A/0xH7js0jQG2g0wY6bSVAh+zcfBVZekDR38lqedNWQGhX6qt3Lm9AsrGxsbHxPEByaJHtfM9YQDcLmUn8qHxACuJkkmotQEA=",
          "dtype": "f8"
         }
        }
       ],
       "layout": {
        "coloraxis": {
         "colorbar": {
          "title": {
           "text": "Desconto_%"
          }
         },
         "colorscale": [
          [
           0,
           "#d3d3d3"
          ],
          [
           0.5,
           "#ffffff"
          ],
          [
           1,
           "#1f77b4"
          ]
         ]
        },
        "height": 800,
        "legend": {
         "tracegroupgap": 0
        },
        "template": {
         "data": {
          "bar": [
           {
            "error_x": {
             "color": "#2a3f5f"
            },
            "error_y": {
             "color": "#2a3f5f"
            },
            "marker": {
             "line": {
              "color": "#E5ECF6",
              "width": 0.5
             },
             "pattern": {
              "fillmode": "overlay",
              "size": 10,
              "solidity": 0.2
             }
            },
            "type": "bar"
           }
          ],
          "barpolar": [
           {
            "marker": {
             "line": {
              "color": "#E5ECF6",
              "width": 0.5
             },
             "pattern": {
              "fillmode": "overlay",
              "size": 10,
              "solidity": 0.2
             }
            },
            "type": "barpolar"
           }
          ],
          "carpet": [
           {
            "aaxis": {
             "endlinecolor": "#2a3f5f",
             "gridcolor": "white",
             "linecolor": "white",
             "minorgridcolor": "white",
             "startlinecolor": "#2a3f5f"
            },
            "baxis": {
             "endlinecolor": "#2a3f5f",
             "gridcolor": "white",
             "linecolor": "white",
             "minorgridcolor": "white",
             "startlinecolor": "#2a3f5f"
            },
            "type": "carpet"
           }
          ],
          "choropleth": [
           {
            "colorbar": {
             "outlinewidth": 0,
             "ticks": ""
            },
            "type": "choropleth"
           }
          ],
          "contour": [
           {
            "colorbar": {
             "outlinewidth": 0,
             "ticks": ""
            },
            "colorscale": [
             [
              0,
              "#0d0887"
             ],
             [
              0.1111111111111111,
              "#46039f"
             ],
             [
              0.2222222222222222,
              "#7201a8"
             ],
             [
              0.3333333333333333,
              "#9c179e"
             ],
             [
              0.4444444444444444,
              "#bd3786"
             ],
             [
              0.5555555555555556,
              "#d8576b"
             ],
             [
              0.6666666666666666,
              "#ed7953"
             ],
             [
              0.7777777777777778,
              "#fb9f3a"
             ],
             [
              0.8888888888888888,
              "#fdca26"
             ],
             [
              1,
              "#f0f921"
             ]
            ],
            "type": "contour"
           }
          ],
          "contourcarpet": [
           {
            "colorbar": {
             "outlinewidth": 0,
             "ticks": ""
            },
            "type": "contourcarpet"
           }
          ],
          "heatmap": [
           {
            "colorbar": {
             "outlinewidth": 0,
             "ticks": ""
            },
            "colorscale": [
             [
              0,
              "#0d0887"
             ],
             [
              0.1111111111111111,
              "#46039f"
             ],
             [
              0.2222222222222222,
              "#7201a8"
             ],
             [
              0.3333333333333333,
              "#9c179e"
             ],
             [
              0.4444444444444444,
              "#bd3786"
             ],
             [
              0.5555555555555556,
              "#d8576b"
             ],
             [
              0.6666666666666666,
              "#ed7953"
             ],
             [
              0.7777777777777778,
              "#fb9f3a"
             ],
             [
              0.8888888888888888,
              "#fdca26"
             ],
             [
              1,
              "#f0f921"
             ]
            ],
            "type": "heatmap"
           }
          ],
          "histogram": [
           {
            "marker": {
             "pattern": {
              "fillmode": "overlay",
              "size": 10,
              "solidity": 0.2
             }
            },
            "type": "histogram"
           }
          ],
          "histogram2d": [
           {
            "colorbar": {
             "outlinewidth": 0,
             "ticks": ""
            },
            "colorscale": [
             [
              0,
              "#0d0887"
             ],
             [
              0.1111111111111111,
              "#46039f"
             ],
             [
              0.2222222222222222,
              "#7201a8"
             ],
             [
              0.3333333333333333,
              "#9c179e"
             ],
             [
              0.4444444444444444,
              "#bd3786"
             ],
             [
              0.5555555555555556,
              "#d8576b"
             ],
             [
              0.6666666666666666,
              "#ed7953"
             ],
             [
              0.7777777777777778,
              "#fb9f3a"
             ],
             [
              0.8888888888888888,
              "#fdca26"
             ],
             [
              1,
              "#f0f921"
             ]
            ],
            "type": "histogram2d"
           }
          ],
          "histogram2dcontour": [
           {
            "colorbar": {
             "outlinewidth": 0,
             "ticks": ""
            },
            "colorscale": [
             [
              0,
              "#0d0887"
             ],
             [
              0.1111111111111111,
              "#46039f"
             ],
             [
              0.2222222222222222,
              "#7201a8"
             ],
             [
              0.3333333333333333,
              "#9c179e"
             ],
             [
              0.4444444444444444,
              "#bd3786"
             ],
             [
              0.5555555555555556,
              "#d8576b"
             ],
             [
              0.6666666666666666,
              "#ed7953"
             ],
             [
              0.7777777777777778,
              "#fb9f3a"
             ],
             [
              0.8888888888888888,
              "#fdca26"
             ],
             [
              1,
              "#f0f921"
             ]
            ],
            "type": "histogram2dcontour"
           }
          ],
          "mesh3d": [
           {
            "colorbar": {
             "outlinewidth": 0,
             "ticks": ""
            },
            "type": "mesh3d"
           }
          ],
          "parcoords": [
           {
            "line": {
             "colorbar": {
              "outlinewidth": 0,
              "ticks": ""
             }
            },
            "type": "parcoords"
           }
          ],
          "pie": [
           {
            "automargin": true,
            "type": "pie"
           }
          ],
          "scatter": [
           {
            "fillpattern": {
             "fillmode": "overlay",
             "size": 10,
             "solidity": 0.2
            },
            "type": "scatter"
           }
          ],
          "scatter3d": [
           {
            "line": {
             "colorbar": {
              "outlinewidth": 0,
              "ticks": ""
             }
            },
            "marker": {
             "colorbar": {
              "outlinewidth": 0,
              "ticks": ""
             }
            },
            "type": "scatter3d"
           }
          ],
          "scattercarpet": [
           {
            "marker": {
             "colorbar": {
              "outlinewidth": 0,
              "ticks": ""
             }
            },
            "type": "scattercarpet"
           }
          ],
          "scattergeo": [
           {
            "marker": {
             "colorbar": {
              "outlinewidth": 0,
              "ticks": ""
             }
            },
            "type": "scattergeo"
           }
          ],
          "scattergl": [
           {
            "marker": {
             "colorbar": {
              "outlinewidth": 0,
              "ticks": ""
             }
            },
            "type": "scattergl"
           }
          ],
          "scattermap": [
           {
            "marker": {
             "colorbar": {
              "outlinewidth": 0,
              "ticks": ""
             }
            },
            "type": "scattermap"
           }
          ],
          "scattermapbox": [
           {
            "marker": {
             "colorbar": {
              "outlinewidth": 0,
              "ticks": ""
             }
            },
            "type": "scattermapbox"
           }
          ],
          "scatterpolar": [
           {
            "marker": {
             "colorbar": {
              "outlinewidth": 0,
              "ticks": ""
             }
            },
            "type": "scatterpolar"
           }
          ],
          "scatterpolargl": [
           {
            "marker": {
             "colorbar": {
              "outlinewidth": 0,
              "ticks": ""
             }
            },
            "type": "scatterpolargl"
           }
          ],
          "scatterternary": [
           {
            "marker": {
             "colorbar": {
              "outlinewidth": 0,
              "ticks": ""
             }
            },
            "type": "scatterternary"
           }
          ],
          "surface": [
           {
            "colorbar": {
             "outlinewidth": 0,
             "ticks": ""
            },
            "colorscale": [
             [
              0,
              "#0d0887"
             ],
             [
              0.1111111111111111,
              "#46039f"
             ],
             [
              0.2222222222222222,
              "#7201a8"
             ],
             [
              0.3333333333333333,
              "#9c179e"
             ],
             [
              0.4444444444444444,
              "#bd3786"
             ],
             [
              0.5555555555555556,
              "#d8576b"
             ],
             [
              0.6666666666666666,
              "#ed7953"
             ],
             [
              0.7777777777777778,
              "#fb9f3a"
             ],
             [
              0.8888888888888888,
              "#fdca26"
             ],
             [
              1,
              "#f0f921"
             ]
            ],
            "type": "surface"
           }
          ],
          "table": [
           {
            "cells": {
             "fill": {
              "color": "#EBF0F8"
             },
             "line": {
              "color": "white"
             }
            },
            "header": {
             "fill": {
              "color": "#C8D4E3"
             },
             "line": {
              "color": "white"
             }
            },
            "type": "table"
           }
          ]
         },
         "layout": {
          "annotationdefaults": {
           "arrowcolor": "#2a3f5f",
           "arrowhead": 0,
           "arrowwidth": 1
          },
          "autotypenumbers": "strict",
          "coloraxis": {
           "colorbar": {
            "outlinewidth": 0,
            "ticks": ""
           }
          },
          "colorscale": {
           "diverging": [
            [
             0,
             "#8e0152"
            ],
            [
             0.1,
             "#c51b7d"
            ],
            [
             0.2,
             "#de77ae"
            ],
            [
             0.3,
             "#f1b6da"
            ],
            [
             0.4,
             "#fde0ef"
            ],
            [
             0.5,
             "#f7f7f7"
            ],
            [
             0.6,
             "#e6f5d0"
            ],
            [
             0.7,
             "#b8e186"
            ],
            [
             0.8,
             "#7fbc41"
            ],
            [
             0.9,
             "#4d9221"
            ],
            [
             1,
             "#276419"
            ]
           ],
           "sequential": [
            [
             0,
             "#0d0887"
            ],
            [
             0.1111111111111111,
             "#46039f"
            ],
            [
             0.2222222222222222,
             "#7201a8"
            ],
            [
             0.3333333333333333,
             "#9c179e"
            ],
            [
             0.4444444444444444,
             "#bd3786"
            ],
            [
             0.5555555555555556,
             "#d8576b"
            ],
            [
             0.6666666666666666,
             "#ed7953"
            ],
            [
             0.7777777777777778,
             "#fb9f3a"
            ],
            [
             0.8888888888888888,
             "#fdca26"
            ],
            [
             1,
             "#f0f921"
            ]
           ],
           "sequentialminus": [
            [
             0,
             "#0d0887"
            ],
            [
             0.1111111111111111,
             "#46039f"
            ],
            [
             0.2222222222222222,
             "#7201a8"
            ],
            [
             0.3333333333333333,
             "#9c179e"
            ],
            [
             0.4444444444444444,
             "#bd3786"
            ],
            [
             0.5555555555555556,
             "#d8576b"
            ],
            [
             0.6666666666666666,
             "#ed7953"
            ],
            [
             0.7777777777777778,
             "#fb9f3a"
            ],
            [
             0.8888888888888888,
             "#fdca26"
            ],
            [
             1,
             "#f0f921"
            ]
           ]
          },
          "colorway": [
           "#636efa",
           "#EF553B",
           "#00cc96",
           "#ab63fa",
           "#FFA15A",
           "#19d3f3",
           "#FF6692",
           "#B6E880",
           "#FF97FF",
           "#FECB52"
          ],
          "font": {
           "color": "#2a3f5f"
          },
          "geo": {
           "bgcolor": "white",
           "lakecolor": "white",
           "landcolor": "#E5ECF6",
           "showlakes": true,
           "showland": true,
           "subunitcolor": "white"
          },
          "hoverlabel": {
           "align": "left"
          },
          "hovermode": "closest",
          "mapbox": {
           "style": "light"
          },
          "paper_bgcolor": "white",
          "plot_bgcolor": "#E5ECF6",
          "polar": {
           "angularaxis": {
            "gridcolor": "white",
            "linecolor": "white",
            "ticks": ""
           },
           "bgcolor": "#E5ECF6",
           "radialaxis": {
            "gridcolor": "white",
            "linecolor": "white",
            "ticks": ""
           }
          },
          "scene": {
           "xaxis": {
            "backgroundcolor": "#E5ECF6",
            "gridcolor": "white",
            "gridwidth": 2,
            "linecolor": "white",
            "showbackground": true,
            "ticks": "",
            "zerolinecolor": "white"
           },
           "yaxis": {
            "backgroundcolor": "#E5ECF6",
            "gridcolor": "white",
            "gridwidth": 2,
            "linecolor": "white",
            "showbackground": true,
            "ticks": "",
            "zerolinecolor": "white"
           },
           "zaxis": {
            "backgroundcolor": "#E5ECF6",
            "gridcolor": "white",
            "gridwidth": 2,
            "linecolor": "white",
            "showbackground": true,
            "ticks": "",
            "zerolinecolor": "white"
           }
          },
          "shapedefaults": {
           "line": {
            "color": "#2a3f5f"
           }
          },
          "ternary": {
           "aaxis": {
            "gridcolor": "white",
            "linecolor": "white",
            "ticks": ""
           },
           "baxis": {
            "gridcolor": "white",
            "linecolor": "white",
            "ticks": ""
           },
           "bgcolor": "#E5ECF6",
           "caxis": {
            "gridcolor": "white",
            "linecolor": "white",
            "ticks": ""
           }
          },
          "title": {
           "x": 0.05
          },
          "xaxis": {
           "automargin": true,
           "gridcolor": "white",
           "linecolor": "white",
           "ticks": "",
           "title": {
            "standoff": 15
           },
           "zerolinecolor": "white",
           "zerolinewidth": 2
          },
          "yaxis": {
           "automargin": true,
           "gridcolor": "white",
           "linecolor": "white",
           "ticks": "",
           "title": {
            "standoff": 15
           },
           "zerolinecolor": "white",
           "zerolinewidth": 2
          }
         }
        },
        "title": {
         "text": "Desconto Médio por Categoria e Marca"
        }
       }
      },
      "image/png": "[encoded data removed]"
     },
     "metadata": {},
     "output_type": "display_data"
    }
   ],
   "source": [
    "desconto_por_categoria_marca = df.groupby(['Categoria', 'Marca'])['Desconto_%'].mean().reset_index()\n",
    "\n",
    "fig = px.treemap(\n",
    "    desconto_por_categoria_marca,\n",
    "    path=['Categoria', 'Marca'],\n",
    "    values='Desconto_%',\n",
    "    color='Desconto_%',\n",
    "    title='Desconto Médio por Categoria e Marca',\n",
    "    color_continuous_scale=['#d3d3d3', '#ffffff', '#1f77b4'],\n",
    "    height=800\n",
    ")\n",
    "\n",
    "fig.write_html(\"docs/treemap_interativo.html\")\n",
    "fig.write_image(r\"C:\\Users\\ferna\\price-analysis-chile\\img\\treemap_interativo.png\")\n",
    "fig.show()"
   ]
  },
  {
   "cell_type": "code",
   "execution_count": null,
   "id": "92add5f1-c30f-4034-9cc3-296e617b04e7",
   "metadata": {},
   "outputs": [],
   "source": []
  }
 ],
 "metadata": {
  "kernelspec": {
   "display_name": "Python [conda env:base] *",
   "language": "python",
   "name": "conda-base-py"
  },
  "language_info": {
   "codemirror_mode": {
    "name": "ipython",
    "version": 3
   },
   "file_extension": ".py",
   "mimetype": "text/x-python",
   "name": "python",
   "nbconvert_exporter": "python",
   "pygments_lexer": "ipython3",
   "version": "3.13.5"
  }
 },
 "nbformat": 4,
 "nbformat_minor": 5
}
